{
 "cells": [
  {
   "cell_type": "code",
   "execution_count": 4,
   "metadata": {},
   "outputs": [],
   "source": [
    "import requests\n",
    "from urllib.parse import quote\n",
    "import pandas as pd"
   ]
  },
  {
   "cell_type": "markdown",
   "metadata": {},
   "source": [
    "- api가져오기"
   ]
  },
  {
   "cell_type": "code",
   "execution_count": 5,
   "metadata": {},
   "outputs": [],
   "source": [
    "with open('kakaoapikey.txt') as file:\n",
    "    kakao_key=file.read()\n",
    "    "
   ]
  },
  {
   "cell_type": "code",
   "execution_count": 6,
   "metadata": {},
   "outputs": [
    {
     "data": {
      "text/plain": [
       "32"
      ]
     },
     "execution_count": 6,
     "metadata": {},
     "output_type": "execute_result"
    }
   ],
   "source": [
    "len(kakao_key)"
   ]
  },
  {
   "cell_type": "markdown",
   "metadata": {},
   "source": [
    "- url 만들기"
   ]
  },
  {
   "cell_type": "code",
   "execution_count": 7,
   "metadata": {},
   "outputs": [
    {
     "data": {
      "text/plain": [
       "'https://dapi.kakao.com/v2/local/search/address.json?query=%EC%A0%9C%EC%A3%BC%ED%8A%B9%EB%B3%84%EC%9E%90%EC%B9%98%EB%8F%84%20%EC%A0%9C%EC%A3%BC%EC%8B%9C%20%EC%A1%B0%EC%B2%9C%EC%9D%8D%20%EB%B9%84%EC%9E%90%EB%A6%BC%EB%A1%9C%20768'"
      ]
     },
     "execution_count": 7,
     "metadata": {},
     "output_type": "execute_result"
    }
   ],
   "source": [
    "local_url = \"https://dapi.kakao.com/v2/local/search/address.json\"\n",
    "addr = '제주특별자치도 제주시 조천읍 비자림로 768'\n",
    "url = f'{local_url}?query={quote(addr)}'\n",
    "url"
   ]
  },
  {
   "cell_type": "code",
   "execution_count": 8,
   "metadata": {},
   "outputs": [],
   "source": [
    "# Header : \"Authorization: KakaoAK {REST_API_KEY}\"\n",
    "header = {\"Authorization\": f'KakaoAK {kakao_key}'}"
   ]
  },
  {
   "cell_type": "code",
   "execution_count": 9,
   "metadata": {},
   "outputs": [
    {
     "data": {
      "text/plain": [
       "{'documents': [{'address': {'address_name': '제주특별자치도 제주시 조천읍 교래리 342-2',\n",
       "    'b_code': '5011025929',\n",
       "    'h_code': '5011025900',\n",
       "    'main_address_no': '342',\n",
       "    'mountain_yn': 'N',\n",
       "    'region_1depth_name': '제주특별자치도',\n",
       "    'region_2depth_name': '제주시',\n",
       "    'region_3depth_h_name': '조천읍',\n",
       "    'region_3depth_name': '조천읍 교래리',\n",
       "    'sub_address_no': '2',\n",
       "    'x': '126.688504038171',\n",
       "    'y': '33.4348735442325'},\n",
       "   'address_name': '제주특별자치도 제주시 조천읍 비자림로 768',\n",
       "   'address_type': 'ROAD_ADDR',\n",
       "   'road_address': {'address_name': '제주특별자치도 제주시 조천읍 비자림로 768',\n",
       "    'building_name': '',\n",
       "    'main_building_no': '768',\n",
       "    'region_1depth_name': '제주특별자치도',\n",
       "    'region_2depth_name': '제주시',\n",
       "    'region_3depth_name': '조천읍 교래리',\n",
       "    'road_name': '비자림로',\n",
       "    'sub_building_no': '',\n",
       "    'underground_yn': 'N',\n",
       "    'x': '126.688504038171',\n",
       "    'y': '33.4348735442325',\n",
       "    'zone_no': '63346'},\n",
       "   'x': '126.688504038171',\n",
       "   'y': '33.4348735442325'}],\n",
       " 'meta': {'is_end': True, 'pageable_count': 1, 'total_count': 1}}"
      ]
     },
     "execution_count": 9,
     "metadata": {},
     "output_type": "execute_result"
    }
   ],
   "source": [
    "result = requests.get(url, headers=header).json()\n",
    "result"
   ]
  },
  {
   "cell_type": "code",
   "execution_count": 21,
   "metadata": {},
   "outputs": [
    {
     "data": {
      "text/plain": [
       "(126.688504038171, 33.4348735442325)"
      ]
     },
     "execution_count": 21,
     "metadata": {},
     "output_type": "execute_result"
    }
   ],
   "source": [
    "lng=float(result['documents'][0]['x'])\n",
    "lat=float(result['documents'][0]['y'])\n",
    "lng, lat"
   ]
  },
  {
   "cell_type": "markdown",
   "metadata": {},
   "source": [
    "- 제주명소 데이터프레임에 위도 경도 넣기"
   ]
  },
  {
   "cell_type": "code",
   "execution_count": 22,
   "metadata": {},
   "outputs": [
    {
     "data": {
      "text/html": [
       "<div>\n",
       "<style scoped>\n",
       "    .dataframe tbody tr th:only-of-type {\n",
       "        vertical-align: middle;\n",
       "    }\n",
       "\n",
       "    .dataframe tbody tr th {\n",
       "        vertical-align: top;\n",
       "    }\n",
       "\n",
       "    .dataframe thead th {\n",
       "        text-align: right;\n",
       "    }\n",
       "</style>\n",
       "<table border=\"1\" class=\"dataframe\">\n",
       "  <thead>\n",
       "    <tr style=\"text-align: right;\">\n",
       "      <th></th>\n",
       "      <th>명소</th>\n",
       "      <th>도로명주소</th>\n",
       "    </tr>\n",
       "  </thead>\n",
       "  <tbody>\n",
       "    <tr>\n",
       "      <th>0</th>\n",
       "      <td>산굼부리</td>\n",
       "      <td>제주특별자치도 제주시 조천읍 비자림로 768</td>\n",
       "    </tr>\n",
       "    <tr>\n",
       "      <th>1</th>\n",
       "      <td>거문오름</td>\n",
       "      <td>제주특별자치도 제주시 조천읍 거문오름길 5</td>\n",
       "    </tr>\n",
       "    <tr>\n",
       "      <th>2</th>\n",
       "      <td>송악산</td>\n",
       "      <td>제주특별자치도 서귀포시 대정읍 형제해안로 318</td>\n",
       "    </tr>\n",
       "    <tr>\n",
       "      <th>3</th>\n",
       "      <td>섭지코지</td>\n",
       "      <td>제주특별자치도 서귀포시 성산읍 섭지코지로 93-66</td>\n",
       "    </tr>\n",
       "    <tr>\n",
       "      <th>4</th>\n",
       "      <td>만장굴</td>\n",
       "      <td>제주특별자치도 제주시 구좌읍 만장굴길 182</td>\n",
       "    </tr>\n",
       "    <tr>\n",
       "      <th>5</th>\n",
       "      <td>성산일출봉</td>\n",
       "      <td>제주특별자치도 서귀포시 성산읍 일주동로 4282</td>\n",
       "    </tr>\n",
       "    <tr>\n",
       "      <th>6</th>\n",
       "      <td>오설록</td>\n",
       "      <td>제주특별자치도 서귀포시 안덕면 신화역사로 15</td>\n",
       "    </tr>\n",
       "    <tr>\n",
       "      <th>7</th>\n",
       "      <td>주상절리</td>\n",
       "      <td>제주특별자치도 서귀포시 이어도로 36-30(중문동)</td>\n",
       "    </tr>\n",
       "    <tr>\n",
       "      <th>8</th>\n",
       "      <td>천제연폭포</td>\n",
       "      <td>제주특별자치도 서귀포시 천제연로 132(중문동)</td>\n",
       "    </tr>\n",
       "    <tr>\n",
       "      <th>9</th>\n",
       "      <td>제주관덕정</td>\n",
       "      <td>제주특별자치도 제주시 관덕로 19(삼도이동)</td>\n",
       "    </tr>\n",
       "  </tbody>\n",
       "</table>\n",
       "</div>"
      ],
      "text/plain": [
       "      명소                         도로명주소\n",
       "0   산굼부리      제주특별자치도 제주시 조천읍 비자림로 768\n",
       "1   거문오름       제주특별자치도 제주시 조천읍 거문오름길 5\n",
       "2    송악산    제주특별자치도 서귀포시 대정읍 형제해안로 318\n",
       "3   섭지코지  제주특별자치도 서귀포시 성산읍 섭지코지로 93-66\n",
       "4    만장굴      제주특별자치도 제주시 구좌읍 만장굴길 182\n",
       "5  성산일출봉    제주특별자치도 서귀포시 성산읍 일주동로 4282\n",
       "6    오설록     제주특별자치도 서귀포시 안덕면 신화역사로 15\n",
       "7   주상절리  제주특별자치도 서귀포시 이어도로 36-30(중문동)\n",
       "8  천제연폭포    제주특별자치도 서귀포시 천제연로 132(중문동)\n",
       "9  제주관덕정      제주특별자치도 제주시 관덕로 19(삼도이동)"
      ]
     },
     "execution_count": 22,
     "metadata": {},
     "output_type": "execute_result"
    }
   ],
   "source": [
    "df = pd.read_csv('제주명소.csv')\n",
    "df"
   ]
  },
  {
   "cell_type": "code",
   "execution_count": 23,
   "metadata": {},
   "outputs": [
    {
     "data": {
      "text/plain": [
       "RangeIndex(start=0, stop=10, step=1)"
      ]
     },
     "execution_count": 23,
     "metadata": {},
     "output_type": "execute_result"
    }
   ],
   "source": [
    "df.index"
   ]
  },
  {
   "cell_type": "code",
   "execution_count": 24,
   "metadata": {},
   "outputs": [],
   "source": [
    "lng_list, lat_list =[],[]\n",
    "for i in df.index:\n",
    "    url = f'{local_url}?query={quote(df.도로명주소[i])}'\n",
    "    result = requests.get(url, headers=header).json()\n",
    "    lng=float(result['documents'][0]['x'])\n",
    "    lat=float(result['documents'][0]['y'])\n",
    "    lng_list.append(lng)\n",
    "    lat_list.append(lat)\n",
    "    "
   ]
  },
  {
   "cell_type": "code",
   "execution_count": 25,
   "metadata": {},
   "outputs": [
    {
     "data": {
      "text/html": [
       "<div>\n",
       "<style scoped>\n",
       "    .dataframe tbody tr th:only-of-type {\n",
       "        vertical-align: middle;\n",
       "    }\n",
       "\n",
       "    .dataframe tbody tr th {\n",
       "        vertical-align: top;\n",
       "    }\n",
       "\n",
       "    .dataframe thead th {\n",
       "        text-align: right;\n",
       "    }\n",
       "</style>\n",
       "<table border=\"1\" class=\"dataframe\">\n",
       "  <thead>\n",
       "    <tr style=\"text-align: right;\">\n",
       "      <th></th>\n",
       "      <th>명소</th>\n",
       "      <th>도로명주소</th>\n",
       "      <th>위도</th>\n",
       "      <th>경도</th>\n",
       "    </tr>\n",
       "  </thead>\n",
       "  <tbody>\n",
       "    <tr>\n",
       "      <th>0</th>\n",
       "      <td>산굼부리</td>\n",
       "      <td>제주특별자치도 제주시 조천읍 비자림로 768</td>\n",
       "      <td>33.434874</td>\n",
       "      <td>126.688504</td>\n",
       "    </tr>\n",
       "    <tr>\n",
       "      <th>1</th>\n",
       "      <td>거문오름</td>\n",
       "      <td>제주특별자치도 제주시 조천읍 거문오름길 5</td>\n",
       "      <td>33.459582</td>\n",
       "      <td>126.712604</td>\n",
       "    </tr>\n",
       "    <tr>\n",
       "      <th>2</th>\n",
       "      <td>송악산</td>\n",
       "      <td>제주특별자치도 서귀포시 대정읍 형제해안로 318</td>\n",
       "      <td>33.206931</td>\n",
       "      <td>126.290224</td>\n",
       "    </tr>\n",
       "    <tr>\n",
       "      <th>3</th>\n",
       "      <td>섭지코지</td>\n",
       "      <td>제주특별자치도 서귀포시 성산읍 섭지코지로 93-66</td>\n",
       "      <td>33.432648</td>\n",
       "      <td>126.930174</td>\n",
       "    </tr>\n",
       "    <tr>\n",
       "      <th>4</th>\n",
       "      <td>만장굴</td>\n",
       "      <td>제주특별자치도 제주시 구좌읍 만장굴길 182</td>\n",
       "      <td>33.528377</td>\n",
       "      <td>126.771616</td>\n",
       "    </tr>\n",
       "    <tr>\n",
       "      <th>5</th>\n",
       "      <td>성산일출봉</td>\n",
       "      <td>제주특별자치도 서귀포시 성산읍 일주동로 4282</td>\n",
       "      <td>33.446254</td>\n",
       "      <td>126.911561</td>\n",
       "    </tr>\n",
       "    <tr>\n",
       "      <th>6</th>\n",
       "      <td>오설록</td>\n",
       "      <td>제주특별자치도 서귀포시 안덕면 신화역사로 15</td>\n",
       "      <td>33.305920</td>\n",
       "      <td>126.289374</td>\n",
       "    </tr>\n",
       "    <tr>\n",
       "      <th>7</th>\n",
       "      <td>주상절리</td>\n",
       "      <td>제주특별자치도 서귀포시 이어도로 36-30(중문동)</td>\n",
       "      <td>33.237994</td>\n",
       "      <td>126.426018</td>\n",
       "    </tr>\n",
       "    <tr>\n",
       "      <th>8</th>\n",
       "      <td>천제연폭포</td>\n",
       "      <td>제주특별자치도 서귀포시 천제연로 132(중문동)</td>\n",
       "      <td>33.252675</td>\n",
       "      <td>126.418374</td>\n",
       "    </tr>\n",
       "    <tr>\n",
       "      <th>9</th>\n",
       "      <td>제주관덕정</td>\n",
       "      <td>제주특별자치도 제주시 관덕로 19(삼도이동)</td>\n",
       "      <td>33.513368</td>\n",
       "      <td>126.521475</td>\n",
       "    </tr>\n",
       "  </tbody>\n",
       "</table>\n",
       "</div>"
      ],
      "text/plain": [
       "      명소                         도로명주소         위도          경도\n",
       "0   산굼부리      제주특별자치도 제주시 조천읍 비자림로 768  33.434874  126.688504\n",
       "1   거문오름       제주특별자치도 제주시 조천읍 거문오름길 5  33.459582  126.712604\n",
       "2    송악산    제주특별자치도 서귀포시 대정읍 형제해안로 318  33.206931  126.290224\n",
       "3   섭지코지  제주특별자치도 서귀포시 성산읍 섭지코지로 93-66  33.432648  126.930174\n",
       "4    만장굴      제주특별자치도 제주시 구좌읍 만장굴길 182  33.528377  126.771616\n",
       "5  성산일출봉    제주특별자치도 서귀포시 성산읍 일주동로 4282  33.446254  126.911561\n",
       "6    오설록     제주특별자치도 서귀포시 안덕면 신화역사로 15  33.305920  126.289374\n",
       "7   주상절리  제주특별자치도 서귀포시 이어도로 36-30(중문동)  33.237994  126.426018\n",
       "8  천제연폭포    제주특별자치도 서귀포시 천제연로 132(중문동)  33.252675  126.418374\n",
       "9  제주관덕정      제주특별자치도 제주시 관덕로 19(삼도이동)  33.513368  126.521475"
      ]
     },
     "execution_count": 25,
     "metadata": {},
     "output_type": "execute_result"
    }
   ],
   "source": [
    "df['위도'] = lat_list\n",
    "df['경도'] = lng_list\n",
    "df"
   ]
  },
  {
   "cell_type": "code",
   "execution_count": 26,
   "metadata": {},
   "outputs": [],
   "source": [
    "df.to_csv('제주명소2.csv', index=False)"
   ]
  },
  {
   "cell_type": "code",
   "execution_count": null,
   "metadata": {},
   "outputs": [],
   "source": []
  }
 ],
 "metadata": {
  "interpreter": {
   "hash": "e3bde7f9be308a4ed5b677c98eb4e5423d8d4c39cb1152441ce9aa81adc70699"
  },
  "kernelspec": {
   "display_name": "Python 3.8.8 64-bit ('base': conda)",
   "language": "python",
   "name": "python3"
  },
  "language_info": {
   "codemirror_mode": {
    "name": "ipython",
    "version": 3
   },
   "file_extension": ".py",
   "mimetype": "text/x-python",
   "name": "python",
   "nbconvert_exporter": "python",
   "pygments_lexer": "ipython3",
   "version": "3.8.8"
  },
  "orig_nbformat": 4
 },
 "nbformat": 4,
 "nbformat_minor": 2
}
