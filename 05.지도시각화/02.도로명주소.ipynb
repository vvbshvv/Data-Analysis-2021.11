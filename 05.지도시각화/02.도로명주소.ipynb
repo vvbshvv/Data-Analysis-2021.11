{
 "cells": [
  {
   "cell_type": "markdown",
   "metadata": {},
   "source": [
    "# 행안부 도로명 주소 api활용"
   ]
  },
  {
   "cell_type": "code",
   "execution_count": 1,
   "metadata": {},
   "outputs": [],
   "source": [
    "import requests\n",
    "from urllib.parse import quote\n"
   ]
  },
  {
   "cell_type": "markdown",
   "metadata": {},
   "source": [
    "- api 키 가져오기"
   ]
  },
  {
   "cell_type": "code",
   "execution_count": 5,
   "metadata": {},
   "outputs": [],
   "source": [
    "with open('roadapikey.txt') as file:\n",
    "    road_key = file.read()\n"
   ]
  },
  {
   "cell_type": "code",
   "execution_count": 6,
   "metadata": {},
   "outputs": [
    {
     "data": {
      "text/plain": [
       "40"
      ]
     },
     "execution_count": 6,
     "metadata": {},
     "output_type": "execute_result"
    }
   ],
   "source": [
    "len(road_key)"
   ]
  },
  {
   "cell_type": "code",
   "execution_count": 20,
   "metadata": {},
   "outputs": [
    {
     "data": {
      "text/plain": [
       "'%EC%82%B0%EA%B5%BC%EB%B6%80%EB%A6%AC'"
      ]
     },
     "execution_count": 20,
     "metadata": {},
     "output_type": "execute_result"
    }
   ],
   "source": [
    "quote('산굼부리') #한글은 URL Encoding을 해주어야함"
   ]
  },
  {
   "cell_type": "code",
   "execution_count": 24,
   "metadata": {},
   "outputs": [
    {
     "data": {
      "text/plain": [
       "'https://www.juso.go.kr/addrlink/addrLinkApi.do?confmKey=U01TX0FVVEgyMDIxMTIwMzEzNTIxODExMTk4ODM=&currentPage=1&countPerPage=10&keyword=%EC%82%B0%EA%B5%BC%EB%B6%80%EB%A6%AC&resultType=json'"
      ]
     },
     "execution_count": 24,
     "metadata": {},
     "output_type": "execute_result"
    }
   ],
   "source": [
    "road_url = 'https://www.juso.go.kr/addrlink/addrLinkApi.do'\n",
    "params1 = f'confmKey={road_key}&currentPage=1&countPerPage=10'\n",
    "params2 = f'keyword={quote(\"산굼부리\")}&resultType=json'\n",
    "url = f\"{road_url}?{params1}&{params2}\""
   ]
  },
  {
   "cell_type": "code",
   "execution_count": 19,
   "metadata": {},
   "outputs": [
    {
     "data": {
      "text/plain": [
       "{'results': {'common': {'errorMessage': '정상',\n",
       "   'countPerPage': '10',\n",
       "   'totalCount': '1',\n",
       "   'errorCode': '0',\n",
       "   'currentPage': '1'},\n",
       "  'juso': [{'detBdNmList': '',\n",
       "    'engAddr': '768, Bijarim-ro, Jocheon-eup, Jeju-si, Jeju-do',\n",
       "    'rn': '비자림로',\n",
       "    'emdNm': '조천읍',\n",
       "    'zipNo': '63346',\n",
       "    'roadAddrPart2': '',\n",
       "    'emdNo': '02',\n",
       "    'sggNm': '제주시',\n",
       "    'jibunAddr': '제주특별자치도 제주시 조천읍 교래리 342-2 산굼부리',\n",
       "    'siNm': '제주특별자치도',\n",
       "    'roadAddrPart1': '제주특별자치도 제주시 조천읍 비자림로 768',\n",
       "    'bdNm': '산굼부리',\n",
       "    'admCd': '5011025929',\n",
       "    'udrtYn': '0',\n",
       "    'lnbrMnnm': '342',\n",
       "    'roadAddr': '제주특별자치도 제주시 조천읍 비자림로 768',\n",
       "    'lnbrSlno': '2',\n",
       "    'buldMnnm': '768',\n",
       "    'bdKdcd': '0',\n",
       "    'liNm': '교래리',\n",
       "    'rnMgtSn': '501103349079',\n",
       "    'mtYn': '0',\n",
       "    'bdMgtSn': '5011025929003420005071420',\n",
       "    'buldSlno': '0'}]}}"
      ]
     },
     "execution_count": 19,
     "metadata": {},
     "output_type": "execute_result"
    }
   ],
   "source": [
    "result = requests.get(url).json()\n",
    "result"
   ]
  },
  {
   "cell_type": "code",
   "execution_count": 68,
   "metadata": {},
   "outputs": [
    {
     "data": {
      "text/plain": [
       "'제주특별자치도 제주시 조천읍 비자림로 768'"
      ]
     },
     "execution_count": 68,
     "metadata": {},
     "output_type": "execute_result"
    }
   ],
   "source": [
    "#result 딕셔너리 안에 results 딕셔너리 안에  juso리스트 안에 0번째 리스트 안에 roadAddr\n",
    "result['results']['juso'][0]['roadAddr']\n"
   ]
  },
  {
   "cell_type": "code",
   "execution_count": 69,
   "metadata": {},
   "outputs": [
    {
     "data": {
      "text/plain": [
       "'768, Bijarim-ro, Jocheon-eup, Jeju-si, Jeju-do'"
      ]
     },
     "execution_count": 69,
     "metadata": {},
     "output_type": "execute_result"
    }
   ],
   "source": [
    "result['results']['juso'][0]['engAddr']"
   ]
  },
  {
   "cell_type": "markdown",
   "metadata": {},
   "source": [
    "- 제주도 명소의 도로명주소 구하기"
   ]
  },
  {
   "cell_type": "code",
   "execution_count": 73,
   "metadata": {},
   "outputs": [
    {
     "data": {
      "text/plain": [
       "['산굼부리',\n",
       " '거문오름',\n",
       " '송악산',\n",
       " '섭지코지',\n",
       " '만장굴',\n",
       " '성산일출봉',\n",
       " '오설록',\n",
       " '주상절리',\n",
       " '천제연폭포',\n",
       " '제주관덕정']"
      ]
     },
     "execution_count": 73,
     "metadata": {},
     "output_type": "execute_result"
    }
   ],
   "source": [
    "places = '산굼부리 거문오름 송악산 섭지코지 만장굴 성산일출봉 오설록 주상절리 천제연폭포 제주관덕정'.split(' ')\n",
    "places"
   ]
  },
  {
   "cell_type": "code",
   "execution_count": 78,
   "metadata": {},
   "outputs": [
    {
     "data": {
      "text/plain": [
       "['제주특별자치도 제주시 조천읍 비자림로 768',\n",
       " '제주특별자치도 제주시 조천읍 거문오름길 5',\n",
       " '제주특별자치도 서귀포시 대정읍 형제해안로 318',\n",
       " '제주특별자치도 서귀포시 성산읍 섭지코지로 93-66',\n",
       " '제주특별자치도 제주시 구좌읍 만장굴길 182',\n",
       " '제주특별자치도 서귀포시 성산읍 일주동로 4282',\n",
       " '제주특별자치도 서귀포시 안덕면 신화역사로 15',\n",
       " '제주특별자치도 서귀포시 이어도로 36-30(중문동)',\n",
       " '제주특별자치도 서귀포시 천제연로 132(중문동)',\n",
       " '제주특별자치도 제주시 관덕로 19(삼도이동)']"
      ]
     },
     "execution_count": 78,
     "metadata": {},
     "output_type": "execute_result"
    }
   ],
   "source": [
    "addr_list = []\n",
    "for place in places :\n",
    "    url = f\"{road_url}?{params1}&keyword={quote(place)}&resultType=json\"\n",
    "    result = requests.get(url).json()\n",
    "    addr=result['results']['juso'][0]['roadAddr']\n",
    "    addr_list.append(addr)\n",
    "\n",
    "addr_list"
   ]
  },
  {
   "cell_type": "code",
   "execution_count": 79,
   "metadata": {},
   "outputs": [
    {
     "data": {
      "text/html": [
       "<div>\n",
       "<style scoped>\n",
       "    .dataframe tbody tr th:only-of-type {\n",
       "        vertical-align: middle;\n",
       "    }\n",
       "\n",
       "    .dataframe tbody tr th {\n",
       "        vertical-align: top;\n",
       "    }\n",
       "\n",
       "    .dataframe thead th {\n",
       "        text-align: right;\n",
       "    }\n",
       "</style>\n",
       "<table border=\"1\" class=\"dataframe\">\n",
       "  <thead>\n",
       "    <tr style=\"text-align: right;\">\n",
       "      <th></th>\n",
       "      <th>명소</th>\n",
       "      <th>도로명주소</th>\n",
       "    </tr>\n",
       "  </thead>\n",
       "  <tbody>\n",
       "    <tr>\n",
       "      <th>0</th>\n",
       "      <td>산굼부리</td>\n",
       "      <td>제주특별자치도 제주시 조천읍 비자림로 768</td>\n",
       "    </tr>\n",
       "    <tr>\n",
       "      <th>1</th>\n",
       "      <td>거문오름</td>\n",
       "      <td>제주특별자치도 제주시 조천읍 거문오름길 5</td>\n",
       "    </tr>\n",
       "    <tr>\n",
       "      <th>2</th>\n",
       "      <td>송악산</td>\n",
       "      <td>제주특별자치도 서귀포시 대정읍 형제해안로 318</td>\n",
       "    </tr>\n",
       "    <tr>\n",
       "      <th>3</th>\n",
       "      <td>섭지코지</td>\n",
       "      <td>제주특별자치도 서귀포시 성산읍 섭지코지로 93-66</td>\n",
       "    </tr>\n",
       "    <tr>\n",
       "      <th>4</th>\n",
       "      <td>만장굴</td>\n",
       "      <td>제주특별자치도 제주시 구좌읍 만장굴길 182</td>\n",
       "    </tr>\n",
       "    <tr>\n",
       "      <th>5</th>\n",
       "      <td>성산일출봉</td>\n",
       "      <td>제주특별자치도 서귀포시 성산읍 일주동로 4282</td>\n",
       "    </tr>\n",
       "    <tr>\n",
       "      <th>6</th>\n",
       "      <td>오설록</td>\n",
       "      <td>제주특별자치도 서귀포시 안덕면 신화역사로 15</td>\n",
       "    </tr>\n",
       "    <tr>\n",
       "      <th>7</th>\n",
       "      <td>주상절리</td>\n",
       "      <td>제주특별자치도 서귀포시 이어도로 36-30(중문동)</td>\n",
       "    </tr>\n",
       "    <tr>\n",
       "      <th>8</th>\n",
       "      <td>천제연폭포</td>\n",
       "      <td>제주특별자치도 서귀포시 천제연로 132(중문동)</td>\n",
       "    </tr>\n",
       "    <tr>\n",
       "      <th>9</th>\n",
       "      <td>제주관덕정</td>\n",
       "      <td>제주특별자치도 제주시 관덕로 19(삼도이동)</td>\n",
       "    </tr>\n",
       "  </tbody>\n",
       "</table>\n",
       "</div>"
      ],
      "text/plain": [
       "      명소                         도로명주소\n",
       "0   산굼부리      제주특별자치도 제주시 조천읍 비자림로 768\n",
       "1   거문오름       제주특별자치도 제주시 조천읍 거문오름길 5\n",
       "2    송악산    제주특별자치도 서귀포시 대정읍 형제해안로 318\n",
       "3   섭지코지  제주특별자치도 서귀포시 성산읍 섭지코지로 93-66\n",
       "4    만장굴      제주특별자치도 제주시 구좌읍 만장굴길 182\n",
       "5  성산일출봉    제주특별자치도 서귀포시 성산읍 일주동로 4282\n",
       "6    오설록     제주특별자치도 서귀포시 안덕면 신화역사로 15\n",
       "7   주상절리  제주특별자치도 서귀포시 이어도로 36-30(중문동)\n",
       "8  천제연폭포    제주특별자치도 서귀포시 천제연로 132(중문동)\n",
       "9  제주관덕정      제주특별자치도 제주시 관덕로 19(삼도이동)"
      ]
     },
     "execution_count": 79,
     "metadata": {},
     "output_type": "execute_result"
    }
   ],
   "source": [
    "import pandas as pd\n",
    "df = pd.DataFrame({'명소':places, '도로명주소':addr_list})\n",
    "df"
   ]
  },
  {
   "cell_type": "code",
   "execution_count": 80,
   "metadata": {},
   "outputs": [],
   "source": [
    "df.to_csv('제주명소.csv', index=False)"
   ]
  },
  {
   "cell_type": "code",
   "execution_count": null,
   "metadata": {},
   "outputs": [],
   "source": []
  }
 ],
 "metadata": {
  "interpreter": {
   "hash": "e3bde7f9be308a4ed5b677c98eb4e5423d8d4c39cb1152441ce9aa81adc70699"
  },
  "kernelspec": {
   "display_name": "Python 3.8.8 64-bit ('base': conda)",
   "language": "python",
   "name": "python3"
  },
  "language_info": {
   "codemirror_mode": {
    "name": "ipython",
    "version": 3
   },
   "file_extension": ".py",
   "mimetype": "text/x-python",
   "name": "python",
   "nbconvert_exporter": "python",
   "pygments_lexer": "ipython3",
   "version": "3.8.8"
  },
  "orig_nbformat": 4
 },
 "nbformat": 4,
 "nbformat_minor": 2
}
