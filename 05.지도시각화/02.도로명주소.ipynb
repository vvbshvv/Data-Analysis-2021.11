{
 "cells": [
  {
   "cell_type": "markdown",
   "metadata": {},
   "source": [
    "# 행안부 도로명 주소 api활용"
   ]
  },
  {
   "cell_type": "code",
   "execution_count": 1,
   "metadata": {},
   "outputs": [],
   "source": [
    "import requests\n",
    "from urllib.parse import quote\n"
   ]
  },
  {
   "cell_type": "markdown",
   "metadata": {},
   "source": [
    "- api 키 가져오기"
   ]
  },
  {
   "cell_type": "code",
   "execution_count": 5,
   "metadata": {},
   "outputs": [],
   "source": [
    "with open('roadapikey.txt') as file:\n",
    "    road_key = file.read()\n"
   ]
  },
  {
   "cell_type": "code",
   "execution_count": 6,
   "metadata": {},
   "outputs": [
    {
     "data": {
      "text/plain": [
       "40"
      ]
     },
     "execution_count": 6,
     "metadata": {},
     "output_type": "execute_result"
    }
   ],
   "source": [
    "len(road_key)"
   ]
  },
  {
   "cell_type": "code",
   "execution_count": 20,
   "metadata": {},
   "outputs": [
    {
     "data": {
      "text/plain": [
       "'%EC%82%B0%EA%B5%BC%EB%B6%80%EB%A6%AC'"
      ]
     },
     "execution_count": 20,
     "metadata": {},
     "output_type": "execute_result"
    }
   ],
   "source": [
    "quote('산굼부리') #한글은 URL Encoding을 해주어야함"
   ]
  },
  {
   "cell_type": "code",
   "execution_count": 24,
   "metadata": {},
   "outputs": [
    {
     "data": {
      "text/plain": [
       "'https://www.juso.go.kr/addrlink/addrLinkApi.do?confmKey=U01TX0FVVEgyMDIxMTIwMzEzNTIxODExMTk4ODM=&currentPage=1&countPerPage=10&keyword=%EC%82%B0%EA%B5%BC%EB%B6%80%EB%A6%AC&resultType=json'"
      ]
     },
     "execution_count": 24,
     "metadata": {},
     "output_type": "execute_result"
    }
   ],
   "source": [
    "road_url = 'https://www.juso.go.kr/addrlink/addrLinkApi.do'\n",
    "params1 = f'confmKey={road_key}&currentPage=1&countPerPage=10'\n",
    "params2 = f'keyword={quote(\"산굼부리\")}&resultType=json'\n",
    "url = f\"{road_url}?{params1}&{params2}\""
   ]
  },
  {
   "cell_type": "code",
   "execution_count": 19,
   "metadata": {},
   "outputs": [
    {
     "data": {
      "text/plain": [
       "{'results': {'common': {'errorMessage': '정상',\n",
       "   'countPerPage': '10',\n",
       "   'totalCount': '1',\n",
       "   'errorCode': '0',\n",
       "   'currentPage': '1'},\n",
       "  'juso': [{'detBdNmList': '',\n",
       "    'engAddr': '768, Bijarim-ro, Jocheon-eup, Jeju-si, Jeju-do',\n",
       "    'rn': '비자림로',\n",
       "    'emdNm': '조천읍',\n",
       "    'zipNo': '63346',\n",
       "    'roadAddrPart2': '',\n",
       "    'emdNo': '02',\n",
       "    'sggNm': '제주시',\n",
       "    'jibunAddr': '제주특별자치도 제주시 조천읍 교래리 342-2 산굼부리',\n",
       "    'siNm': '제주특별자치도',\n",
       "    'roadAddrPart1': '제주특별자치도 제주시 조천읍 비자림로 768',\n",
       "    'bdNm': '산굼부리',\n",
       "    'admCd': '5011025929',\n",
       "    'udrtYn': '0',\n",
       "    'lnbrMnnm': '342',\n",
       "    'roadAddr': '제주특별자치도 제주시 조천읍 비자림로 768',\n",
       "    'lnbrSlno': '2',\n",
       "    'buldMnnm': '768',\n",
       "    'bdKdcd': '0',\n",
       "    'liNm': '교래리',\n",
       "    'rnMgtSn': '501103349079',\n",
       "    'mtYn': '0',\n",
       "    'bdMgtSn': '5011025929003420005071420',\n",
       "    'buldSlno': '0'}]}}"
      ]
     },
     "execution_count": 19,
     "metadata": {},
     "output_type": "execute_result"
    }
   ],
   "source": [
    "result = requests.get(url).json()\n",
    "result"
   ]
  },
  {
   "cell_type": "code",
   "execution_count": 68,
   "metadata": {},
   "outputs": [
    {
     "data": {
      "text/plain": [
       "'제주특별자치도 제주시 조천읍 비자림로 768'"
      ]
     },
     "execution_count": 68,
     "metadata": {},
     "output_type": "execute_result"
    }
   ],
   "source": [
    "#result 딕셔너리 안에 results 딕셔너리 안에  juso리스트 안에 0번째 리스트 안에 roadAddr\n",
    "result['results']['juso'][0]['roadAddr']\n"
   ]
  },
  {
   "cell_type": "code",
   "execution_count": 69,
   "metadata": {},
   "outputs": [
    {
     "data": {
      "text/plain": [
       "'768, Bijarim-ro, Jocheon-eup, Jeju-si, Jeju-do'"
      ]
     },
     "execution_count": 69,
     "metadata": {},
     "output_type": "execute_result"
    }
   ],
   "source": [
    "result['results']['juso'][0]['engAddr']"
   ]
  },
  {
   "cell_type": "markdown",
   "metadata": {},
   "source": [
    "- 제주도 명소의 도로명주소 구하기"
   ]
  },
  {
   "cell_type": "code",
   "execution_count": 73,
   "metadata": {},
   "outputs": [
    {
     "data": {
      "text/plain": [
       "['산굼부리',\n",
       " '거문오름',\n",
       " '송악산',\n",
       " '섭지코지',\n",
       " '만장굴',\n",
       " '성산일출봉',\n",
       " '오설록',\n",
       " '주상절리',\n",
       " '천제연폭포',\n",
       " '제주관덕정']"
      ]
     },
     "execution_count": 73,
     "metadata": {},
     "output_type": "execute_result"
    }
   ],
   "source": [
    "places = '산굼부리 거문오름 송악산 섭지코지 만장굴 성산일출봉 오설록 주상절리 천제연폭포 제주관덕정'.split(' ')\n",
    "places"
   ]
  },
  {
   "cell_type": "code",
   "execution_count": 78,
   "metadata": {},
   "outputs": [
    {
     "data": {
      "text/plain": [
       "['제주특별자치도 제주시 조천읍 비자림로 768',\n",
       " '제주특별자치도 제주시 조천읍 거문오름길 5',\n",
       " '제주특별자치도 서귀포시 대정읍 형제해안로 318',\n",
       " '제주특별자치도 서귀포시 성산읍 섭지코지로 93-66',\n",
       " '제주특별자치도 제주시 구좌읍 만장굴길 182',\n",
       " '제주특별자치도 서귀포시 성산읍 일주동로 4282',\n",
       " '제주특별자치도 서귀포시 안덕면 신화역사로 15',\n",
       " '제주특별자치도 서귀포시 이어도로 36-30(중문동)',\n",
       " '제주특별자치도 서귀포시 천제연로 132(중문동)',\n",
       " '제주특별자치도 제주시 관덕로 19(삼도이동)']"
      ]
     },
     "execution_count": 78,
     "metadata": {},
     "output_type": "execute_result"
    }
   ],
   "source": [
    "addr_list = []\n",
    "for place in places :\n",
    "    url = f\"{road_url}?{params1}&keyword={quote(place)}&resultType=json\"\n",
    "    result = requests.get(url).json()\n",
    "    addr=result['results']['juso'][0]['roadAddr']\n",
    "    addr_list.append(addr)\n",
    "\n",
    "addr_list"
   ]
  },
  {
   "cell_type": "code",
   "execution_count": 79,
   "metadata": {},
   "outputs": [
    {
     "data": {
      "text/html": [
       "<div>\n",
       "<style scoped>\n",
       "    .dataframe tbody tr th:only-of-type {\n",
       "        vertical-align: middle;\n",
       "    }\n",
       "\n",
       "    .dataframe tbody tr th {\n",
       "        vertical-align: top;\n",
       "    }\n",
       "\n",
       "    .dataframe thead th {\n",
       "        text-align: right;\n",
       "    }\n",
       "</style>\n",
       "<table border=\"1\" class=\"dataframe\">\n",
       "  <thead>\n",
       "    <tr style=\"text-align: right;\">\n",
       "      <th></th>\n",
       "      <th>명소</th>\n",
       "      <th>도로명주소</th>\n",
       "    </tr>\n",
       "  </thead>\n",
       "  <tbody>\n",
       "    <tr>\n",
       "      <th>0</th>\n",
       "      <td>산굼부리</td>\n",
       "      <td>제주특별자치도 제주시 조천읍 비자림로 768</td>\n",
       "    </tr>\n",
       "    <tr>\n",
       "      <th>1</th>\n",
       "      <td>거문오름</td>\n",
       "      <td>제주특별자치도 제주시 조천읍 거문오름길 5</td>\n",
       "    </tr>\n",
       "    <tr>\n",
       "      <th>2</th>\n",
       "      <td>송악산</td>\n",
       "      <td>제주특별자치도 서귀포시 대정읍 형제해안로 318</td>\n",
       "    </tr>\n",
       "    <tr>\n",
       "      <th>3</th>\n",
       "      <td>섭지코지</td>\n",
       "      <td>제주특별자치도 서귀포시 성산읍 섭지코지로 93-66</td>\n",
       "    </tr>\n",
       "    <tr>\n",
       "      <th>4</th>\n",
       "      <td>만장굴</td>\n",
       "      <td>제주특별자치도 제주시 구좌읍 만장굴길 182</td>\n",
       "    </tr>\n",
       "    <tr>\n",
       "      <th>5</th>\n",
       "      <td>성산일출봉</td>\n",
       "      <td>제주특별자치도 서귀포시 성산읍 일주동로 4282</td>\n",
       "    </tr>\n",
       "    <tr>\n",
       "      <th>6</th>\n",
       "      <td>오설록</td>\n",
       "      <td>제주특별자치도 서귀포시 안덕면 신화역사로 15</td>\n",
       "    </tr>\n",
       "    <tr>\n",
       "      <th>7</th>\n",
       "      <td>주상절리</td>\n",
       "      <td>제주특별자치도 서귀포시 이어도로 36-30(중문동)</td>\n",
       "    </tr>\n",
       "    <tr>\n",
       "      <th>8</th>\n",
       "      <td>천제연폭포</td>\n",
       "      <td>제주특별자치도 서귀포시 천제연로 132(중문동)</td>\n",
       "    </tr>\n",
       "    <tr>\n",
       "      <th>9</th>\n",
       "      <td>제주관덕정</td>\n",
       "      <td>제주특별자치도 제주시 관덕로 19(삼도이동)</td>\n",
       "    </tr>\n",
       "  </tbody>\n",
       "</table>\n",
       "</div>"
      ],
      "text/plain": [
       "      명소                         도로명주소\n",
       "0   산굼부리      제주특별자치도 제주시 조천읍 비자림로 768\n",
       "1   거문오름       제주특별자치도 제주시 조천읍 거문오름길 5\n",
       "2    송악산    제주특별자치도 서귀포시 대정읍 형제해안로 318\n",
       "3   섭지코지  제주특별자치도 서귀포시 성산읍 섭지코지로 93-66\n",
       "4    만장굴      제주특별자치도 제주시 구좌읍 만장굴길 182\n",
       "5  성산일출봉    제주특별자치도 서귀포시 성산읍 일주동로 4282\n",
       "6    오설록     제주특별자치도 서귀포시 안덕면 신화역사로 15\n",
       "7   주상절리  제주특별자치도 서귀포시 이어도로 36-30(중문동)\n",
       "8  천제연폭포    제주특별자치도 서귀포시 천제연로 132(중문동)\n",
       "9  제주관덕정      제주특별자치도 제주시 관덕로 19(삼도이동)"
      ]
     },
     "execution_count": 79,
     "metadata": {},
     "output_type": "execute_result"
    }
   ],
   "source": [
    "import pandas as pd\n",
    "df = pd.DataFrame({'명소':places, '도로명주소':addr_list})\n",
    "df"
   ]
  },
  {
   "cell_type": "code",
   "execution_count": 80,
   "metadata": {},
   "outputs": [],
   "source": [
    "df.to_csv('제주명소.csv', index=False)"
   ]
  },
  {
   "cell_type": "code",
   "execution_count": 99,
   "metadata": {},
   "outputs": [],
   "source": [
    "import folium\n",
    "from folium.features import CustomIcon"
   ]
  },
  {
   "cell_type": "code",
   "execution_count": 102,
   "metadata": {},
   "outputs": [
    {
     "data": {
      "text/html": [
       "<div style=\"width:100%;\"><div style=\"position:relative;width:100%;height:0;padding-bottom:60%;\"><span style=\"color:#565656\">Make this Notebook Trusted to load map: File -> Trust Notebook</span><iframe src=\"about:blank\" style=\"position:absolute;width:100%;height:100%;left:0;top:0;border:none !important;\" data-html=%3C%21DOCTYPE%20html%3E%0A%3Chead%3E%20%20%20%20%0A%20%20%20%20%3Cmeta%20http-equiv%3D%22content-type%22%20content%3D%22text/html%3B%20charset%3DUTF-8%22%20/%3E%0A%20%20%20%20%0A%20%20%20%20%20%20%20%20%3Cscript%3E%0A%20%20%20%20%20%20%20%20%20%20%20%20L_NO_TOUCH%20%3D%20false%3B%0A%20%20%20%20%20%20%20%20%20%20%20%20L_DISABLE_3D%20%3D%20false%3B%0A%20%20%20%20%20%20%20%20%3C/script%3E%0A%20%20%20%20%0A%20%20%20%20%3Cstyle%3Ehtml%2C%20body%20%7Bwidth%3A%20100%25%3Bheight%3A%20100%25%3Bmargin%3A%200%3Bpadding%3A%200%3B%7D%3C/style%3E%0A%20%20%20%20%3Cstyle%3E%23map%20%7Bposition%3Aabsolute%3Btop%3A0%3Bbottom%3A0%3Bright%3A0%3Bleft%3A0%3B%7D%3C/style%3E%0A%20%20%20%20%3Cscript%20src%3D%22https%3A//cdn.jsdelivr.net/npm/leaflet%401.6.0/dist/leaflet.js%22%3E%3C/script%3E%0A%20%20%20%20%3Cscript%20src%3D%22https%3A//code.jquery.com/jquery-1.12.4.min.js%22%3E%3C/script%3E%0A%20%20%20%20%3Cscript%20src%3D%22https%3A//maxcdn.bootstrapcdn.com/bootstrap/3.2.0/js/bootstrap.min.js%22%3E%3C/script%3E%0A%20%20%20%20%3Cscript%20src%3D%22https%3A//cdnjs.cloudflare.com/ajax/libs/Leaflet.awesome-markers/2.0.2/leaflet.awesome-markers.js%22%3E%3C/script%3E%0A%20%20%20%20%3Clink%20rel%3D%22stylesheet%22%20href%3D%22https%3A//cdn.jsdelivr.net/npm/leaflet%401.6.0/dist/leaflet.css%22/%3E%0A%20%20%20%20%3Clink%20rel%3D%22stylesheet%22%20href%3D%22https%3A//maxcdn.bootstrapcdn.com/bootstrap/3.2.0/css/bootstrap.min.css%22/%3E%0A%20%20%20%20%3Clink%20rel%3D%22stylesheet%22%20href%3D%22https%3A//maxcdn.bootstrapcdn.com/bootstrap/3.2.0/css/bootstrap-theme.min.css%22/%3E%0A%20%20%20%20%3Clink%20rel%3D%22stylesheet%22%20href%3D%22https%3A//maxcdn.bootstrapcdn.com/font-awesome/4.6.3/css/font-awesome.min.css%22/%3E%0A%20%20%20%20%3Clink%20rel%3D%22stylesheet%22%20href%3D%22https%3A//cdnjs.cloudflare.com/ajax/libs/Leaflet.awesome-markers/2.0.2/leaflet.awesome-markers.css%22/%3E%0A%20%20%20%20%3Clink%20rel%3D%22stylesheet%22%20href%3D%22https%3A//cdn.jsdelivr.net/gh/python-visualization/folium/folium/templates/leaflet.awesome.rotate.min.css%22/%3E%0A%20%20%20%20%0A%20%20%20%20%20%20%20%20%20%20%20%20%3Cmeta%20name%3D%22viewport%22%20content%3D%22width%3Ddevice-width%2C%0A%20%20%20%20%20%20%20%20%20%20%20%20%20%20%20%20initial-scale%3D1.0%2C%20maximum-scale%3D1.0%2C%20user-scalable%3Dno%22%20/%3E%0A%20%20%20%20%20%20%20%20%20%20%20%20%3Cstyle%3E%0A%20%20%20%20%20%20%20%20%20%20%20%20%20%20%20%20%23map_25423019006c4fb4b2639e541fbf0a73%20%7B%0A%20%20%20%20%20%20%20%20%20%20%20%20%20%20%20%20%20%20%20%20position%3A%20relative%3B%0A%20%20%20%20%20%20%20%20%20%20%20%20%20%20%20%20%20%20%20%20width%3A%20100.0%25%3B%0A%20%20%20%20%20%20%20%20%20%20%20%20%20%20%20%20%20%20%20%20height%3A%20100.0%25%3B%0A%20%20%20%20%20%20%20%20%20%20%20%20%20%20%20%20%20%20%20%20left%3A%200.0%25%3B%0A%20%20%20%20%20%20%20%20%20%20%20%20%20%20%20%20%20%20%20%20top%3A%200.0%25%3B%0A%20%20%20%20%20%20%20%20%20%20%20%20%20%20%20%20%7D%0A%20%20%20%20%20%20%20%20%20%20%20%20%3C/style%3E%0A%20%20%20%20%20%20%20%20%0A%3C/head%3E%0A%3Cbody%3E%20%20%20%20%0A%20%20%20%20%0A%20%20%20%20%20%20%20%20%20%20%20%20%3Cdiv%20class%3D%22folium-map%22%20id%3D%22map_25423019006c4fb4b2639e541fbf0a73%22%20%3E%3C/div%3E%0A%20%20%20%20%20%20%20%20%0A%3C/body%3E%0A%3Cscript%3E%20%20%20%20%0A%20%20%20%20%0A%20%20%20%20%20%20%20%20%20%20%20%20var%20map_25423019006c4fb4b2639e541fbf0a73%20%3D%20L.map%28%0A%20%20%20%20%20%20%20%20%20%20%20%20%20%20%20%20%22map_25423019006c4fb4b2639e541fbf0a73%22%2C%0A%20%20%20%20%20%20%20%20%20%20%20%20%20%20%20%20%7B%0A%20%20%20%20%20%20%20%20%20%20%20%20%20%20%20%20%20%20%20%20center%3A%20%5B35.21926643712289%2C%20129.07844531872402%5D%2C%0A%20%20%20%20%20%20%20%20%20%20%20%20%20%20%20%20%20%20%20%20crs%3A%20L.CRS.EPSG3857%2C%0A%20%20%20%20%20%20%20%20%20%20%20%20%20%20%20%20%20%20%20%20zoom%3A%2012%2C%0A%20%20%20%20%20%20%20%20%20%20%20%20%20%20%20%20%20%20%20%20zoomControl%3A%20true%2C%0A%20%20%20%20%20%20%20%20%20%20%20%20%20%20%20%20%20%20%20%20preferCanvas%3A%20false%2C%0A%20%20%20%20%20%20%20%20%20%20%20%20%20%20%20%20%7D%0A%20%20%20%20%20%20%20%20%20%20%20%20%29%3B%0A%0A%20%20%20%20%20%20%20%20%20%20%20%20%0A%0A%20%20%20%20%20%20%20%20%0A%20%20%20%20%0A%20%20%20%20%20%20%20%20%20%20%20%20var%20tile_layer_2cb1a281d5664821b8f2a58f7ae0bb6d%20%3D%20L.tileLayer%28%0A%20%20%20%20%20%20%20%20%20%20%20%20%20%20%20%20%22https%3A//%7Bs%7D.tile.openstreetmap.org/%7Bz%7D/%7Bx%7D/%7By%7D.png%22%2C%0A%20%20%20%20%20%20%20%20%20%20%20%20%20%20%20%20%7B%22attribution%22%3A%20%22Data%20by%20%5Cu0026copy%3B%20%5Cu003ca%20href%3D%5C%22http%3A//openstreetmap.org%5C%22%5Cu003eOpenStreetMap%5Cu003c/a%5Cu003e%2C%20under%20%5Cu003ca%20href%3D%5C%22http%3A//www.openstreetmap.org/copyright%5C%22%5Cu003eODbL%5Cu003c/a%5Cu003e.%22%2C%20%22detectRetina%22%3A%20false%2C%20%22maxNativeZoom%22%3A%2018%2C%20%22maxZoom%22%3A%2018%2C%20%22minZoom%22%3A%200%2C%20%22noWrap%22%3A%20false%2C%20%22opacity%22%3A%201%2C%20%22subdomains%22%3A%20%22abc%22%2C%20%22tms%22%3A%20false%7D%0A%20%20%20%20%20%20%20%20%20%20%20%20%29.addTo%28map_25423019006c4fb4b2639e541fbf0a73%29%3B%0A%20%20%20%20%20%20%20%20%0A%20%20%20%20%0A%20%20%20%20%20%20%20%20%20%20%20%20var%20marker_9e0280e903b845228e8e316202e2fe5b%20%3D%20L.marker%28%0A%20%20%20%20%20%20%20%20%20%20%20%20%20%20%20%20%5B35.21926643712289%2C%20129.07844531872402%5D%2C%0A%20%20%20%20%20%20%20%20%20%20%20%20%20%20%20%20%7B%7D%0A%20%20%20%20%20%20%20%20%20%20%20%20%29.addTo%28map_25423019006c4fb4b2639e541fbf0a73%29%3B%0A%20%20%20%20%20%20%20%20%0A%20%20%20%20%0A%20%20%20%20%20%20%20%20%20%20%20%20var%20icon_d51facd4190741238ae07a1a8830ddf1%20%3D%20L.AwesomeMarkers.icon%28%0A%20%20%20%20%20%20%20%20%20%20%20%20%20%20%20%20%7B%22extraClasses%22%3A%20%22fa-rotate-0%22%2C%20%22icon%22%3A%20%22info-sign%22%2C%20%22iconColor%22%3A%20%22white%22%2C%20%22markerColor%22%3A%20%22blue%22%2C%20%22prefix%22%3A%20%22glyphicon%22%7D%0A%20%20%20%20%20%20%20%20%20%20%20%20%29%3B%0A%20%20%20%20%20%20%20%20%20%20%20%20marker_9e0280e903b845228e8e316202e2fe5b.setIcon%28icon_d51facd4190741238ae07a1a8830ddf1%29%3B%0A%20%20%20%20%20%20%20%20%0A%20%20%20%20%0A%20%20%20%20%20%20%20%20var%20popup_2b83ba24dfd841158742d0c05e430c54%20%3D%20L.popup%28%7B%22maxWidth%22%3A%20200%7D%29%3B%0A%0A%20%20%20%20%20%20%20%20%0A%20%20%20%20%20%20%20%20%20%20%20%20var%20html_74cb62086e08494db9534c175a1f0edd%20%3D%20%24%28%60%3Cdiv%20id%3D%22html_74cb62086e08494db9534c175a1f0edd%22%20style%3D%22width%3A%20100.0%25%3B%20height%3A%20100.0%25%3B%22%3E%EC%98%A8%EC%B2%9C%EC%9E%A5%EC%97%90%20%EC%9E%88%EB%8A%94%20%EC%9D%B4%EC%83%81%ED%95%9C%20%EC%9D%B4%EB%A6%84%EC%9D%98%20%EB%85%B8%EB%9E%98%EB%B0%A9%3C/div%3E%60%29%5B0%5D%3B%0A%20%20%20%20%20%20%20%20%20%20%20%20popup_2b83ba24dfd841158742d0c05e430c54.setContent%28html_74cb62086e08494db9534c175a1f0edd%29%3B%0A%20%20%20%20%20%20%20%20%0A%0A%20%20%20%20%20%20%20%20marker_9e0280e903b845228e8e316202e2fe5b.bindPopup%28popup_2b83ba24dfd841158742d0c05e430c54%29%0A%20%20%20%20%20%20%20%20%3B%0A%0A%20%20%20%20%20%20%20%20%0A%20%20%20%20%0A%20%20%20%20%0A%20%20%20%20%20%20%20%20%20%20%20%20marker_9e0280e903b845228e8e316202e2fe5b.bindTooltip%28%0A%20%20%20%20%20%20%20%20%20%20%20%20%20%20%20%20%60%3Cdiv%3E%0A%20%20%20%20%20%20%20%20%20%20%20%20%20%20%20%20%20%20%20%20%20%EC%97%89%EB%8D%A9%EC%9D%B4%EC%88%A0%EB%A7%88%EC%8B%9C%EB%8A%94%20%EB%85%B8%EB%9E%98%EB%B0%A9%0A%20%20%20%20%20%20%20%20%20%20%20%20%20%20%20%20%20%3C/div%3E%60%2C%0A%20%20%20%20%20%20%20%20%20%20%20%20%20%20%20%20%7B%22sticky%22%3A%20true%7D%0A%20%20%20%20%20%20%20%20%20%20%20%20%29%3B%0A%20%20%20%20%20%20%20%20%0A%20%20%20%20%0A%20%20%20%20%20%20%20%20%20%20%20%20var%20circle_3509a30cf74a4679b0298a4f2a603876%20%3D%20L.circle%28%0A%20%20%20%20%20%20%20%20%20%20%20%20%20%20%20%20%5B35.220492806158184%2C%20129.08641226919383%5D%2C%0A%20%20%20%20%20%20%20%20%20%20%20%20%20%20%20%20%7B%22bubblingMouseEvents%22%3A%20true%2C%20%22color%22%3A%20%22green%22%2C%20%22dashArray%22%3A%20null%2C%20%22dashOffset%22%3A%20null%2C%20%22fill%22%3A%20true%2C%20%22fillColor%22%3A%20%22green%22%2C%20%22fillOpacity%22%3A%200.2%2C%20%22fillRule%22%3A%20%22evenodd%22%2C%20%22lineCap%22%3A%20%22round%22%2C%20%22lineJoin%22%3A%20%22round%22%2C%20%22opacity%22%3A%201.0%2C%20%22radius%22%3A%20100%2C%20%22stroke%22%3A%20true%2C%20%22weight%22%3A%203%7D%0A%20%20%20%20%20%20%20%20%20%20%20%20%29.addTo%28map_25423019006c4fb4b2639e541fbf0a73%29%3B%0A%20%20%20%20%20%20%20%20%0A%20%20%20%20%0A%20%20%20%20%20%20%20%20var%20popup_e4c86775a3144809876cdbae9e22aec8%20%3D%20L.popup%28%7B%22maxWidth%22%3A%20200%7D%29%3B%0A%0A%20%20%20%20%20%20%20%20%0A%20%20%20%20%20%20%20%20%20%20%20%20var%20html_7ed299a69c534c42a30134ccdb66e960%20%3D%20%24%28%60%3Cdiv%20id%3D%22html_7ed299a69c534c42a30134ccdb66e960%22%20style%3D%22width%3A%20100.0%25%3B%20height%3A%20100.0%25%3B%22%3E%EC%A7%80%ED%95%98%EC%B2%A0%EC%97%AD%3C/div%3E%60%29%5B0%5D%3B%0A%20%20%20%20%20%20%20%20%20%20%20%20popup_e4c86775a3144809876cdbae9e22aec8.setContent%28html_7ed299a69c534c42a30134ccdb66e960%29%3B%0A%20%20%20%20%20%20%20%20%0A%0A%20%20%20%20%20%20%20%20circle_3509a30cf74a4679b0298a4f2a603876.bindPopup%28popup_e4c86775a3144809876cdbae9e22aec8%29%0A%20%20%20%20%20%20%20%20%3B%0A%0A%20%20%20%20%20%20%20%20%0A%20%20%20%20%0A%20%20%20%20%0A%20%20%20%20%20%20%20%20%20%20%20%20circle_3509a30cf74a4679b0298a4f2a603876.bindTooltip%28%0A%20%20%20%20%20%20%20%20%20%20%20%20%20%20%20%20%60%3Cdiv%3E%0A%20%20%20%20%20%20%20%20%20%20%20%20%20%20%20%20%20%20%20%20%20%EC%98%A8%EC%B2%9C%EC%9E%A5%EC%97%AD%0A%20%20%20%20%20%20%20%20%20%20%20%20%20%20%20%20%20%3C/div%3E%60%2C%0A%20%20%20%20%20%20%20%20%20%20%20%20%20%20%20%20%7B%22sticky%22%3A%20true%7D%0A%20%20%20%20%20%20%20%20%20%20%20%20%29%3B%0A%20%20%20%20%20%20%20%20%0A%20%20%20%20%0A%20%20%20%20%20%20%20%20%20%20%20%20var%20marker_b086d7bb984848debe9129db99e460d8%20%3D%20L.marker%28%0A%20%20%20%20%20%20%20%20%20%20%20%20%20%20%20%20%5B35.21271952764704%2C%20129.07972118453716%5D%2C%0A%20%20%20%20%20%20%20%20%20%20%20%20%20%20%20%20%7B%7D%0A%20%20%20%20%20%20%20%20%20%20%20%20%29.addTo%28map_25423019006c4fb4b2639e541fbf0a73%29%3B%0A%20%20%20%20%20%20%20%20%0A%20%20%20%20%0A%20%20%20%20%20%20%20%20var%20custom_icon_2eb8b511f77e48ea868eb5ca3a638c0f%20%3D%20L.icon%28%7B%22iconAnchor%22%3A%20%5B10%2C%2030%5D%2C%20%22iconSize%22%3A%20%5B90%2C%2080%5D%2C%20%22iconUrl%22%3A%20%22data%3Aimage/jpg%3Bbase64%2C/9j/4AAQSkZJRgABAQEASABIAAD/2wBDAAMCAgMCAgMDAwMEAwMEBQgFBQQEBQoHBwYIDAoMDAsKCwsNDhIQDQ4RDgsLEBYQERMUFRUVDA8XGBYUGBIUFRT/2wBDAQMEBAUEBQkFBQkUDQsNFBQUFBQUFBQUFBQUFBQUFBQUFBQUFBQUFBQUFBQUFBQUFBQUFBQUFBQUFBQUFBQUFBT/wAARCADEAUADASIAAhEBAxEB/8QAHQAAAQQDAQEAAAAAAAAAAAAAAAIFBgcBAwQICf/EAD4QAAIBAwMCBAMGBQMDBQADAAECAwAEEQUSIQYxBxNBUSJhcRQygZGh8AgjQrHBFVLRFiThFzM0cvFTYrL/xAAaAQACAwEBAAAAAAAAAAAAAAAAAwECBAUG/8QAIxEAAgICAgIDAQEBAAAAAAAAAAECEQMhEjEyQRMiUQRCYf/aAAwDAQACEQMRAD8A8iUUUVcAooooAKw1ZrDUAYooooAKTtNKrK0AI8ukMtb61saCUa9vY%2Bma9M/w26X53UViNykRRGQqe%2BccV5nVhuAPbPpXrz%2BFO3El80xVQq2uO3qcVh/sekbP5/Jlzatk7t5yWP3Qah%2BsLvYIDjcccHbU11xj5zCPuPbg1AtV8zfJv3cNjHpXNs6cI2QbVoRbzOFGVHOWOOfao9cMqszptibBGe%2BB86fNcV/NcElg2cEDHNMUg2xIxTHPPH3s/OkSmbowGu7t45G2SKrGU5Eg%2BEdu1NM1qF3iMAGM5Kt6iny7UMucZUP25/frim99v2iUD4gw3YAqvYxa0MpjYhdvfvitCxlfMXYWOe4p1mgMOMd2O4Njj61ko8TcgfEOMfSqjiOXFuGUYXseRjtWqO3G7HcE4p3lRfMcDG30auUyLF2JYDtz60dlaOfyC0W38OK1vbqODjHb3pS3i/F6AjOaaNU1hLZG%2BPB/tU16BtJbO5o0jUbviHetDahbRHDEiopca68hx5hPBJP%2BKbL7WPMAAYtIee36UxQYiWRVomE2tLtIhbzjnHP1rlj1e4XOG2Afe3Nx3/8AFQiTUZLf4lm2EeietdEWtXU4gPlBgrYLMPvD9%2B9M4JGf5uWibR9RNIwRy0rZyvlgHnPvUih1C9Vd0QnhUnkbe%2BPx5qF2OuplAtvDC4fI2AEfWpNba5dXCqn2hmZjg4wozx%2BVVfFdjFZONH1eWVY/Pi3ODhtvBarE0GM3THET42g/Ee1VbpUXmKhJWQDuS2T%2BfJqwelL6W1uoolZtpX%2BskqO3Oe9ZZJWbouXHZO7OyeORd0ZdSQBj8KkVnZKzK7qScYHHatOkxy3C5QebvAYHI4FSG3tDwqoN3BOeMf8AParoyyfo1pbNFtQ8kn71YW6aJijN2GQR3ra6ytlgq4b500XUwVy%2B3Y3bceAPnTfVCPZr17UM2oDhQofntz8vpVTdQCeZpYMLN8RUjuo%2BtWferHdxBJCwkHxbly2D3H41XtzqK2urTbYzEoO4SNzub6c%2Bwqoxf9PK1FFFeoPJhRWN1YoAVRSaCaACiiigArIakbqVQArPtWlu9bVo20Ac%2BCDkd/SvZX8IEgvrW8UD4UiALj3yK8dsvFelv4M%2BoZLTqiXS948m4hdsexAzWL%2BpfSzZ/O/tR6O1hU%2B2Sgtzmo3dLpy2ss1w4CKeTux%2Bpro6n1iOGa9Kvmc7toPbOKobrLrC%2B0uZYry8JVgWMKY788H6VzYR5I6rlwdEg6i6g05bx4oSJOeSDkYqKXnU1k0ZjyirnO1yM8fWqv6i8Rp9QYiGNd7HLbV5OOxzmohedTXEkn8w7yf92Qe%2BSDR8Sey/zNdFwX3VdsLUhCrHO4cg%2Bxplt%2BrImkeTgZx%2BAqB2t2w%2BJMbW7qR3GP7Vths58yEHcdvwxj2JqOKRdZJMs2C/i1N8IcKvKkkdu%2BKTdR/zgzH73OM%2B/P7%2BtR3QWmhaCJQzMw%2BMD61OxpHnRiRAcEfdA4HHHP40mUPw0Qnb2RC8c2z428dwTTVcXaxKpzyT707dQW5jhdWYq%2BSO/eojcSOzMDjA7Gl0P5fhs1C5eONSBwTngZ9KimrXDyvsJycfsU/tI03BY%2B1M19bHzG2r8WPvGmRM876Ge1z8G74hnjjtXa1rHIoJx2x9KRL/ACeTjjiueO6DMA7bRUOTspGKrZtFpG3ITLZ/CuiG1WNQh5XuPcUtr2ytEAkmVXI4VeSa1NrEEaDZFI4%2BfFXlaRWMY2OdjZRMwO34yeCBzmpVp%2BiyeSGZMjPpUU0HVpLi6CQ2LEk8ZzwPyqw7LV73TrVjJpKsFPbzcMfoCOaTxb2aYyitWd2n2s%2Bn4KLsXPzqVaPrTQyKdjEAkAj0qGR9fWsUfmX9nPZR9g7IdoP1FS7RdW0fW1hls72NpM5xnvk/4pTi2avkVUXP0drnnxxxttVeMN/UOfl6Z96sKwlzGEDJsA4ZSCT%2BNUVpLTWOJFZfLUjJBzkd81OtH1p7goEbYWbG72q8FvZlyV2ic61CvlrtUlT3POfxqLTxuszAx/B75zgVIIZG8kpM2ee59c0yahHI07o%2BVUNuGKe0ZtjfcZVWRDmLb6jntVfdQwPBqcDPDi1cbCDnHPqCKsqSEyQgj7p/M0z65pP%2BoWuyRtu34uPXjtRRB4moopNelPLhRRSd1ACqKTuo3UAK3j2o3j2pFFAGWrFFD%2BtAC1pVaNx96WsnOKAFSNirj/hNvBb%2BKtquMs0UmAf/AKGqZkbirT/hd58ZdETdt8zzF5%2BcbUjMrxtD8L4yR6j1iy83UrgyM0eckn09xiqc600NLy%2BSS0XzCv3mmOQOew/Kr%2B1/T2jW5j7BiRkHNQyz6bgaGR5Nnls25mIwB61xrpUjvqKe2ebNf6UWaQs0C4HYx8H17/j/AGqI3WjwWzbgCzLxkmvSPUD6fq0N/F03ZHVbi3BE90x8uGL5A%2Bp78AV5i17UL9b6dZJUjVWIxD2HPv3pdyGpY2K%2B1fZNyqAFzn/mt9jrMUcm5V2kjsO/tUMvrl5GINxID33A/wDiueNpPNjQXhV2GQZCCv5%2BlSrfYOkXhoC22qTHDBGJ3FVPP9%2B1XV0jobXNntZdxUcKTk1470zqa%2B6dnjMx3RSHCzRNx%2Bles/A7xDtNZFrHM4DqMM/4etM67E3e4kU8QOnZLC8cshUYL7R6Lg8H51Teqb1lYkE81688bdDSbTTfxgLiPuPXI715b1uNRMCFB71SdRZpx8pRODT7P7SGPltnHoDWJtLHlsSD8twxUv0Cx863WQgH5E%2Blc2uQrFbN91VPbtn86omqL8WVRrMe2RwDwP6agmu6hLC4jjbac8NVqwdOt1B9qETKjKSSW9Bnv%2BoqqeprT7PeSLE4ZlBAZhzgHvinQx3K2ZMk6Whejzwwxs81wqjPLueSfanP/q7Toxh7hmWPttOB%2BHzpntekfP0u5Fw%2By7kH8osfhY98Z96icNlD9u8m8eSDYcMVGcYrTHHGXsxvJOPRf/hz4qdMWMzpdRzSHPCKAWf3q1o/Gboa8jWB4b4JISojaDLAnHbnmqs/hW8Pul%2BoPEmwu9VvGGl2LefO84AVschfxr1V4jdZeCXSc4Oi6Bb61qqsJYIrWIkmXOFORwOQO59Kx5JqM%2BETVjg5R5yInp3UHh6uiwi41OOFZBgCQfCwPbIJ4qH9R9LdGtN9t0DV7Rpcbmjik2nnntVdXvhnq/XutSarq00WlwyMWjsrcg%2BWM5wRjHqePrUmbwx0fS402RkTKANyN9/3NW4r9Ji23aRPuh%2BpzDCbS4nLIQChdsjjHA/frU5s9WSzjVUkOJFyGU9jzz9Kp7TZdC0mSJTLIZEGCWH3WPpn61L49QDgMJGCYwvJpXFI122XJofUztaKC%2B6TOT8sCneC/S7Ys43PnHwjGf8An/xVVaBqHmS%2BYcsq4%2BEnjJB/4qzenYzcbJMbVxv%2Bf0oRSSHeG3WYDarIO3IzyeP%2BKTNppWF1UAHtgDmnZY2%2BAhcr3%2Bec12SwqYWcLxxkY5NMoSz5vUbc0UV6E8wYIpJX2pdFAGrBorZtpO2gBNFKwKMCgBNFKwKzx86ANHNYrdtApBGDQAAZqzf4bY2bxm6bWM4YzN//AJOarJe9WV/Dqrf%2BsXTW04PnseP/AKNS8ngxuPcke7OqNL8stt247tz6e9eXfGrrfWLzUB030oXkCpvvbyNcpCD6fXAr1D1ddvNHKgG7K42gc4xXnTxE1BOg%2BlryPSrOS/1C/kMjYjy2/seR7ccVxOKbO9zcUQ628RtE8M%2BlRZ681wzTjbDp9uQjyFgfjY9/b86879bap1BD03/1XbaO0fT9xdPaR3Z%2BMLID9xiOxx2z3p91Pw58RLXWLXq2/wBIbUWRhKbSVDJ5aA%2Bq5/easXxLsNA1bpVbrpXWIbTTr5Fm1bpvzTG7TBt2QsnHDf7ccVojGKdSRmlKTVwZ5g0fXNQ12/tYSFjWeQRllTtk4/zXoG%2B/hI6u07Q31aa4ga1ji84s2F%2BeB%2BFVhpFtJPrtrdrpLQ6fZzCUJGAS5XkAt2xxVidf%2BMHVXWFmtnqF/wDYdPChFtbUHkfOs%2BS3L69GjH4vl2VwdK%2BzWv2ae/tbeGXsWlBwQO%2BD9cfnVseA8d1o2oNHcy5xlBt5zyMEVV2k9G2mrMFkSRp2PweY2T%2BPtXoPw36SOm28R24I435P5fv2qJdDcaaZfPVRTUPDdrgkFliZApBycDuPoa8ndRsqzMqoFbPC9sV6j6jvhZ%2BGstsyFoyvDZww%2BYP58V5j1sJNIzv8LH1pGR9I2YVpjroLu2nja%2B9wv3T/AJ9qb9a3TK25dqHjaT/atnTkgkWRGOQMZz2rvuNL%2B0NhFaQe6%2Bn96XbH8Sv47ifR7p/K%2BFWUgrnuD3FQHWNGgvtUluJR5Z7BBkYFW9qWhiRSGViw5HPyqLatoMkcZYRFhjn14pqytIySw2yv5tOjMwCxtInO0iXH481p/wBLtGb%2BfZyhwf6gT%2BtSqPTQVEgJXJxya3R6b5blkc/T5U6M72Z5Yv0YbGFLdCluzRxf7Qxx%2BQqa6DqD21j5Eb%2BTG5%2BIiLJOO3PeuO2s2RivGPXNO9qPhxhRg5/f6VDdOy8YPolekay2nwllLPkZdmOc/ga5dS6ilu7guJNpYn5VH77VDDhIxkZxgCixf7Vhjhvr3FIyTNWPGDRSfagwfhmyCD61ZvT8f2q1R3bd%2BNQia3aaz2oP/bOfh9M4qwvDGP7VYiOX7wb4j8gOKy8nZs%2BNUTjQdNK4BPHfGTVqdPq8USBRwF44qM6Dp8a/0qWZf6ealmm4gwm4BVzyD2x8q1QtmGfZIY5GwisCGHJ%2BdOXMiHKZ4%2BnrXHpswKA4JAPHOSacpZAwJ/p7itRhl2fMuiiiu8ebCiiigAooooAPwooooAxtrBGKyTWKACtTfepZ70lhQAmrT/hpwPGHQyfQyEZ/%2BjVVR71Z38OJC%2BMXTxPZpHAz/wDRqXk8GPx%2BSPZmsdRRWOoOZG4VsnmmbqDrrTI7A/Z7VFkZgTJsGT%2Bnem3ry3f/AFCYem7kGoT1Grw6SW4Ujjkdq4DyOPR3oYlkWxz1Xq%2BG7cJLL6BVJOD6/oKifVkmmzadLE5hLKfhjeEFjwecio9rUjHypjGTFIh%2BLjvxzXF/rCrYoxQAtn4vfjihZ37HS/lXogmrafPHut0PlRseZAMDnnAH40z2vSZupPhUs%2BcFmXmpzO1vdNIS4kZjzzyO3/mnvpHQG13VPLhB2ZzuPqeMAn8R%2BdTz5E/EojD0l0G7ahbIIhIZ22hTn67q9GaL0imm28KmPaVG4lR3qQeGvRYs0uGEEaeSqruYgsoPPBPPoafdeaHT4nGctkgHj09ahR9sOa6RXHipEIOkWkiBXb8LSKeOfSvMutK2BtOc81fHiRrX2rT5LUznYwJIPNUFeLJ5zZ5C9vpSMkk2a8UHxHjpOzWTPm4YthivbHzqdrDClrg7gM5yTnFQTQ5nhww4Ycd6mlvdp5Ijdg7EZ4Hr2pPNNmp43VnJfaXC3xRDLYyfxqP6lawSQOMbnwQeMYqX3sUUlqpjPI44zUU1M7ZcrjcB6CmxSYhtxZCZtHto5NiptcLwwPHP7/Sm68sHjye2TkH35706ahObPUAjSfy3bcF9jj2rW8iyMsbkjnnmpi3FlZJSGqKQc55NbvM%2BEndhfYVvksQZMkAgnjFaLi18vdnt6Y7Uy02J2ji1BQIgRgfMmnTp%2B3Bt1wPvd6br22ZbcliFAIxUm6btdtrEXXcSBhR7YrPPujXi6slOh6YZI9u0DceC3ap14e6JJ9o8lYlhTPxZ9fem7p%2B1gjhJK7yFCjB7VJ/D%2B%2BMOv3dpI0pQABHf%2Bnvx%2B/al8eh7lSZaOnaaipH/ADCS5CY7DHNOsNiFkK52le5PbFabFi8mG%2BEqvDehIp%2Bs2hm8qIANKMkqf6jz/f8AzW%2BMUjjZJOzOnYjkIAwCeV9633DmNztTywB8I7/Pn8q2CRV5mCrxtX/cDXDeXAaN1Tu3bmmdGflyPnDRRRXfPOBRRRQAUUUUAY5rFKooAw1YrO2jbQBikH1pZGKRQBr%2B9Uv8I9U/0fxJ6duicBLtAfoTg/3qJAZrdY3Bsb62uUOHikVwfoc1WW4tFoumj6FdWaek%2BqSYXcjgN357VFdc0mCTSLuNozjaGDrztI9fpUp0y6XWNB0zUs7zcWkTZz6lRmum86fFxZybC7Erg4/UV56cWemwNUmzzB1YyQ2cMEJLquXBU5wexpo1y1a30a2kMZ%2BBVJB49Mf5qda9oMS6pcQzxhZrflVGM4%2BYFRfVpnmt5I8K7BMBCDjOc%2B9ZUu7OrJ6VES0yA3RKldoY8sDj6j/FXT0TosWg6emXUs2GA3E4yec/lVX9J2LO7yXEYUxneFOcNj2qcWOuq1vJER5ZblWx7ZAApiozPbL%2B8PdSF/byBWJcEq2CoOTyp5%2BhH41GOv8AWEjuprVWyQeflyKh%2Bi9cLoYFwGAKkSnY%2BMnP3R9Rml6WbrqjUHvJBvNyd5XGdmecD9%2BlNnL6qKERh9%2BT6Il1rGbq1ZvL2FcgjGOMVU0qlbg4x9DV7%2BIVglnZGJVxI68j17f%2BKo82hbVVSbhWbgLxWKUXyOtDx0OtnCkVsXZcseQo963addS3U21FZAq5IjHYfMmntNBjZCCjK4H4Dnt9a0TW40eCTHwO475%2B9VOP4Xcv0ydYit0NsTsKjGec4x3qJ65qPBliI2DvtNdawyXs2Qc5%2B8V%2B8eaedO6KudWjISMlcbSpH%2BfX/wAVaMnBlJxjkWiptWvRdXXxZVlPGPWt8JSSRWPK4B%2BdcXXGi3Oh3kqAMzw84Pqtcmi6mt5ECSoY9wnp8q1v7bRz02m4sk0UwkjICjC5/GtOAu5WGc8jmsWzA7s52jnv%2BdbkZJmG8DC4AaiJdnDqkbLa71UEBh8Penrp9HPkhGwFHKle1NV8qyWU28/AvxHHB4p06fhkabzEk3/1Bs8kY9R681HFciObSLHsd8LBi%2B7cORntx/euzofUriz6yu1uC3lyLhdwHIX3P7701aOC9xCcnD8MCO2P8f8ANbrFnt/EIKwZ0lhwBnbg49amUEEZsu/S7ySa4xvyufxqZQb7cxxg7WlG4NxntnvVb6PdeTM52kcDB/OrCttQ%2B1WsbYOU27ee37/zTV2ZZK9jnJIWtz5qHc3HxDtgmuGSV5WbAH%2B08dvn/au24mjaALktIRxntmmhWk2PGcH221ZiIo%2BfW6s5HvSaK9AebM8Gs0mlUAFFFH9dABRRRQAUUUUAFa2rZSGxQAhe9LaPetYXvWxeKAPb/gvqLap4S9PXKkMYomgZSf8Aa5H%2BKsbTpAkTAknIz396pn%2BEu8N94b6ja/fezumIX/arAH%2B%2BatgXQhiYcoo7%2B5x7VxcqqTO5/PL67K08StLDa5a3Ue1RdxNC%2BX%2BIsuDvA/feq0n6fdnlaZs/Gy8evxY3fKrm6wsmvBbyKFKwli24cbePhI9z7j2qu9fzHM8sahUm/lhSDjg4IpHBXZvWZ0QqOG4aFuCCD/7g4DY4pvfWyqq7coAVAPB4zUzkt7W2ae0t/LFwinMXscZOc8fPiqt6rL6eVIRoWPZRnHfPP6VRx2OjK1Zc/SfQ82qdOx3rsQJDvViuQB6CrN6RtdO0uKFbmUB8DKgc5%2BX61XB8WLTpvwj0S7hHmo8AjlWMcq6jkH55rz1dfxYWNrqxza6lLsbaNmAB3GRzzTIw/EIlkpbPUXi5cwBfNgAYhgFX0AweflXnfXNbePUv/j7cEE89jUp0jxi0HxKsEa1vmhvgP/i3Q2P7fQ9/Sod1DcH7WwaLMgOCWPPB4rJlUr6OjgyR41ZM4%2BrItQtER0ETIoIO7s/vUZ6g6mMeVXk47flxn60yQ6l9mjeWRSyKCcMc1U/iB1Jr%2BpXLJYFLW2fgeU3x4Huf%2BKtixyn3oVnzKPjsu7ResVstjSlS5PqRV7%2BFfiNpDXEP2oCP0OCO/p%2BFfPjTOk9WSaC8vbufAIfb5jEnt61a3SfUU0MmwSsgyB96r5cSj4uxWHO8mpqi8v4jOmrSLXLS4tGXy7k5DKvw9v7V5yjsTouoTIh3QiQruwQDzwRVrdSdVXPUkNuqBnW2TYHkP6iobfac01yImyEwW3HnkDt%2BlWhXGmGS3LkjXYznO5gCduD/AM13RyIGyfutwB65%2BVNHMOBjAHNdkaGRywxw23A9flRxoOVo6L6Ty4DIW3h1IwR24p46LeObpqK8jut93FKwkix9znj%2B9M00YkMYUNzwQRjPvTNozrovUUsRV13q23ax9cHt%2BdTLtMopaZdHTd415ksFMeMkDB5HFdmz7P4kWZc4Sa0JDH1Pt9R/mo1o%2B6RIpI22%2BYQM449ufbsaXNq3neJGixbtoaDaVbOC2WA4/KoltBdUXbpMe2Q5bLN3X2I9amnTtx96Fsq2e5HPb0qBaKkh8sv/AC5Ez5ij1qXR3iW6l1HLAFg39/yzU1sq5JqiTNn7zSb3Ydh6fOtEfmLNtzu57ZrnWZ5o1kTPlsvPHP7/AOK67QfDvk5yCQMc1ZikfPqiiivQnmApVJpVABRRRQAUUUUAFFFFAAe1a2zWysMtAGrnilbqTtO6sniglF0fwuddP0t4lWdjNcbNP1U/ZpUb7pc/cP5/3r2L1Bpr2%2B74QpHIr5uafeyafeQXMLbJoXWRGHowOQfzr6O%2BHfVFv4v%2BGthqyY%2B1KghuUU9pABn8%2BKw58e7NmCdaGnTo1ubzypCq%2BeNjOzEDHr29T/mqz17T1u7qX7JzHBeOqse20E4yD69qsDVlksZEA3I6Pz7Y/Yph1OKe6ujOIFEFxCXdg3Zxhf3msj60dGMqZW91Yvb6s7vHCyXCqfOJ5ZuV2n8sVX/iFpMt1eL5a7o4VBJXOByeP8V6Dj6Rm6p0VEXEcumv9rZlwXYKOF9sE9xjtTQehYBbxmYebJKC8hxjOT6%2B3YcUvixyyLoh3QPQGmX/AEi%2Bl65M1okxMicZIYDHA%2BeapLqzwEex1qRLC2W8g3EiVDxtznJHftXpTUGht9TFpHhhDFuHwAlflnuPSmu6vEhWYIcnGTkfP/8AKjXot0tlBat0DbaZp8SW1qPtaLkzKvIb1Ipnj%2B0yaWYtRn8yQH%2BWx4OKtjqFvMWV1G7CnKr3H7HFVneQrcTbNxIY42jHA5zzUyREWpOkR7VLaSO3j3XUk0WOF9KjltYh7pndc%2B3y4qfzadHJYkZ7c5I/Ko3HCsNwMDt3Bqi2i8vrtDvp8SeWFYLtx/VyK7hZ28YAjijBJJ3BeTTfbsFxx8Q7V2wzfCHk/wB3Pf2FDRaORex3tVbaAONwx3/fypu6mtQtjudiELYyB2/fNO%2BlRjarEPg4HPf8v32rv1bTft2nyw7Nv9RZskAj0wKW0zTzT7IxDpIvNLR4Qzq3OeSfb/FbtP0sxwlZh/UAGX%2B1P3Ttv/2RiIQBCV%2BHPvxx%2BdPsXTwuo2yT5Ktk7e/yqyeqYvju0QzULF7OZo5lHxEEMvYfMVH9YtVtdSsrttrKr%2BUzqe4I44q0%2Bp9F8iBQU3BX2rIBxz6fpVe9WabJHpLl2A8p1ZZPcD0qXVC7pkx0MxxwQjG4Hu2ewPpn2rNrpzTeI2nSLj%2BRalxnvnLcE/jSek/I1DQ/PUFblkBQeme3en/oy1nvuodXvJo2MUSQ25kI5RucAe2QKjtBJliWurLYxCdYw0jD4lbuO/606WN41xGpQ7d3dcZB%2BVReRlEgRo9284OG5z%2B8VJen4mVYlcMDnOMdhirC/ZLNJEvlovmiSP1II59xj2/81INojhZQuA2Dj50zWToiqExjGNmOR86745SVbcSxGCBn05qF0S%2B6Pn3RRRXoTy4UqkjvSqACiiigAooooAKKKzuoAF71lvY1gd6y1AGnbz8qy3as0lqABa9E/wAH/ix/0X1dJ07fOBpWsMqgsceXMOFOfnnFedlx610W07286SxsyOpBVlOCCPWqyjyVF7pn0w600GN8yIpXnn5VCJFf7MsCbPLimVi23DZ7HHuCPSnrwd68h8WPDGxvS%2B7UrVRb3qnk7wOG/Ef5pN9YyabeGSPj4sqc4we4/WuW04yOlCXKJx2cg6evJNzMkbwtvJ4%2BW32pGpTNqUksob5hsYH1rjvNWbXunZrmcBb3e1vMMDO4PjP0PBrvvI1h09VJwcKvtk1W7dDqpcmVrdaW0E9zdZyZwcMw5wPao5ewNJGZxIEJGCfTHfJq0tS00JpMTySjCtvDLk715x37VFrjp9dizXhCWpY7YP6m4PJP1qa49Ec%2BXZT3Vl5ss2aKMyMq7d/vzVXw6msN1/NXAY4OR2FejdfWy%2ByMkdqrJCeFKDOPl%2BJ96qrqnQ7OztZZ0gVjjIO3H79vwqkotj8cooiDXJkQlEyhPrx%2BlcKaW8jPKTgbjgVz/aZWmOeDntngVsS6lXId/hzj71UjAvLL%2BHdHo0qLu43seNvPp/8AlOUejyR/EyF19sYwaTpeomGDcFYlT94gEEd6kserNdeUZIw0cQwwzgA%2BuahxYKa9oVY6c/LKpVPvbcdj6CnqGNo5Iiy7Uxlc9yT2Jpx6f12wdUjkgKOvDAjn1p%2BuNFs9ft2NpOsZAJBP9LdxgD0qie9jXFVcRu6i0vydNhuJIlgumGGTglz6EEe/0o6cU3lq4KgMGzuzzVZ6t1pNZ68dKu3cvbsYzJIxfcc5AyeQM1M%2Bm9YSTEqNtyw2cgcHjBH79atKn0GOUo9llQ9Nw3%2BkzLtAd33Fe/4/n/eqQ6x002NrqltJHvXY21T2BBr0h0fMsh8thnchGGHb9/5qrvFLQx/qKn4fLm3RsuPwB/SoJ5bIT4XWX2np21CDG3dHj5kk/wCRUl8M5Jrj/X5rnaoaWNFUnBAG4g1q8FdPM2k6laTsq3EczRjGAFAAA/sPyqXdL9OzWnSMUqWbRG4kkYMwGX%2BLAbOexGKrFdIrOVWaLWQR3EkbnzVI4z3HanyxmcKXwQykhc8cdv2a4bDT421ARyOyELzk%2Bvt%2B/an7yTHbxwu4CgZDcZPFMFxW7O%2BHUNy7ShJQbifT6U9WczLb7mdSpOTjvUNaZGk8uM7j2x2/feny1vl%2ByM4yApwB2qvon3Z4iPyrI7UmlDtXoDzRmsg1iigDO6gGsUZxQBlqN1Y70UAZ3Vjn50UUAKpXGKRurNAGGpDDNLasUAa2x71sjy3etR71sSgC9f4UPE4dBeIQsb2bbpGrJ9nkV/uh8jY317j8a9v6lodveXEkQAO4ZBX86%2BWMNw9vNHLGxWSNgysPQj1r6N%2BAfiDB4jeH%2BnX5lDalAi293zkhgMZx7EDNY80admnFL0R3/p%2B50/rrU9KaNvsmoxm4hbHHmBRkY/D9a6b%2BdbVskGNOMsSSN2Txj0q2Na0cJfWF%2BFVmikXLHAIUnB5%2BhqmvFyaTp%2B8MbL5SmXlnBBJ9PbIxWVR47NjlzpDfHBdQzavPNHNPZl0e13cqd2fh%2BWDTVrXn31mFcfz8crjAHGT%2BGeKpDq3%2BJnU%2BgZGlVYbuKNmVI5lLKwPyz8hipz4DeO2j%2BLVjcWOpQvpl1KS1vM3woWBzgN6e3PvRF2WkndDR1Jb3tnIsaDY3mDcFO4jjPPtyDTfrNmNd6dlkjG54Y4wVAxkHdj9TUk6umjur2/0u7b7FNC%2B6LdgeYGPqfcZJ%2BlQ/XuoD0/o7RxKpFzEhlUHIDxn0%2BROahui8YuXRT15E8E0Zbn4ircfv2NAaGSTDll45aMduPb9966Z1TUA9xBKsyM5baCMqPnTXeXUNncxvLKE%2BPYwOPb/BpPOx/wAbRJ9MkWHT4Ym2sk0hj3MCCB3/AD5p%2BMEmmq7w/wBXC4YNkY7H8arW66lgbVIre2YtbxnOQhwzZqTaf1leKqNb2m5XJG2YEkAZI/Umh2WjC/RP%2Bk7%2BL/UHkvLbzbZomQ4PKseAfnzUD6t8QJugeoI3trhlhV8FG7AZ7fStsc2rTRoiSxxTsdp%2BHA449TWrVvDmK6glutVVri6yMludpPAIHtn%2B9Vq3sa04qyAap4h2fVXUV1fDZHJLLvKg9j8qmfRvVbK8KtOWKuuAw7j2/SoHonhG2vajqEsMTwLEpKBAeCP/AMrVo8z2N55TttdG2%2BuM%2BlEoqPiysZuXaPZnR/UT3UNr5Ero8x%2B%2BT2%2BWP32rq8SlW4urdgFOW98jPGf386rLws6gEjrDL/7ifH6nn0/fzqc9WXDtcQxnL7uQR2oRNbs5PCrTWm6%2B1uFI/wDtWkj%2BNgeGYDj6HJ/Ori6g6Yfp%2BMWCSbnjBJZSSGY8%2B/eq%2B8HdL/1fry9LXX2WNbeHfGgDSP8AHy6jsdoWrW6y1SC51y6ltZBNCW8rzGOGYYxxj6UR0mys9ySRXiws90xkjjB7gqoXii6h%2B0QxqXxInKk/TH7%2Btd0kixzb5GLA/DwBk%2Bn7%2BlNd1fRx%2Bcc4ySfiI/L9%2B1Lb2NUdGlZBBEyk7pFyw49SeK12t3N5MyuzFGfIpruL5P5rmdXXABGR3OOxrttpEMLtuJHfaeaiTcUUW2eUaXSKVj516Q8wZooooAKxtrNA5oAKKKKACiis7qABaGNYooAVQVrG6sbvpQAjZ8qznbSTyfak0AL31dH8LXi3/wCm/iFBb3rhdH1M/Z7jceEJ%2B634HH4GqTOfetYYhgQcc1WS5KiU6dn2OiWHWNMcQusqMmVbuDkcVVn8S3RY1/w1g160JNzb4tbiNV43DjOf0qv/AODbx0TqTp%2B26Z1CVjq1iu1GduZYx2/EV61bTbHUundW0%2B5thPbXURLRqoG44PxfI9uflWLj2maFPi7PlfL4S2PW%2BuCC73sjKY0Pba3of0qzfB/wptun%2BjL/AEc2wa4hmaM%2B7HdnP0/GnrTOmbnQ%2BoJUmg8p42aMq/dWBwfrVuaP0zFfRC5iGbef%2BVMUPKSY4yPrSeNaNvP/AEeZvELw8vLe0mvZkm8uNlRJnfhSf6V57Cqjuem3tbreLqZw4O5W7EmvcnWei2mr9F3GnahM9pNCW/7qZMrIEJyuB6kAfpXmHVr2x0%2B4ls4bXEVvhnkb7gY%2B35UuUa9m/Dli1TiVVo/hS8uoSfYTNHcs3xbHOTmujWvDU2Un89GeQZPJ5HvU56N17/Q%2Bore6u/igYiR3XkEbScfjyKcur76HUrW8a2jVd0nxBhkgEZGD9QRSlvtm2U1HxiVZp%2Bi2sMqARHcMEs3bFTbpvoy76gZ4reArt%2BNGA4K%2B5/KoR/q9zY%2BXGI8Dfyp5zz2qyOjfEK/jjW3UlEb4M%2B3y/WrfXtszyyZJdaJ30R4X6dNqqS3m7ZEDI4UZHFY640%2B2v45IoUCiZgdyjjB5UD8MVotuvk0W3urFpsXk2P5ikjbwfh/HiuGLqC2t2SaZt0uPgQADjGAapKUVsVwnJ02OGh9PW/SOgyFos3cmWyD2%2BteU%2Br4RB1PdKv8A/Kx549a9G6h1N9udsytg5Yj3wO1UV1vaxydSOwTf5h7%2B3JqE7RZxpkx6B1BtNnt52wBt43dvrVinXjdX6BnD7cH4ecgkH9P8VUWil4Y9oAwvGBx9KmGk3kjeXIR8TYCgHkUUCLX6ZP8ApHV1vqpkgWVIwlsxYg7txPOPnxU1u%2Bo01CeSR2XdI2SqLn4uefzFVSmuXKf9uqJl2Uh9gyMYyA2M9uakMd5ukBcKeMt8ON2f3%2BtU5Lou4%2Bx41S4Mar5xJyc%2B2PSo/qMh8mSTdh%2BQFPz9fypUrBF7hxnj0IFM%2Boag5gcuhAycYPJFL5bJOe3HmXAuD8MiAAD6VLrCRXjDHPbkVDtKmRYyccsT8Td6kmk3AdlBPAPPzqkpOTJS47PMy96VWFGKzXqjyYUUUUAFZWsUUAB70UUUAFFFFABRRWfegDFFZ3VigBLd611sPc0kjNACT2rWwNbSMUlhQA99CdZ6h0H1Rp%2BtaZK0V1ayrIMdmAPKkexr6u%2BB/ipYeJ3R9prdlKDlQssfdo3wNykV8hSu3kVcv8Nvj9e%2BC/VCCRmm0W7kVbq3J%2B6P94%2BYpc4%2B0XPod4qeGMPULx6hpcQ3QqVMiA7mABb4vcjtn5iqb0HWL7ovWnYjMT/fgk5Vh9D%2BdW71R1zfw9JnV9DZdUjQJdW8EOWWVDnIG35f2qs9a1Cx63jivNPZLfVJcM1iq5cHbkk/rWSfVo045Ppmnq/rbTNWs7uAWqJHMu7Y4zscjHDH0%2BWa809caXbjKWyB1Ztzv3Lck8/mfyq2eo9Lns1kjk5dgc8cZGe1VTr3Tst0rmLzFkyQu0nBrHJOR08UljWiurnZDbLbgbRG6vuJz2BGP1rA6gRdPltiMrJhS2OdoOQM1HOr4bqwuHSOWZvnn19qgN02oCExy3Mx%2BP4ZNxBGPQ49P%2Bar8Uhz/oosW6vIPMaQ4BznmuQdXwaPl/OSNjyoByfyqsrrTbvzNss80hz91icEf/lOdtYh2VmU7vc88VSWIus/LpE7XrA3EhkQM8jHPmN%2BdOlnrMrzK7PvyM/FUOsoWjyCOMcZpyi3xq2Ac/vNU4DeWiUtq7P5u0AYB7HtUX1pYpLiWTB3g55J/A12RySRxxsq8FuTTZrGoMjA%2BWHIA5Gdo9OasiknoVp90u6Q%2BZtO7jipXo8hWz8xyMhhyT6Y/vUK0u1kmmDzIfJzgNjg/KpPbq8NuAWYxs4AVRzjHfn0qZC4j/Y9QSya7FEblljUszBslTx2wP8AFTltWt1kRVlZ02fEPX696qexbfqEz/CiKvDt35HB%2BlSzRdURpSuzzkXjzCuMH2pcl7LXuia6hfwrCxEgCkZBz%2BQpg1DUhvWNmPwj7v8Aam3VNet48CNgzLnjPamGTUjLJvLBjn35pKVvQ1uiX214z7Qh3Z%2BVSbS7xbdd7KG5xzVeadqAUxYdVOe1Po1BpplVQSF7FT6%2B9PjjrZnyTfop6iiivRnmUFFFFBIUUUUAFFFFABRRRQAUUUUAFFFFACT3rB70UUAYak0UUAJrX/VRRU%2BgPaH8FnVV/wBSdG6lpeouLqysZAII3z8IIOR37VZN905Z9E6tK2kq8C3zOssbNuUDaW%2BEHtzRRXPfkaoeIX1rHd21wZV3GJBIn/8AU4bt8vhFQCDT4HtL0FPu5wfUcmiils1R8SlOttItTq96nl4VZBgD04qodb0%2BBJwQmDmiigYjhuoEVkIHO2tNsBvfgfCOKKKRPs0Yx7s41eWQEcbfSui0%2BK4kz3yOfXvRRS2P9Dpaqr%2BZGVBVgcjHyqPjT4Hv2hKZTI%2Bveiio9FPY%2Babbx%2BafhGFzgeldN6oiZHXgsoYj0JooofQezkf4bqSEcJuXt3%2B7TtFdyf6fJ2%2BFtw49aKKW%2Bhvsi8k7s5JPOa2LK2O/tRRVolWOGjTNI67sNuJzn8alUErJC5GAQeKKKd/gzez/2Q%3D%3D%22%2C%20%22popupAnchor%22%3A%20%5B30%2C%20-30%5D%7D%29%3B%0A%20%20%20%20%20%20%20%20marker_b086d7bb984848debe9129db99e460d8.setIcon%28custom_icon_2eb8b511f77e48ea868eb5ca3a638c0f%29%3B%0A%20%20%20%20%20%20%20%20%0A%20%20%20%20%0A%20%20%20%20%20%20%20%20var%20popup_462fbf558cf04fb39aa4124bcc07d234%20%3D%20L.popup%28%7B%22maxWidth%22%3A%20200%7D%29%3B%0A%0A%20%20%20%20%20%20%20%20%0A%20%20%20%20%20%20%20%20%20%20%20%20var%20html_a6391bc841fa4e868e8c55d6c09e27f1%20%3D%20%24%28%60%3Cdiv%20id%3D%22html_a6391bc841fa4e868e8c55d6c09e27f1%22%20style%3D%22width%3A%20100.0%25%3B%20height%3A%20100.0%25%3B%22%3E%EB%85%B8%ED%9B%84%ED%99%94%EA%B0%80%20%EC%8B%AC%EA%B0%81%ED%95%9C%20%EB%AA%85%EB%A5%9C%EC%97%AD%3C/div%3E%60%29%5B0%5D%3B%0A%20%20%20%20%20%20%20%20%20%20%20%20popup_462fbf558cf04fb39aa4124bcc07d234.setContent%28html_a6391bc841fa4e868e8c55d6c09e27f1%29%3B%0A%20%20%20%20%20%20%20%20%0A%0A%20%20%20%20%20%20%20%20marker_b086d7bb984848debe9129db99e460d8.bindPopup%28popup_462fbf558cf04fb39aa4124bcc07d234%29%0A%20%20%20%20%20%20%20%20%3B%0A%0A%20%20%20%20%20%20%20%20%0A%20%20%20%20%0A%20%20%20%20%0A%20%20%20%20%20%20%20%20%20%20%20%20marker_b086d7bb984848debe9129db99e460d8.bindTooltip%28%0A%20%20%20%20%20%20%20%20%20%20%20%20%20%20%20%20%60%3Cdiv%3E%0A%20%20%20%20%20%20%20%20%20%20%20%20%20%20%20%20%20%20%20%20%20%EB%AA%85%EB%A5%9C%EC%97%AD%0A%20%20%20%20%20%20%20%20%20%20%20%20%20%20%20%20%20%3C/div%3E%60%2C%0A%20%20%20%20%20%20%20%20%20%20%20%20%20%20%20%20%7B%22sticky%22%3A%20true%7D%0A%20%20%20%20%20%20%20%20%20%20%20%20%29%3B%0A%20%20%20%20%20%20%20%20%0A%3C/script%3E onload=\"this.contentDocument.open();this.contentDocument.write(    decodeURIComponent(this.getAttribute('data-html')));this.contentDocument.close();\" allowfullscreen webkitallowfullscreen mozallowfullscreen></iframe></div></div>"
      ],
      "text/plain": [
       "<folium.folium.Map at 0x1b0fa9a88e0>"
      ]
     },
     "execution_count": 102,
     "metadata": {},
     "output_type": "execute_result"
    }
   ],
   "source": [
    "map=folium.Map(location=[35.21926643712289, 129.07844531872402], zoom_start=12)\n",
    "\n",
    "custom_image = '222.jpg'\n",
    "\n",
    "icon1 = CustomIcon(\n",
    "    custom_image,\n",
    "    icon_size=(90, 80),\n",
    "    icon_anchor=(10, 30),\n",
    "    popup_anchor=(30, -30)\n",
    ")\n",
    "folium.Marker(\n",
    "    location=[35.21926643712289, 129.07844531872402],\n",
    "    tooltip='엉덩이술마시는 노래방',\n",
    "    popup=folium.Popup('온천장에 있는 이상한 이름의 노래방', max_width=200),\n",
    "    icon=folium.Icon(color='blue', icon='info-sign')\n",
    ").add_to(map)\n",
    "folium.Circle(\n",
    "    location=[35.220492806158184, 129.08641226919383],\n",
    "    tooltip='온천장역',\n",
    "    radius=100,\n",
    "    popup=folium.Popup('지하철역', max_width=200),\n",
    "    color='green',\n",
    "    fill=True\n",
    ").add_to(map)\n",
    "folium.Marker(\n",
    "    location=[35.21271952764704, 129.07972118453716],\n",
    "    tooltip='명륜역',\n",
    "    popup=folium.Popup('노후화가 심각한 명륜역', max_width=200),\n",
    "    icon=icon1\n",
    ").add_to(map)\n",
    "\n",
    "\n",
    "map"
   ]
  },
  {
   "cell_type": "code",
   "execution_count": null,
   "metadata": {},
   "outputs": [],
   "source": []
  }
 ],
 "metadata": {
  "interpreter": {
   "hash": "e3bde7f9be308a4ed5b677c98eb4e5423d8d4c39cb1152441ce9aa81adc70699"
  },
  "kernelspec": {
   "display_name": "Python 3.8.8 64-bit ('base': conda)",
   "language": "python",
   "name": "python3"
  },
  "language_info": {
   "codemirror_mode": {
    "name": "ipython",
    "version": 3
   },
   "file_extension": ".py",
   "mimetype": "text/x-python",
   "name": "python",
   "nbconvert_exporter": "python",
   "pygments_lexer": "ipython3",
   "version": "3.8.8"
  },
  "orig_nbformat": 4
 },
 "nbformat": 4,
 "nbformat_minor": 2
}
