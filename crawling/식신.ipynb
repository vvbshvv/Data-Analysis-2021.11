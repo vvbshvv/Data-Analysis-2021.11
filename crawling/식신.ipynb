{
 "cells": [
  {
   "cell_type": "markdown",
   "metadata": {},
   "source": [
    "# 식신 - 제주시청"
   ]
  },
  {
   "cell_type": "code",
   "execution_count": 34,
   "metadata": {},
   "outputs": [],
   "source": [
    "import requests\n",
    "from urllib.parse import quote\n",
    "import pandas as pd\n",
    "from bs4 import BeautifulSoup\n",
    "\n"
   ]
  },
  {
   "cell_type": "markdown",
   "metadata": {},
   "source": [
    "### 데이터 가져오기(해보기 전에 긁어지는지 아닌지 알수없다)"
   ]
  },
  {
   "cell_type": "code",
   "execution_count": 35,
   "metadata": {},
   "outputs": [],
   "source": [
    "site = 'https://www.siksinhot.com/'\n",
    "url = f'{site}search?keywords={quote(\"제주시청\")}'\n",
    "req = requests.get(url)\n",
    "html=req.text\n"
   ]
  },
  {
   "cell_type": "code",
   "execution_count": 36,
   "metadata": {},
   "outputs": [],
   "source": [
    "soup = BeautifulSoup(html, 'html.parser')"
   ]
  },
  {
   "cell_type": "markdown",
   "metadata": {},
   "source": [
    "### 찾으려고 하는 데이터의 태그 찾기"
   ]
  },
  {
   "cell_type": "code",
   "execution_count": 58,
   "metadata": {},
   "outputs": [
    {
     "data": {
      "text/plain": [
       "60"
      ]
     },
     "execution_count": 58,
     "metadata": {},
     "output_type": "execute_result"
    }
   ],
   "source": [
    "#모든 사진이 출력된다\n",
    "lis = soup.select_one('div.listTy1').find_all('li')\n",
    "len(lis)"
   ]
  },
  {
   "cell_type": "code",
   "execution_count": 38,
   "metadata": {},
   "outputs": [
    {
     "data": {
      "text/plain": [
       "12"
      ]
     },
     "execution_count": 38,
     "metadata": {},
     "output_type": "execute_result"
    }
   ],
   "source": [
    "# 해당페이지의 사진만 찾으려면 아래와 같은 방법으로\n",
    "lis=soup.select('div.listTy1 > ul > li')  #부등호 방향으로 자식 seletor 표현\n",
    "len(lis)"
   ]
  },
  {
   "cell_type": "markdown",
   "metadata": {},
   "source": [
    "### 하나를 선택해서 원하는 정보 추출\n",
    "- 상호, 평점, 주요메뉴, 서브페이지의 url\n",
    "- 전화번호, 주소(서브페이지)"
   ]
  },
  {
   "cell_type": "code",
   "execution_count": 39,
   "metadata": {},
   "outputs": [
    {
     "data": {
      "text/plain": [
       "'/P/466268'"
      ]
     },
     "execution_count": 39,
     "metadata": {},
     "output_type": "execute_result"
    }
   ],
   "source": [
    "li=lis[1]\n",
    "href = li.find('a')['href']\n",
    "href"
   ]
  },
  {
   "cell_type": "code",
   "execution_count": 40,
   "metadata": {},
   "outputs": [
    {
     "data": {
      "text/plain": [
       "'3.4'"
      ]
     },
     "execution_count": 40,
     "metadata": {},
     "output_type": "execute_result"
    }
   ],
   "source": [
    "score = li.select_one('.score').string\n",
    "score"
   ]
  },
  {
   "cell_type": "code",
   "execution_count": 41,
   "metadata": {},
   "outputs": [
    {
     "data": {
      "text/plain": [
       "'안양돈까스 제주시점'"
      ]
     },
     "execution_count": 41,
     "metadata": {},
     "output_type": "execute_result"
    }
   ],
   "source": [
    "store = li.select_one('.store').get_text()\n",
    "store"
   ]
  },
  {
   "cell_type": "code",
   "execution_count": 42,
   "metadata": {},
   "outputs": [
    {
     "data": {
      "text/plain": [
       "'돈까스 세트, 치즈돈까스 세트'"
      ]
     },
     "execution_count": 42,
     "metadata": {},
     "output_type": "execute_result"
    }
   ],
   "source": [
    "# p 태그를 찾으려면 find() 쓸것\n",
    "menu = li.find('p').get_text()\n",
    "menu"
   ]
  },
  {
   "cell_type": "code",
   "execution_count": 43,
   "metadata": {},
   "outputs": [
    {
     "data": {
      "text/plain": [
       "'https://www.siksinhot.com//P/466268'"
      ]
     },
     "execution_count": 43,
     "metadata": {},
     "output_type": "execute_result"
    }
   ],
   "source": [
    "sub_url = site + href\n",
    "sub_url"
   ]
  },
  {
   "cell_type": "code",
   "execution_count": 45,
   "metadata": {},
   "outputs": [],
   "source": [
    "sub_req = requests.get(sub_url)\n",
    "sub_html = sub_req.text\n",
    "sub_soup = BeautifulSoup(sub_html, 'html.parser')"
   ]
  },
  {
   "cell_type": "code",
   "execution_count": 46,
   "metadata": {},
   "outputs": [
    {
     "data": {
      "text/plain": [
       "'064-799-1434'"
      ]
     },
     "execution_count": 46,
     "metadata": {},
     "output_type": "execute_result"
    }
   ],
   "source": [
    "tel = sub_soup.select_one('.p_tel').find('p').get_text()\n",
    "tel"
   ]
  },
  {
   "cell_type": "code",
   "execution_count": 47,
   "metadata": {},
   "outputs": [
    {
     "data": {
      "text/plain": [
       "'제주특별자치도 제주시 애월읍 애월로 40'"
      ]
     },
     "execution_count": 47,
     "metadata": {},
     "output_type": "execute_result"
    }
   ],
   "source": [
    "addr = sub_soup.select_one('.txt_adr').get_text()\n",
    "addr"
   ]
  },
  {
   "cell_type": "markdown",
   "metadata": {},
   "source": [
    "### 페이지에 있는 데이터 가져오기"
   ]
  },
  {
   "cell_type": "code",
   "execution_count": 48,
   "metadata": {},
   "outputs": [
    {
     "name": "stdout",
     "output_type": "stream",
     "text": [
      "0\n"
     ]
    }
   ],
   "source": [
    "# try, except로 에러가 어디서 발생했는지 잡아낸다.\n",
    "\n",
    "lines=[]\n",
    "for index, li in enumerate(lis):\n",
    "    try:\n",
    "        href = li.find('a')['href']\n",
    "        score = li.select_one('.score').string\n",
    "        store = li.select_one('.store').get_text()\n",
    "        menu = li.find('p').get_text()\n",
    "        \n",
    "        sub_url = site + href\n",
    "        sub_req = requests.get(sub_url)\n",
    "        sub_html = sub_req.text\n",
    "        sub_soup = BeautifulSoup(sub_html, 'html.parser')\n",
    "        tel = sub_soup.select_one('.p_tel').find('p').get_text()\n",
    "        addr = sub_soup.select_one('.txt_adr').get_text()\n",
    "    except : \n",
    "        print(index)\n",
    "\n",
    "    lines.append([store, score, menu, tel, addr])"
   ]
  },
  {
   "cell_type": "markdown",
   "metadata": {},
   "source": [
    "### 에러난 부분을 처리할 수 있도록 수정"
   ]
  },
  {
   "cell_type": "code",
   "execution_count": 50,
   "metadata": {},
   "outputs": [
    {
     "data": {
      "text/plain": [
       "'평가중'"
      ]
     },
     "execution_count": 50,
     "metadata": {},
     "output_type": "execute_result"
    }
   ],
   "source": [
    "li = lis[0]\n",
    "score = li.select_one('.cnt>em').get_text()\n",
    "score"
   ]
  },
  {
   "cell_type": "code",
   "execution_count": 51,
   "metadata": {},
   "outputs": [
    {
     "data": {
      "text/plain": [
       "'3.4'"
      ]
     },
     "execution_count": 51,
     "metadata": {},
     "output_type": "execute_result"
    }
   ],
   "source": [
    "lis[1].select_one('.cnt>em').get_text()"
   ]
  },
  {
   "cell_type": "markdown",
   "metadata": {},
   "source": [
    "### 에러가 해결될 때 까지 5,6을 반복"
   ]
  },
  {
   "cell_type": "markdown",
   "metadata": {},
   "source": []
  },
  {
   "cell_type": "code",
   "execution_count": 52,
   "metadata": {},
   "outputs": [],
   "source": [
    "lines=[]\n",
    "for index, li in enumerate(lis):\n",
    "    try:\n",
    "        href = li.find('a')['href']\n",
    "        score = li.select_one('.cnt>em').get_text()\n",
    "        if score =='평가중':\n",
    "            score = '0.0'\n",
    "        store = li.select_one('.store').get_text()\n",
    "        menu = li.find('p').get_text()\n",
    "        \n",
    "        sub_url = site + href\n",
    "        sub_req = requests.get(sub_url)\n",
    "        sub_html = sub_req.text\n",
    "        sub_soup = BeautifulSoup(sub_html, 'html.parser')\n",
    "        tel = sub_soup.select_one('.p_tel').find('p').get_text()\n",
    "        addr = sub_soup.select_one('.txt_adr').get_text()\n",
    "    except : \n",
    "        print(index)\n",
    "\n",
    "    lines.append([store, score, menu, tel, addr])"
   ]
  },
  {
   "cell_type": "markdown",
   "metadata": {},
   "source": [
    "### 데이터프레임으로 만들기"
   ]
  },
  {
   "cell_type": "code",
   "execution_count": 57,
   "metadata": {},
   "outputs": [
    {
     "data": {
      "text/html": [
       "<div>\n",
       "<style scoped>\n",
       "    .dataframe tbody tr th:only-of-type {\n",
       "        vertical-align: middle;\n",
       "    }\n",
       "\n",
       "    .dataframe tbody tr th {\n",
       "        vertical-align: top;\n",
       "    }\n",
       "\n",
       "    .dataframe thead th {\n",
       "        text-align: right;\n",
       "    }\n",
       "</style>\n",
       "<table border=\"1\" class=\"dataframe\">\n",
       "  <thead>\n",
       "    <tr style=\"text-align: right;\">\n",
       "      <th></th>\n",
       "      <th>평점</th>\n",
       "      <th>메뉴</th>\n",
       "      <th>전화번호</th>\n",
       "      <th>주소</th>\n",
       "    </tr>\n",
       "    <tr>\n",
       "      <th>업소명</th>\n",
       "      <th></th>\n",
       "      <th></th>\n",
       "      <th></th>\n",
       "      <th></th>\n",
       "    </tr>\n",
       "  </thead>\n",
       "  <tbody>\n",
       "    <tr>\n",
       "      <th>제주시새우리</th>\n",
       "      <td>0.0</td>\n",
       "      <td>딱새우김밥, 간장새우김밥, 양념새우컵밥, 딱새우꼬막무침, 한라봉에이드</td>\n",
       "      <td>064-900-2527</td>\n",
       "      <td>제주특별자치도 제주시 무근성7길 21</td>\n",
       "    </tr>\n",
       "    <tr>\n",
       "      <th>안양돈까스 제주시점</th>\n",
       "      <td>3.4</td>\n",
       "      <td>돈까스 세트, 치즈돈까스 세트</td>\n",
       "      <td>064-799-1434</td>\n",
       "      <td>济州特别自治道济州市涯月邑로</td>\n",
       "    </tr>\n",
       "    <tr>\n",
       "      <th>올래국수</th>\n",
       "      <td>3.8</td>\n",
       "      <td>고기국수</td>\n",
       "      <td>064-742-7355</td>\n",
       "      <td>제주특별자치도 제주시 귀아랑길 24</td>\n",
       "    </tr>\n",
       "    <tr>\n",
       "      <th>명진전복</th>\n",
       "      <td>3.8</td>\n",
       "      <td>전복죽, 전복돌솥밥, 전복구이, 전복회</td>\n",
       "      <td>064-782-9944</td>\n",
       "      <td>제주특별자치도 제주시 구좌읍 해맞이해안로 1282</td>\n",
       "    </tr>\n",
       "    <tr>\n",
       "      <th>삼성혈해물탕</th>\n",
       "      <td>3.9</td>\n",
       "      <td>해물탕(특대), 해물탕(대), 해물탕(중), 해물탕(소), 전복회(소)</td>\n",
       "      <td>064-745-3000</td>\n",
       "      <td>제주특별자치도 제주시 선덕로5길 20</td>\n",
       "    </tr>\n",
       "  </tbody>\n",
       "</table>\n",
       "</div>"
      ],
      "text/plain": [
       "             평점                                       메뉴          전화번호  \\\n",
       "업소명                                                                      \n",
       "제주시새우리      0.0   딱새우김밥, 간장새우김밥, 양념새우컵밥, 딱새우꼬막무침, 한라봉에이드  064-900-2527   \n",
       "안양돈까스 제주시점  3.4                         돈까스 세트, 치즈돈까스 세트  064-799-1434   \n",
       "올래국수        3.8                                     고기국수  064-742-7355   \n",
       "명진전복        3.8                    전복죽, 전복돌솥밥, 전복구이, 전복회  064-782-9944   \n",
       "삼성혈해물탕      3.9  해물탕(특대), 해물탕(대), 해물탕(중), 해물탕(소), 전복회(소)  064-745-3000   \n",
       "\n",
       "                                     주소  \n",
       "업소명                                      \n",
       "제주시새우리             제주특별자치도 제주시 무근성7길 21  \n",
       "안양돈까스 제주시점               济州特别自治道济州市涯月邑로  \n",
       "올래국수                제주특별자치도 제주시 귀아랑길 24  \n",
       "명진전복        제주특별자치도 제주시 구좌읍 해맞이해안로 1282  \n",
       "삼성혈해물탕             제주특별자치도 제주시 선덕로5길 20  "
      ]
     },
     "execution_count": 57,
     "metadata": {},
     "output_type": "execute_result"
    }
   ],
   "source": [
    "df=pd.DataFrame(lines, columns=['업소명', '평점', '메뉴','전화번호','주소'])\n",
    "df.set_index('업소명', inplace=True)\n",
    "df.head()\n"
   ]
  },
  {
   "cell_type": "code",
   "execution_count": null,
   "metadata": {},
   "outputs": [],
   "source": []
  }
 ],
 "metadata": {
  "interpreter": {
   "hash": "e3bde7f9be308a4ed5b677c98eb4e5423d8d4c39cb1152441ce9aa81adc70699"
  },
  "kernelspec": {
   "display_name": "Python 3.8.8 64-bit ('base': conda)",
   "language": "python",
   "name": "python3"
  },
  "language_info": {
   "codemirror_mode": {
    "name": "ipython",
    "version": 3
   },
   "file_extension": ".py",
   "mimetype": "text/x-python",
   "name": "python",
   "nbconvert_exporter": "python",
   "pygments_lexer": "ipython3",
   "version": "3.8.8"
  },
  "orig_nbformat": 4
 },
 "nbformat": 4,
 "nbformat_minor": 2
}
