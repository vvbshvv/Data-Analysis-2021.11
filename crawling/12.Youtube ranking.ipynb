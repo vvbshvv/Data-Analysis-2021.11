{
 "cells": [
  {
   "cell_type": "markdown",
   "metadata": {},
   "source": [
    "# Youtube ranking"
   ]
  },
  {
   "cell_type": "code",
   "execution_count": 84,
   "metadata": {},
   "outputs": [],
   "source": [
    "from selenium import webdriver\n",
    "from bs4 import BeautifulSoup\n",
    "import time\n",
    "import pandas as pd"
   ]
  },
  {
   "cell_type": "code",
   "execution_count": 85,
   "metadata": {},
   "outputs": [],
   "source": [
    "url = 'https://youtube-rank.com/board/bbs/board.php?bo_table=youtube'\n",
    "driver = webdriver.Chrome('chromedriver.exe')\n",
    "driver.get(url)"
   ]
  },
  {
   "cell_type": "code",
   "execution_count": 86,
   "metadata": {},
   "outputs": [
    {
     "data": {
      "text/plain": [
       "100"
      ]
     },
     "execution_count": 86,
     "metadata": {},
     "output_type": "execute_result"
    }
   ],
   "source": [
    "soup = BeautifulSoup(driver.page_source, 'html.parser')\n",
    "channel_list = soup.select('.aos-init')\n",
    "len(channel_list)"
   ]
  },
  {
   "cell_type": "code",
   "execution_count": 87,
   "metadata": {},
   "outputs": [
    {
     "data": {
      "text/plain": [
       "1"
      ]
     },
     "execution_count": 87,
     "metadata": {},
     "output_type": "execute_result"
    }
   ],
   "source": [
    "channel = channel_list[0]\n",
    "rank = channel.select_one('.rank').get_text().strip()\n",
    "rank = int(rank)\n",
    "rank\n"
   ]
  },
  {
   "cell_type": "code",
   "execution_count": 88,
   "metadata": {},
   "outputs": [
    {
     "data": {
      "text/plain": [
       "'음악/댄스/가수'"
      ]
     },
     "execution_count": 88,
     "metadata": {},
     "output_type": "execute_result"
    }
   ],
   "source": [
    "category = channel.select_one('p.category').get_text().strip()\n",
    "category[1:-1]"
   ]
  },
  {
   "cell_type": "code",
   "execution_count": 89,
   "metadata": {},
   "outputs": [
    {
     "data": {
      "text/plain": [
       "'BLACKPINK'"
      ]
     },
     "execution_count": 89,
     "metadata": {},
     "output_type": "execute_result"
    }
   ],
   "source": [
    "name = channel.select_one('.subject a').get_text().strip()\n",
    "name"
   ]
  },
  {
   "cell_type": "code",
   "execution_count": 90,
   "metadata": {},
   "outputs": [
    {
     "data": {
      "text/plain": [
       "('7020만', '214억5709만', '395개')"
      ]
     },
     "execution_count": 90,
     "metadata": {},
     "output_type": "execute_result"
    }
   ],
   "source": [
    "subscriber = channel.select_one('.subscriber_cnt').get_text().strip()\n",
    "view = channel.select_one('.view_cnt').get_text().strip()\n",
    "video = channel.select_one('.video_cnt').get_text().strip()\n",
    "subscriber, view, video"
   ]
  },
  {
   "cell_type": "markdown",
   "metadata": {},
   "source": [
    "- 반복문으로 페이지 내에 있는 데이터 수집하기"
   ]
  },
  {
   "cell_type": "code",
   "execution_count": 91,
   "metadata": {},
   "outputs": [],
   "source": [
    "lines = []\n",
    "for channel in channel_list:\n",
    "    rank = int(channel.select_one('.rank').get_text().strip())\n",
    "    category = channel.select_one('p.category').get_text().strip()\n",
    "    name = channel.select_one('.subject a').get_text().strip()\n",
    "    subscriber = channel.select_one('.subscriber_cnt').get_text().strip()\n",
    "    view = channel.select_one('.view_cnt').get_text().strip()\n",
    "    video = channel.select_one('.video_cnt').get_text().strip()\n",
    "    lines.append([rank,category[1:-1],name,subscriber,view,video])\n",
    "    "
   ]
  },
  {
   "cell_type": "code",
   "execution_count": 92,
   "metadata": {},
   "outputs": [
    {
     "data": {
      "text/html": [
       "<div>\n",
       "<style scoped>\n",
       "    .dataframe tbody tr th:only-of-type {\n",
       "        vertical-align: middle;\n",
       "    }\n",
       "\n",
       "    .dataframe tbody tr th {\n",
       "        vertical-align: top;\n",
       "    }\n",
       "\n",
       "    .dataframe thead th {\n",
       "        text-align: right;\n",
       "    }\n",
       "</style>\n",
       "<table border=\"1\" class=\"dataframe\">\n",
       "  <thead>\n",
       "    <tr style=\"text-align: right;\">\n",
       "      <th></th>\n",
       "      <th>순위</th>\n",
       "      <th>캐테고리</th>\n",
       "      <th>채널명</th>\n",
       "      <th>구독자수</th>\n",
       "      <th>총조회수</th>\n",
       "      <th>비디오수</th>\n",
       "    </tr>\n",
       "  </thead>\n",
       "  <tbody>\n",
       "    <tr>\n",
       "      <th>0</th>\n",
       "      <td>1</td>\n",
       "      <td>음악/댄스/가수</td>\n",
       "      <td>BLACKPINK</td>\n",
       "      <td>7020만</td>\n",
       "      <td>214억5709만</td>\n",
       "      <td>395개</td>\n",
       "    </tr>\n",
       "    <tr>\n",
       "      <th>1</th>\n",
       "      <td>2</td>\n",
       "      <td>음악/댄스/가수</td>\n",
       "      <td>HYBE LABELS</td>\n",
       "      <td>6300만</td>\n",
       "      <td>204억9684만</td>\n",
       "      <td>725개</td>\n",
       "    </tr>\n",
       "    <tr>\n",
       "      <th>2</th>\n",
       "      <td>3</td>\n",
       "      <td>음악/댄스/가수</td>\n",
       "      <td>BANGTANTV</td>\n",
       "      <td>6150만</td>\n",
       "      <td>140억7794만</td>\n",
       "      <td>1,646개</td>\n",
       "    </tr>\n",
       "    <tr>\n",
       "      <th>3</th>\n",
       "      <td>4</td>\n",
       "      <td>음악/댄스/가수</td>\n",
       "      <td>SMTOWN</td>\n",
       "      <td>2930만</td>\n",
       "      <td>230억1641만</td>\n",
       "      <td>3,779개</td>\n",
       "    </tr>\n",
       "    <tr>\n",
       "      <th>4</th>\n",
       "      <td>5</td>\n",
       "      <td>키즈/어린이</td>\n",
       "      <td>Boram Tube Vlog [보람튜브 브이로그]</td>\n",
       "      <td>2650만</td>\n",
       "      <td>110억5288만</td>\n",
       "      <td>223개</td>\n",
       "    </tr>\n",
       "    <tr>\n",
       "      <th>...</th>\n",
       "      <td>...</td>\n",
       "      <td>...</td>\n",
       "      <td>...</td>\n",
       "      <td>...</td>\n",
       "      <td>...</td>\n",
       "      <td>...</td>\n",
       "    </tr>\n",
       "    <tr>\n",
       "      <th>95</th>\n",
       "      <td>96</td>\n",
       "      <td>키즈/어린이</td>\n",
       "      <td>로미유 스토리[Romiyu Story]</td>\n",
       "      <td>417만</td>\n",
       "      <td>10억9524만</td>\n",
       "      <td>434개</td>\n",
       "    </tr>\n",
       "    <tr>\n",
       "      <th>96</th>\n",
       "      <td>97</td>\n",
       "      <td>음식/요리/레시피</td>\n",
       "      <td>[Dorothy]도로시</td>\n",
       "      <td>416만</td>\n",
       "      <td>9억9800만</td>\n",
       "      <td>905개</td>\n",
       "    </tr>\n",
       "    <tr>\n",
       "      <th>97</th>\n",
       "      <td>98</td>\n",
       "      <td>취미/라이프</td>\n",
       "      <td>JaeYeol ASMR 재열</td>\n",
       "      <td>398만</td>\n",
       "      <td>10억9606만</td>\n",
       "      <td>1,018개</td>\n",
       "    </tr>\n",
       "    <tr>\n",
       "      <th>98</th>\n",
       "      <td>99</td>\n",
       "      <td>키즈/어린이</td>\n",
       "      <td>CoCosToy 꼬꼬스토이</td>\n",
       "      <td>388만</td>\n",
       "      <td>21억8778만</td>\n",
       "      <td>652개</td>\n",
       "    </tr>\n",
       "    <tr>\n",
       "      <th>99</th>\n",
       "      <td>100</td>\n",
       "      <td>BJ/인물/연예인</td>\n",
       "      <td>허팝Heopop</td>\n",
       "      <td>384만</td>\n",
       "      <td>32억6002만</td>\n",
       "      <td>1,900개</td>\n",
       "    </tr>\n",
       "  </tbody>\n",
       "</table>\n",
       "<p>100 rows × 6 columns</p>\n",
       "</div>"
      ],
      "text/plain": [
       "     순위       캐테고리                          채널명   구독자수       총조회수    비디오수\n",
       "0     1   음악/댄스/가수                    BLACKPINK  7020만  214억5709만    395개\n",
       "1     2   음악/댄스/가수                  HYBE LABELS  6300만  204억9684만    725개\n",
       "2     3   음악/댄스/가수                    BANGTANTV  6150만  140억7794만  1,646개\n",
       "3     4   음악/댄스/가수                       SMTOWN  2930만  230억1641만  3,779개\n",
       "4     5     키즈/어린이  Boram Tube Vlog [보람튜브 브이로그]  2650만  110억5288만    223개\n",
       "..  ...        ...                          ...    ...        ...     ...\n",
       "95   96     키즈/어린이        로미유 스토리[Romiyu Story]   417만   10억9524만    434개\n",
       "96   97  음식/요리/레시피                 [Dorothy]도로시   416만    9억9800만    905개\n",
       "97   98     취미/라이프              JaeYeol ASMR 재열   398만   10억9606만  1,018개\n",
       "98   99     키즈/어린이               CoCosToy 꼬꼬스토이   388만   21억8778만    652개\n",
       "99  100  BJ/인물/연예인                     허팝Heopop   384만   32억6002만  1,900개\n",
       "\n",
       "[100 rows x 6 columns]"
      ]
     },
     "execution_count": 92,
     "metadata": {},
     "output_type": "execute_result"
    }
   ],
   "source": [
    "df=pd.DataFrame(lines, columns=['순위','캐테고리','채널명','구독자수','총조회수','비디오수'])\n",
    "df"
   ]
  },
  {
   "cell_type": "markdown",
   "metadata": {},
   "source": [
    "- 숫자로 바꿔주는 함수"
   ]
  },
  {
   "cell_type": "code",
   "execution_count": 93,
   "metadata": {},
   "outputs": [
    {
     "data": {
      "text/plain": [
       "'3260020000'"
      ]
     },
     "execution_count": 93,
     "metadata": {},
     "output_type": "execute_result"
    }
   ],
   "source": [
    "def convert_unit(s):\n",
    "    s=s.replace('억','').strip('개').replace('만','0000').replace(',','')\n",
    "    return s\n",
    "    \n",
    "    \n",
    "\n",
    "convert_unit(view)"
   ]
  },
  {
   "cell_type": "code",
   "execution_count": 94,
   "metadata": {},
   "outputs": [
    {
     "data": {
      "text/html": [
       "<div>\n",
       "<style scoped>\n",
       "    .dataframe tbody tr th:only-of-type {\n",
       "        vertical-align: middle;\n",
       "    }\n",
       "\n",
       "    .dataframe tbody tr th {\n",
       "        vertical-align: top;\n",
       "    }\n",
       "\n",
       "    .dataframe thead th {\n",
       "        text-align: right;\n",
       "    }\n",
       "</style>\n",
       "<table border=\"1\" class=\"dataframe\">\n",
       "  <thead>\n",
       "    <tr style=\"text-align: right;\">\n",
       "      <th></th>\n",
       "      <th>순위</th>\n",
       "      <th>캐테고리</th>\n",
       "      <th>채널명</th>\n",
       "      <th>구독자수</th>\n",
       "      <th>총조회수</th>\n",
       "      <th>비디오수</th>\n",
       "    </tr>\n",
       "  </thead>\n",
       "  <tbody>\n",
       "    <tr>\n",
       "      <th>0</th>\n",
       "      <td>1</td>\n",
       "      <td>음악/댄스/가수</td>\n",
       "      <td>BLACKPINK</td>\n",
       "      <td>70200000</td>\n",
       "      <td>21457090000</td>\n",
       "      <td>395</td>\n",
       "    </tr>\n",
       "    <tr>\n",
       "      <th>1</th>\n",
       "      <td>2</td>\n",
       "      <td>음악/댄스/가수</td>\n",
       "      <td>HYBE LABELS</td>\n",
       "      <td>63000000</td>\n",
       "      <td>20496840000</td>\n",
       "      <td>725</td>\n",
       "    </tr>\n",
       "    <tr>\n",
       "      <th>2</th>\n",
       "      <td>3</td>\n",
       "      <td>음악/댄스/가수</td>\n",
       "      <td>BANGTANTV</td>\n",
       "      <td>61500000</td>\n",
       "      <td>14077940000</td>\n",
       "      <td>1646</td>\n",
       "    </tr>\n",
       "    <tr>\n",
       "      <th>3</th>\n",
       "      <td>4</td>\n",
       "      <td>음악/댄스/가수</td>\n",
       "      <td>SMTOWN</td>\n",
       "      <td>29300000</td>\n",
       "      <td>23016410000</td>\n",
       "      <td>3779</td>\n",
       "    </tr>\n",
       "    <tr>\n",
       "      <th>4</th>\n",
       "      <td>5</td>\n",
       "      <td>키즈/어린이</td>\n",
       "      <td>Boram Tube Vlog [보람튜브 브이로그]</td>\n",
       "      <td>26500000</td>\n",
       "      <td>11052880000</td>\n",
       "      <td>223</td>\n",
       "    </tr>\n",
       "    <tr>\n",
       "      <th>...</th>\n",
       "      <td>...</td>\n",
       "      <td>...</td>\n",
       "      <td>...</td>\n",
       "      <td>...</td>\n",
       "      <td>...</td>\n",
       "      <td>...</td>\n",
       "    </tr>\n",
       "    <tr>\n",
       "      <th>95</th>\n",
       "      <td>96</td>\n",
       "      <td>키즈/어린이</td>\n",
       "      <td>로미유 스토리[Romiyu Story]</td>\n",
       "      <td>4170000</td>\n",
       "      <td>1095240000</td>\n",
       "      <td>434</td>\n",
       "    </tr>\n",
       "    <tr>\n",
       "      <th>96</th>\n",
       "      <td>97</td>\n",
       "      <td>음식/요리/레시피</td>\n",
       "      <td>[Dorothy]도로시</td>\n",
       "      <td>4160000</td>\n",
       "      <td>998000000</td>\n",
       "      <td>905</td>\n",
       "    </tr>\n",
       "    <tr>\n",
       "      <th>97</th>\n",
       "      <td>98</td>\n",
       "      <td>취미/라이프</td>\n",
       "      <td>JaeYeol ASMR 재열</td>\n",
       "      <td>3980000</td>\n",
       "      <td>1096060000</td>\n",
       "      <td>1018</td>\n",
       "    </tr>\n",
       "    <tr>\n",
       "      <th>98</th>\n",
       "      <td>99</td>\n",
       "      <td>키즈/어린이</td>\n",
       "      <td>CoCosToy 꼬꼬스토이</td>\n",
       "      <td>3880000</td>\n",
       "      <td>2187780000</td>\n",
       "      <td>652</td>\n",
       "    </tr>\n",
       "    <tr>\n",
       "      <th>99</th>\n",
       "      <td>100</td>\n",
       "      <td>BJ/인물/연예인</td>\n",
       "      <td>허팝Heopop</td>\n",
       "      <td>3840000</td>\n",
       "      <td>3260020000</td>\n",
       "      <td>1900</td>\n",
       "    </tr>\n",
       "  </tbody>\n",
       "</table>\n",
       "<p>100 rows × 6 columns</p>\n",
       "</div>"
      ],
      "text/plain": [
       "     순위       캐테고리                          채널명      구독자수         총조회수  비디오수\n",
       "0     1   음악/댄스/가수                    BLACKPINK  70200000  21457090000   395\n",
       "1     2   음악/댄스/가수                  HYBE LABELS  63000000  20496840000   725\n",
       "2     3   음악/댄스/가수                    BANGTANTV  61500000  14077940000  1646\n",
       "3     4   음악/댄스/가수                       SMTOWN  29300000  23016410000  3779\n",
       "4     5     키즈/어린이  Boram Tube Vlog [보람튜브 브이로그]  26500000  11052880000   223\n",
       "..  ...        ...                          ...       ...          ...   ...\n",
       "95   96     키즈/어린이        로미유 스토리[Romiyu Story]   4170000   1095240000   434\n",
       "96   97  음식/요리/레시피                 [Dorothy]도로시   4160000    998000000   905\n",
       "97   98     취미/라이프              JaeYeol ASMR 재열   3980000   1096060000  1018\n",
       "98   99     키즈/어린이               CoCosToy 꼬꼬스토이   3880000   2187780000   652\n",
       "99  100  BJ/인물/연예인                     허팝Heopop   3840000   3260020000  1900\n",
       "\n",
       "[100 rows x 6 columns]"
      ]
     },
     "execution_count": 94,
     "metadata": {},
     "output_type": "execute_result"
    }
   ],
   "source": [
    "\n",
    "df['구독자수'] = df.구독자수.apply(convert_unit)\n",
    "df['총조회수'] = df.총조회수.apply(convert_unit)\n",
    "df['비디오수'] = df.비디오수.apply(convert_unit)\n",
    "df"
   ]
  },
  {
   "cell_type": "markdown",
   "metadata": {},
   "source": [
    "- 두번째 페이지"
   ]
  },
  {
   "cell_type": "code",
   "execution_count": 95,
   "metadata": {},
   "outputs": [],
   "source": [
    "# Xpath로 찾아가기 - //*[@id=\"list-skin\"]/nav/span/a[1]\n",
    "driver.find_element_by_xpath('//*[@id=\"list-skin\"]/nav/span/a[1]').click()\n",
    "time.sleep(2)"
   ]
  },
  {
   "cell_type": "code",
   "execution_count": 96,
   "metadata": {},
   "outputs": [
    {
     "data": {
      "text/plain": [
       "100"
      ]
     },
     "execution_count": 96,
     "metadata": {},
     "output_type": "execute_result"
    }
   ],
   "source": [
    "soup=BeautifulSoup(driver.page_source, 'html.parser')\n",
    "\n",
    "channel_list = soup.select('.aos-init')\n",
    "len(channel_list)"
   ]
  },
  {
   "cell_type": "code",
   "execution_count": 98,
   "metadata": {},
   "outputs": [],
   "source": [
    "lines = []\n",
    "for channel in channel_list:\n",
    "    rank = int(channel.select_one('.rank').get_text().strip())\n",
    "    category = channel.select_one('p.category').get_text().strip()\n",
    "    name = channel.select_one('.subject a').get_text().strip()\n",
    "    subscriber = channel.select_one('.subscriber_cnt').get_text().strip()\n",
    "    view = channel.select_one('.view_cnt').get_text().strip()\n",
    "    video = channel.select_one('.video_cnt').get_text().strip()\n",
    "    lines.append([rank,category[1:-1],name,convert_unit(subscriber),convert_unit(view),convert_unit(video)])"
   ]
  },
  {
   "cell_type": "code",
   "execution_count": 99,
   "metadata": {},
   "outputs": [
    {
     "data": {
      "text/html": [
       "<div>\n",
       "<style scoped>\n",
       "    .dataframe tbody tr th:only-of-type {\n",
       "        vertical-align: middle;\n",
       "    }\n",
       "\n",
       "    .dataframe tbody tr th {\n",
       "        vertical-align: top;\n",
       "    }\n",
       "\n",
       "    .dataframe thead th {\n",
       "        text-align: right;\n",
       "    }\n",
       "</style>\n",
       "<table border=\"1\" class=\"dataframe\">\n",
       "  <thead>\n",
       "    <tr style=\"text-align: right;\">\n",
       "      <th></th>\n",
       "      <th>순위</th>\n",
       "      <th>캐테고리</th>\n",
       "      <th>채널명</th>\n",
       "      <th>구독자수</th>\n",
       "      <th>총조회수</th>\n",
       "      <th>비디오수</th>\n",
       "    </tr>\n",
       "  </thead>\n",
       "  <tbody>\n",
       "    <tr>\n",
       "      <th>0</th>\n",
       "      <td>101</td>\n",
       "      <td>TV/방송</td>\n",
       "      <td>워크맨-Workman</td>\n",
       "      <td>3790000</td>\n",
       "      <td>743430000</td>\n",
       "      <td>154</td>\n",
       "    </tr>\n",
       "    <tr>\n",
       "      <th>1</th>\n",
       "      <td>103</td>\n",
       "      <td>애완/반려동물</td>\n",
       "      <td>크림히어로즈</td>\n",
       "      <td>3780000</td>\n",
       "      <td>1415780000</td>\n",
       "      <td>1011</td>\n",
       "    </tr>\n",
       "    <tr>\n",
       "      <th>2</th>\n",
       "      <td>102</td>\n",
       "      <td>음악/댄스/가수</td>\n",
       "      <td>WINNER</td>\n",
       "      <td>3780000</td>\n",
       "      <td>1204270000</td>\n",
       "      <td>446</td>\n",
       "    </tr>\n",
       "    <tr>\n",
       "      <th>3</th>\n",
       "      <td>104</td>\n",
       "      <td>키즈/어린이</td>\n",
       "      <td>Lime Tube[라임튜브]</td>\n",
       "      <td>3740000</td>\n",
       "      <td>2646690000</td>\n",
       "      <td>1808</td>\n",
       "    </tr>\n",
       "    <tr>\n",
       "      <th>4</th>\n",
       "      <td>105</td>\n",
       "      <td>BJ/인물/연예인</td>\n",
       "      <td>waveya 2011</td>\n",
       "      <td>3730000</td>\n",
       "      <td>1356390000</td>\n",
       "      <td>710</td>\n",
       "    </tr>\n",
       "    <tr>\n",
       "      <th>...</th>\n",
       "      <td>...</td>\n",
       "      <td>...</td>\n",
       "      <td>...</td>\n",
       "      <td>...</td>\n",
       "      <td>...</td>\n",
       "      <td>...</td>\n",
       "    </tr>\n",
       "    <tr>\n",
       "      <th>95</th>\n",
       "      <td>196</td>\n",
       "      <td>음악/댄스/가수</td>\n",
       "      <td>채널 NCT DANCE</td>\n",
       "      <td>2180000</td>\n",
       "      <td>194080000</td>\n",
       "      <td>42</td>\n",
       "    </tr>\n",
       "    <tr>\n",
       "      <th>96</th>\n",
       "      <td>197</td>\n",
       "      <td>음식/요리/레시피</td>\n",
       "      <td>꿀키honeykki</td>\n",
       "      <td>2160000</td>\n",
       "      <td>269100000</td>\n",
       "      <td>429</td>\n",
       "    </tr>\n",
       "    <tr>\n",
       "      <th>97</th>\n",
       "      <td>198</td>\n",
       "      <td>음식/요리/레시피</td>\n",
       "      <td>흥삼이네 Heungsam's Family</td>\n",
       "      <td>2140000</td>\n",
       "      <td>1069350000</td>\n",
       "      <td>1416</td>\n",
       "    </tr>\n",
       "    <tr>\n",
       "      <th>98</th>\n",
       "      <td>199</td>\n",
       "      <td>키즈/어린이</td>\n",
       "      <td>토닥토닥 꼬모 - 애니메이션, 동요, 놀이</td>\n",
       "      <td>2130000</td>\n",
       "      <td>2517730000</td>\n",
       "      <td>872</td>\n",
       "    </tr>\n",
       "    <tr>\n",
       "      <th>99</th>\n",
       "      <td>201</td>\n",
       "      <td>음악/댄스/가수</td>\n",
       "      <td>OfficialGDRAGON</td>\n",
       "      <td>2110000</td>\n",
       "      <td>66120000</td>\n",
       "      <td>0</td>\n",
       "    </tr>\n",
       "  </tbody>\n",
       "</table>\n",
       "<p>100 rows × 6 columns</p>\n",
       "</div>"
      ],
      "text/plain": [
       "     순위       캐테고리                      채널명     구독자수        총조회수  비디오수\n",
       "0   101      TV/방송              워크맨-Workman  3790000   743430000   154\n",
       "1   103    애완/반려동물                   크림히어로즈  3780000  1415780000  1011\n",
       "2   102   음악/댄스/가수                   WINNER  3780000  1204270000   446\n",
       "3   104     키즈/어린이          Lime Tube[라임튜브]  3740000  2646690000  1808\n",
       "4   105  BJ/인물/연예인              waveya 2011  3730000  1356390000   710\n",
       "..  ...        ...                      ...      ...         ...   ...\n",
       "95  196   음악/댄스/가수             채널 NCT DANCE  2180000   194080000    42\n",
       "96  197  음식/요리/레시피               꿀키honeykki  2160000   269100000   429\n",
       "97  198  음식/요리/레시피   흥삼이네 Heungsam's Family  2140000  1069350000  1416\n",
       "98  199     키즈/어린이  토닥토닥 꼬모 - 애니메이션, 동요, 놀이  2130000  2517730000   872\n",
       "99  201   음악/댄스/가수          OfficialGDRAGON  2110000    66120000     0\n",
       "\n",
       "[100 rows x 6 columns]"
      ]
     },
     "execution_count": 99,
     "metadata": {},
     "output_type": "execute_result"
    }
   ],
   "source": [
    "df=pd.DataFrame(lines, columns=['순위','캐테고리','채널명','구독자수','총조회수','비디오수'])\n",
    "df"
   ]
  },
  {
   "cell_type": "markdown",
   "metadata": {},
   "source": [
    "- 페이지 1~10까지 크롤링"
   ]
  },
  {
   "cell_type": "code",
   "execution_count": 100,
   "metadata": {},
   "outputs": [],
   "source": [
    "lines=[]\n",
    "for page in range(1,11):\n",
    "    url = 'https://youtube-rank.com/board/bbs/board.php?bo_table=youtube&page='+str(page)\n",
    "    driver.get(url)\n",
    "    time.sleep(3)\n",
    "    soup=BeautifulSoup(driver.page_source, 'html.parser')\n",
    "    channel_list = soup.select('.aos-init')\n",
    "\n",
    "    for channel in channel_list:\n",
    "        rank = int(channel.select_one('.rank').get_text().strip())\n",
    "        category = channel.select_one('p.category').get_text().strip()\n",
    "        name = channel.select_one('.subject a').get_text().strip()\n",
    "        subscriber = channel.select_one('.subscriber_cnt').get_text().strip()\n",
    "        view = channel.select_one('.view_cnt').get_text().strip()\n",
    "        video = channel.select_one('.video_cnt').get_text().strip()\n",
    "        lines.append([rank,category[1:-1],name,convert_unit(subscriber),convert_unit(view),convert_unit(video)])"
   ]
  },
  {
   "cell_type": "code",
   "execution_count": null,
   "metadata": {},
   "outputs": [],
   "source": [
    "https://www.hanbit.co.kr/store/books/new_book_list.html?page=1&brand=&cate1=&cate2=&searchKey=&keyWord=\n",
    "https://www.hanbit.co.kr/store/books/new_book_list.html?page=2&brand=&cate1=&cate2=&searchKey=&keyWord=\n",
    "'https://www.hanbit.co.kr/store/books/new_book_list.html?page='+str(page)+'&brand=&cate1=&cate2=&searchKey=&keyWord='"
   ]
  },
  {
   "cell_type": "code",
   "execution_count": 101,
   "metadata": {},
   "outputs": [
    {
     "data": {
      "text/html": [
       "<div>\n",
       "<style scoped>\n",
       "    .dataframe tbody tr th:only-of-type {\n",
       "        vertical-align: middle;\n",
       "    }\n",
       "\n",
       "    .dataframe tbody tr th {\n",
       "        vertical-align: top;\n",
       "    }\n",
       "\n",
       "    .dataframe thead th {\n",
       "        text-align: right;\n",
       "    }\n",
       "</style>\n",
       "<table border=\"1\" class=\"dataframe\">\n",
       "  <thead>\n",
       "    <tr style=\"text-align: right;\">\n",
       "      <th></th>\n",
       "      <th>순위</th>\n",
       "      <th>캐테고리</th>\n",
       "      <th>채널명</th>\n",
       "      <th>구독자수</th>\n",
       "      <th>총조회수</th>\n",
       "      <th>비디오수</th>\n",
       "    </tr>\n",
       "  </thead>\n",
       "  <tbody>\n",
       "    <tr>\n",
       "      <th>0</th>\n",
       "      <td>1</td>\n",
       "      <td>음악/댄스/가수</td>\n",
       "      <td>BLACKPINK</td>\n",
       "      <td>70200000</td>\n",
       "      <td>21457090000</td>\n",
       "      <td>395</td>\n",
       "    </tr>\n",
       "    <tr>\n",
       "      <th>1</th>\n",
       "      <td>2</td>\n",
       "      <td>음악/댄스/가수</td>\n",
       "      <td>HYBE LABELS</td>\n",
       "      <td>63000000</td>\n",
       "      <td>20496840000</td>\n",
       "      <td>725</td>\n",
       "    </tr>\n",
       "    <tr>\n",
       "      <th>2</th>\n",
       "      <td>3</td>\n",
       "      <td>음악/댄스/가수</td>\n",
       "      <td>BANGTANTV</td>\n",
       "      <td>61500000</td>\n",
       "      <td>14077940000</td>\n",
       "      <td>1646</td>\n",
       "    </tr>\n",
       "    <tr>\n",
       "      <th>3</th>\n",
       "      <td>4</td>\n",
       "      <td>음악/댄스/가수</td>\n",
       "      <td>SMTOWN</td>\n",
       "      <td>29300000</td>\n",
       "      <td>23016410000</td>\n",
       "      <td>3779</td>\n",
       "    </tr>\n",
       "    <tr>\n",
       "      <th>4</th>\n",
       "      <td>5</td>\n",
       "      <td>키즈/어린이</td>\n",
       "      <td>Boram Tube Vlog [보람튜브 브이로그]</td>\n",
       "      <td>26500000</td>\n",
       "      <td>11052880000</td>\n",
       "      <td>223</td>\n",
       "    </tr>\n",
       "    <tr>\n",
       "      <th>...</th>\n",
       "      <td>...</td>\n",
       "      <td>...</td>\n",
       "      <td>...</td>\n",
       "      <td>...</td>\n",
       "      <td>...</td>\n",
       "      <td>...</td>\n",
       "    </tr>\n",
       "    <tr>\n",
       "      <th>995</th>\n",
       "      <td>996</td>\n",
       "      <td>음악/댄스/가수</td>\n",
       "      <td>Reynah</td>\n",
       "      <td>550000</td>\n",
       "      <td>148880000</td>\n",
       "      <td>246</td>\n",
       "    </tr>\n",
       "    <tr>\n",
       "      <th>996</th>\n",
       "      <td>997</td>\n",
       "      <td>TV/방송</td>\n",
       "      <td>J.Y. Park</td>\n",
       "      <td>550000</td>\n",
       "      <td>93730000</td>\n",
       "      <td>90</td>\n",
       "    </tr>\n",
       "    <tr>\n",
       "      <th>997</th>\n",
       "      <td>998</td>\n",
       "      <td>게임</td>\n",
       "      <td>[ALTUBE] 김성현TV</td>\n",
       "      <td>550000</td>\n",
       "      <td>422100000</td>\n",
       "      <td>2121</td>\n",
       "    </tr>\n",
       "    <tr>\n",
       "      <th>998</th>\n",
       "      <td>1000</td>\n",
       "      <td>게임</td>\n",
       "      <td>방앗간 비둘기</td>\n",
       "      <td>550000</td>\n",
       "      <td>356900000</td>\n",
       "      <td>4381</td>\n",
       "    </tr>\n",
       "    <tr>\n",
       "      <th>999</th>\n",
       "      <td>999</td>\n",
       "      <td>게임</td>\n",
       "      <td>빅헤드</td>\n",
       "      <td>550000</td>\n",
       "      <td>326600000</td>\n",
       "      <td>3540</td>\n",
       "    </tr>\n",
       "  </tbody>\n",
       "</table>\n",
       "<p>1000 rows × 6 columns</p>\n",
       "</div>"
      ],
      "text/plain": [
       "       순위      캐테고리                          채널명      구독자수         총조회수  비디오수\n",
       "0       1  음악/댄스/가수                    BLACKPINK  70200000  21457090000   395\n",
       "1       2  음악/댄스/가수                  HYBE LABELS  63000000  20496840000   725\n",
       "2       3  음악/댄스/가수                    BANGTANTV  61500000  14077940000  1646\n",
       "3       4  음악/댄스/가수                       SMTOWN  29300000  23016410000  3779\n",
       "4       5    키즈/어린이  Boram Tube Vlog [보람튜브 브이로그]  26500000  11052880000   223\n",
       "..    ...       ...                          ...       ...          ...   ...\n",
       "995   996  음악/댄스/가수                       Reynah    550000    148880000   246\n",
       "996   997     TV/방송                    J.Y. Park    550000     93730000    90\n",
       "997   998        게임               [ALTUBE] 김성현TV    550000    422100000  2121\n",
       "998  1000        게임                      방앗간 비둘기    550000    356900000  4381\n",
       "999   999        게임                          빅헤드    550000    326600000  3540\n",
       "\n",
       "[1000 rows x 6 columns]"
      ]
     },
     "execution_count": 101,
     "metadata": {},
     "output_type": "execute_result"
    }
   ],
   "source": [
    "df=pd.DataFrame(lines, columns=['순위','캐테고리','채널명','구독자수','총조회수','비디오수'])\n",
    "df"
   ]
  },
  {
   "cell_type": "code",
   "execution_count": 102,
   "metadata": {},
   "outputs": [],
   "source": [
    "df.to_csv('유튜브 랭킹.csv', index=False)"
   ]
  },
  {
   "cell_type": "code",
   "execution_count": 103,
   "metadata": {},
   "outputs": [],
   "source": [
    "driver.close()"
   ]
  },
  {
   "cell_type": "code",
   "execution_count": null,
   "metadata": {},
   "outputs": [],
   "source": []
  }
 ],
 "metadata": {
  "interpreter": {
   "hash": "e3bde7f9be308a4ed5b677c98eb4e5423d8d4c39cb1152441ce9aa81adc70699"
  },
  "kernelspec": {
   "display_name": "Python 3.8.8 64-bit ('base': conda)",
   "language": "python",
   "name": "python3"
  },
  "language_info": {
   "codemirror_mode": {
    "name": "ipython",
    "version": 3
   },
   "file_extension": ".py",
   "mimetype": "text/x-python",
   "name": "python",
   "nbconvert_exporter": "python",
   "pygments_lexer": "ipython3",
   "version": "3.8.8"
  },
  "orig_nbformat": 4
 },
 "nbformat": 4,
 "nbformat_minor": 2
}
