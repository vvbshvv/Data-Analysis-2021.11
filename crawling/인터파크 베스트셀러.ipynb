{
 "cells": [
  {
   "cell_type": "code",
   "execution_count": 2,
   "metadata": {},
   "outputs": [],
   "source": [
    "from urllib.parse import quote\n",
    "from bs4 import BeautifulSoup"
   ]
  },
  {
   "cell_type": "code",
   "execution_count": 3,
   "metadata": {},
   "outputs": [],
   "source": [
    "import requests\n",
    "import pandas as pd"
   ]
  },
  {
   "cell_type": "code",
   "execution_count": 4,
   "metadata": {},
   "outputs": [],
   "source": [
    "url = 'http://book.interpark.com/display/collectlist.do?_method=BestsellerHourNew201605&bestTp=1&dispNo=028#'\n",
    "req = requests.get(url)\n",
    "html = req.text"
   ]
  },
  {
   "cell_type": "code",
   "execution_count": 5,
   "metadata": {},
   "outputs": [],
   "source": [
    "header = {'user-agent':\n",
    "            \"Mozilla/5.0 (Windows NT 10.0; Win64; x64) AppleWebKit/537.36 (KHTML, like Gecko) Chrome/80.0.3987.122 Safari/537.36\"            \n",
    "}\n",
    "req = requests.get(url, headers=header)\n",
    "html=req.text"
   ]
  },
  {
   "cell_type": "code",
   "execution_count": 6,
   "metadata": {},
   "outputs": [],
   "source": [
    "from bs4 import BeautifulSoup\n",
    "soup = BeautifulSoup(html, 'html.parser')\n",
    "\n",
    "lis=soup.select('.rankBestContentList>ol>li')  #부등호 방향으로 자식 seletor 표현\n",
    "len(lis)"
   ]
  },
  {
   "cell_type": "code",
   "execution_count": 7,
   "metadata": {},
   "outputs": [
    {
     "data": {
      "text/plain": [
       "15"
      ]
     },
     "execution_count": 7,
     "metadata": {},
     "output_type": "execute_result"
    }
   ],
   "source": [
    "lis=soup.select('.rankBestContentList>ol>li')  #부등호 방향으로 자식 seletor 표현\n",
    "len(lis)"
   ]
  },
  {
   "cell_type": "code",
   "execution_count": 8,
   "metadata": {},
   "outputs": [
    {
     "data": {
      "text/plain": [
       "'트렌드 코리아 2022 '"
      ]
     },
     "execution_count": 8,
     "metadata": {},
     "output_type": "execute_result"
    }
   ],
   "source": [
    "\n",
    "item = lis[0].select_one('.itemName').get_text()\n",
    "item"
   ]
  },
  {
   "cell_type": "code",
   "execution_count": 9,
   "metadata": {},
   "outputs": [
    {
     "data": {
      "text/plain": [
       "'김난도(金蘭都), 전미영, 최지혜, 이향은, 이준영'"
      ]
     },
     "execution_count": 9,
     "metadata": {},
     "output_type": "execute_result"
    }
   ],
   "source": [
    "author = lis[0].select_one('span.author').get_text()\n",
    "author"
   ]
  },
  {
   "cell_type": "code",
   "execution_count": 10,
   "metadata": {},
   "outputs": [
    {
     "data": {
      "text/plain": [
       "'미래의창'"
      ]
     },
     "execution_count": 10,
     "metadata": {},
     "output_type": "execute_result"
    }
   ],
   "source": [
    "company = lis[0].select_one('span.company').get_text()\n",
    "company"
   ]
  },
  {
   "cell_type": "code",
   "execution_count": 11,
   "metadata": {},
   "outputs": [
    {
     "data": {
      "text/plain": [
       "16200"
      ]
     },
     "execution_count": 11,
     "metadata": {},
     "output_type": "execute_result"
    }
   ],
   "source": [
    "price = int(lis[0].select_one('span.price').get_text().split('\\n')[1].replace(',',''))\n",
    "price"
   ]
  },
  {
   "cell_type": "code",
   "execution_count": 26,
   "metadata": {},
   "outputs": [
    {
     "data": {
      "text/plain": [
       "'rkNum_B01'"
      ]
     },
     "execution_count": 26,
     "metadata": {},
     "output_type": "execute_result"
    }
   ],
   "source": [
    "rank = lis[0].select_one('.rankBtn_ctrl')['class'][1]\n",
    "rank"
   ]
  },
  {
   "cell_type": "code",
   "execution_count": 28,
   "metadata": {},
   "outputs": [
    {
     "data": {
      "text/plain": [
       "'1'"
      ]
     },
     "execution_count": 28,
     "metadata": {},
     "output_type": "execute_result"
    }
   ],
   "source": [
    "rank = lis[0].select_one('.rankBtn_ctrl')['class'][1][-1]\n",
    "rank"
   ]
  },
  {
   "cell_type": "code",
   "execution_count": 24,
   "metadata": {},
   "outputs": [
    {
     "data": {
      "text/plain": [
       "1"
      ]
     },
     "execution_count": 24,
     "metadata": {},
     "output_type": "execute_result"
    }
   ],
   "source": [
    "## rank 마지막 숫자 가져오기\n",
    "rank = lis[0].select_one('.rankBtn_ctrl')['class']\n",
    "rank = int(rank[1][-1])\n",
    "rank"
   ]
  },
  {
   "cell_type": "markdown",
   "metadata": {},
   "source": [
    "- 10~15위 산출"
   ]
  },
  {
   "cell_type": "code",
   "execution_count": 30,
   "metadata": {},
   "outputs": [
    {
     "data": {
      "text/plain": [
       "[<span class=\"rankBtn_ctrl rkNum_M01\"></span>,\n",
       " <span class=\"rankBtn_ctrl rkNum_M02\"></span>]"
      ]
     },
     "execution_count": 30,
     "metadata": {},
     "output_type": "execute_result"
    }
   ],
   "source": [
    "# 10~15위는 해당 클래스 값이 2개가 나옴\n",
    "li=lis[12]\n",
    "li.select('.rankBtn_ctrl')"
   ]
  },
  {
   "cell_type": "code",
   "execution_count": 36,
   "metadata": {},
   "outputs": [],
   "source": [
    "rank_10=str(li.select('.rankBtn_ctrl')[0]['class'][1][-1])"
   ]
  },
  {
   "cell_type": "code",
   "execution_count": 38,
   "metadata": {},
   "outputs": [],
   "source": [
    "rank_11=str(li.select('.rankBtn_ctrl')[1]['class'][1][-1])"
   ]
  },
  {
   "cell_type": "code",
   "execution_count": 39,
   "metadata": {},
   "outputs": [
    {
     "data": {
      "text/plain": [
       "'12'"
      ]
     },
     "execution_count": 39,
     "metadata": {},
     "output_type": "execute_result"
    }
   ],
   "source": [
    "rank_10+rank_11"
   ]
  },
  {
   "cell_type": "code",
   "execution_count": 40,
   "metadata": {},
   "outputs": [
    {
     "data": {
      "text/plain": [
       "12"
      ]
     },
     "execution_count": 40,
     "metadata": {},
     "output_type": "execute_result"
    }
   ],
   "source": [
    "if len(li.select('rankBtn_ctrl')) ==1 :\n",
    "    rank = li.select('.rankBtn_ctrl')[0]['class'][1][-1]\n",
    "    rank = int(rank)\n",
    "else:\n",
    "    rank = li.select('.rankBtn_ctrl')[0]['class'][1][-1]\n",
    "    rank += li.select('.rankBtn_ctrl')[1]['class'][1][-1]\n",
    "    rank = int(rank)\n",
    "rank"
   ]
  },
  {
   "cell_type": "code",
   "execution_count": 13,
   "metadata": {},
   "outputs": [],
   "source": [
    "item_list, author_list, company_list, price_list = [],[],[],[]\n",
    "for li in lis:\n",
    "    item = li.select_one('.itemName').get_text()\n",
    "    author = li.select_one('span.author').get_text()\n",
    "    company = li.select_one('span.company').get_text()\n",
    "    price=int(li.select_one('span.price').get_text().split('\\n')[1].replace(',',''))\n",
    "\n",
    "    item_list.append(item)\n",
    "    author_list.append(author)\n",
    "    company_list.append(company)\n",
    "    price_list.append(price)"
   ]
  },
  {
   "cell_type": "code",
   "execution_count": 14,
   "metadata": {},
   "outputs": [
    {
     "data": {
      "text/html": [
       "<div>\n",
       "<style scoped>\n",
       "    .dataframe tbody tr th:only-of-type {\n",
       "        vertical-align: middle;\n",
       "    }\n",
       "\n",
       "    .dataframe tbody tr th {\n",
       "        vertical-align: top;\n",
       "    }\n",
       "\n",
       "    .dataframe thead th {\n",
       "        text-align: right;\n",
       "    }\n",
       "</style>\n",
       "<table border=\"1\" class=\"dataframe\">\n",
       "  <thead>\n",
       "    <tr style=\"text-align: right;\">\n",
       "      <th></th>\n",
       "      <th>제목</th>\n",
       "      <th>저자</th>\n",
       "      <th>출판사</th>\n",
       "      <th>가격</th>\n",
       "    </tr>\n",
       "  </thead>\n",
       "  <tbody>\n",
       "    <tr>\n",
       "      <th>0</th>\n",
       "      <td>트렌드 코리아 2022</td>\n",
       "      <td>김난도(金蘭都), 전미영, 최지혜, 이향은, 이준영</td>\n",
       "      <td>미래의창</td>\n",
       "      <td>16200</td>\n",
       "    </tr>\n",
       "    <tr>\n",
       "      <th>1</th>\n",
       "      <td>2022 현직교사들이 들려주는 면접레시피</td>\n",
       "      <td>류은진, 양왕경, 이광한, 이지혜, 양왕경, 이광한, 이지혜</td>\n",
       "      <td>미래가치</td>\n",
       "      <td>42300</td>\n",
       "    </tr>\n",
       "    <tr>\n",
       "      <th>2</th>\n",
       "      <td>아직 오지 않은 날들을 위하여</td>\n",
       "      <td>파스칼 브뤼크네르/이세진 역</td>\n",
       "      <td>인플루엔셜</td>\n",
       "      <td>14400</td>\n",
       "    </tr>\n",
       "    <tr>\n",
       "      <th>3</th>\n",
       "      <td>거인의 포트폴리오</td>\n",
       "      <td>강환국</td>\n",
       "      <td>페이지2북스</td>\n",
       "      <td>16200</td>\n",
       "    </tr>\n",
       "    <tr>\n",
       "      <th>4</th>\n",
       "      <td>불편한 편의점(15만부 기념 윈터 에디션)</td>\n",
       "      <td>김호연</td>\n",
       "      <td>나무옆의자</td>\n",
       "      <td>12600</td>\n",
       "    </tr>\n",
       "    <tr>\n",
       "      <th>5</th>\n",
       "      <td>거꾸로 읽는 세계사</td>\n",
       "      <td>유시민(柳時敏)</td>\n",
       "      <td>돌베개</td>\n",
       "      <td>15750</td>\n",
       "    </tr>\n",
       "    <tr>\n",
       "      <th>6</th>\n",
       "      <td>달러구트 꿈 백화점</td>\n",
       "      <td>이미예</td>\n",
       "      <td>팩토리나인</td>\n",
       "      <td>12420</td>\n",
       "    </tr>\n",
       "    <tr>\n",
       "      <th>7</th>\n",
       "      <td>작은 별이지만 빛나고 있어(10만 부 기념 한정판 에디션)</td>\n",
       "      <td>소윤</td>\n",
       "      <td>북로망스</td>\n",
       "      <td>13500</td>\n",
       "    </tr>\n",
       "    <tr>\n",
       "      <th>8</th>\n",
       "      <td>달러구트 꿈 백화점. 2</td>\n",
       "      <td>이미예</td>\n",
       "      <td>팩토리나인</td>\n",
       "      <td>12420</td>\n",
       "    </tr>\n",
       "    <tr>\n",
       "      <th>9</th>\n",
       "      <td>오십에 읽는 논어</td>\n",
       "      <td>최종엽</td>\n",
       "      <td>유노북스</td>\n",
       "      <td>14400</td>\n",
       "    </tr>\n",
       "    <tr>\n",
       "      <th>10</th>\n",
       "      <td>흔한남매. 9</td>\n",
       "      <td>흔한남매, 백난도/유난희 그림</td>\n",
       "      <td>미래엔아이세움</td>\n",
       "      <td>12150</td>\n",
       "    </tr>\n",
       "    <tr>\n",
       "      <th>11</th>\n",
       "      <td>투자는 디테일에 있다</td>\n",
       "      <td>김정환</td>\n",
       "      <td>부케이</td>\n",
       "      <td>16200</td>\n",
       "    </tr>\n",
       "    <tr>\n",
       "      <th>12</th>\n",
       "      <td>웰씽킹(Wealthinking)</td>\n",
       "      <td>켈리 최</td>\n",
       "      <td>다산북스</td>\n",
       "      <td>14400</td>\n",
       "    </tr>\n",
       "    <tr>\n",
       "      <th>13</th>\n",
       "      <td>2022 사이다 면접</td>\n",
       "      <td>이지수, 구영모, 이지수</td>\n",
       "      <td>박문각</td>\n",
       "      <td>31500</td>\n",
       "    </tr>\n",
       "    <tr>\n",
       "      <th>14</th>\n",
       "      <td>미드나잇 라이브러리(25만부 기념 퍼플 에디션)</td>\n",
       "      <td>매트 헤이그/노진선 역</td>\n",
       "      <td>인플루엔셜</td>\n",
       "      <td>14220</td>\n",
       "    </tr>\n",
       "  </tbody>\n",
       "</table>\n",
       "</div>"
      ],
      "text/plain": [
       "                                   제목                                 저자  \\\n",
       "0                       트렌드 코리아 2022        김난도(金蘭都), 전미영, 최지혜, 이향은, 이준영   \n",
       "1             2022 현직교사들이 들려주는 면접레시피   류은진, 양왕경, 이광한, 이지혜, 양왕경, 이광한, 이지혜   \n",
       "2                   아직 오지 않은 날들을 위하여                     파스칼 브뤼크네르/이세진 역   \n",
       "3                          거인의 포트폴리오                                 강환국   \n",
       "4            불편한 편의점(15만부 기념 윈터 에디션)                                 김호연   \n",
       "5                         거꾸로 읽는 세계사                            유시민(柳時敏)   \n",
       "6                         달러구트 꿈 백화점                                 이미예   \n",
       "7   작은 별이지만 빛나고 있어(10만 부 기념 한정판 에디션)                                  소윤   \n",
       "8                      달러구트 꿈 백화점. 2                                 이미예   \n",
       "9                          오십에 읽는 논어                                 최종엽   \n",
       "10                           흔한남매. 9                    흔한남매, 백난도/유난희 그림   \n",
       "11                       투자는 디테일에 있다                                 김정환   \n",
       "12                 웰씽킹(Wealthinking)                                켈리 최   \n",
       "13                       2022 사이다 면접                       이지수, 구영모, 이지수   \n",
       "14        미드나잇 라이브러리(25만부 기념 퍼플 에디션)                        매트 헤이그/노진선 역   \n",
       "\n",
       "        출판사     가격  \n",
       "0      미래의창  16200  \n",
       "1      미래가치  42300  \n",
       "2     인플루엔셜  14400  \n",
       "3    페이지2북스  16200  \n",
       "4     나무옆의자  12600  \n",
       "5       돌베개  15750  \n",
       "6     팩토리나인  12420  \n",
       "7      북로망스  13500  \n",
       "8     팩토리나인  12420  \n",
       "9      유노북스  14400  \n",
       "10  미래엔아이세움  12150  \n",
       "11      부케이  16200  \n",
       "12     다산북스  14400  \n",
       "13      박문각  31500  \n",
       "14    인플루엔셜  14220  "
      ]
     },
     "execution_count": 14,
     "metadata": {},
     "output_type": "execute_result"
    }
   ],
   "source": [
    "df = pd.DataFrame({\n",
    "    '제목':item_list, '저자':author_list, '출판사':company_list, '가격':price_list\n",
    "})\n",
    "\n",
    "df"
   ]
  },
  {
   "cell_type": "code",
   "execution_count": 15,
   "metadata": {},
   "outputs": [
    {
     "data": {
      "text/plain": [
       "'/product/BookDisplay.do?_method=detail&sc.shopNo=0000400000&sc.prdNo=352592023&sc.saNo=003003001&bid1=Best_zone&bid2=LiveRanking&bid3=PRD&bid4=001'"
      ]
     },
     "execution_count": 15,
     "metadata": {},
     "output_type": "execute_result"
    }
   ],
   "source": [
    "li_1=lis[8]\n",
    "href = lis[8].find('a')['href']\n",
    "href\n"
   ]
  },
  {
   "cell_type": "code",
   "execution_count": 16,
   "metadata": {},
   "outputs": [],
   "source": [
    "url='http://book.interpark.com'"
   ]
  },
  {
   "cell_type": "code",
   "execution_count": 17,
   "metadata": {},
   "outputs": [
    {
     "data": {
      "text/plain": [
       "'http://book.interpark.com/product/BookDisplay.do?_method=detail&sc.shopNo=0000400000&sc.prdNo=352592023&sc.saNo=003003001&bid1=Best_zone&bid2=LiveRanking&bid3=PRD&bid4=001'"
      ]
     },
     "execution_count": 17,
     "metadata": {},
     "output_type": "execute_result"
    }
   ],
   "source": [
    "sub_url = url + href\n",
    "sub_url"
   ]
  },
  {
   "cell_type": "code",
   "execution_count": 18,
   "metadata": {},
   "outputs": [],
   "source": [
    "sub_req = requests.get(sub_url)\n",
    "sub_html = sub_req.text\n",
    "sub_soup = BeautifulSoup(sub_html, 'html.parser')"
   ]
  },
  {
   "cell_type": "code",
   "execution_count": 41,
   "metadata": {},
   "outputs": [
    {
     "data": {
      "text/plain": [
       "'2021년 04월 28일'"
      ]
     },
     "execution_count": 41,
     "metadata": {},
     "output_type": "execute_result"
    }
   ],
   "source": [
    "#publish_date = sub_soup.select_one('ul.bInfo_txt')[-3].get_text()\n",
    "publish_date = str(sub_soup.select('ul.bInfo_txt>li')[-3]).split(': ')[1][:-5]\n",
    "publish_date\n"
   ]
  },
  {
   "cell_type": "code",
   "execution_count": 45,
   "metadata": {},
   "outputs": [
    {
     "data": {
      "text/plain": [
       "'20210428'"
      ]
     },
     "execution_count": 45,
     "metadata": {},
     "output_type": "execute_result"
    }
   ],
   "source": [
    "#날짜에서 숫자만 도출\n",
    "import re\n",
    "publish_date = re.sub('[^0-9]','',publish_date)\n",
    "publish_date"
   ]
  },
  {
   "cell_type": "code",
   "execution_count": 46,
   "metadata": {},
   "outputs": [
    {
     "data": {
      "text/plain": [
       "'408'"
      ]
     },
     "execution_count": 46,
     "metadata": {},
     "output_type": "execute_result"
    }
   ],
   "source": [
    "pages = str(sub_soup.select('ul.bInfo_txt>li')[-2]).split(': ')[1][:-5]\n",
    "pages"
   ]
  },
  {
   "cell_type": "code",
   "execution_count": 49,
   "metadata": {},
   "outputs": [
    {
     "data": {
      "text/plain": [
       "15"
      ]
     },
     "execution_count": 49,
     "metadata": {},
     "output_type": "execute_result"
    }
   ],
   "source": [
    "len(lis)"
   ]
  },
  {
   "cell_type": "code",
   "execution_count": 51,
   "metadata": {},
   "outputs": [],
   "source": [
    "lines = []\n",
    "\n",
    "for index, li in enumerate(lis):\n",
    "    try:\n",
    "        item = li.select_one('.itemName').get_text()\n",
    "        author = li.select_one('span.author').get_text()\n",
    "        company = li.select_one('span.company').get_text()\n",
    "        price =int(li.select_one('span.price').get_text().split('\\n')[1].replace(',',''))\n",
    "        if len(li.select('.rankBtn_ctrl')) ==1 :\n",
    "            rank = li.select('.rankBtn_ctrl')[0]['class'][1][-1]\n",
    "            rank = int(rank)\n",
    "        else:\n",
    "            rank = li.select('.rankBtn_ctrl')[0]['class'][1][-1]\n",
    "            rank += li.select('.rankBtn_ctrl')[1]['class'][1][-1]\n",
    "            rank = int(rank)\n",
    "        \n",
    "        href = li.find('a')['href']\n",
    "        sub_url = url + href\n",
    "        sub_req = requests.get(sub_url)\n",
    "        sub_html = sub_req.text\n",
    "        sub_soup = BeautifulSoup(sub_html, 'html.parser')\n",
    "        if publish_date == '928' or pages == '총 2권':\n",
    "            publish_date = str(sub_soup.select('ul.bInfo_txt>li')[-4]).split(': ')[1][:-5]\n",
    "            pages = str(sub_soup.select('ul.bInfo_txt>li')[-3]).split(': ')[1][:-5]\n",
    "        else:\n",
    "            publish_date = str(sub_soup.select('ul.bInfo_txt>li')[-3]).split(': ')[1][:-5]\n",
    "            pages = str(sub_soup.select('ul.bInfo_txt>li')[-2]).split(': ')[1][:-5]\n",
    "    except:\n",
    "        print(index)\n",
    "\n",
    "    lines.append([rank,item,author,company,price,publish_date,pages])"
   ]
  },
  {
   "cell_type": "code",
   "execution_count": 55,
   "metadata": {},
   "outputs": [
    {
     "data": {
      "text/html": [
       "<div>\n",
       "<style scoped>\n",
       "    .dataframe tbody tr th:only-of-type {\n",
       "        vertical-align: middle;\n",
       "    }\n",
       "\n",
       "    .dataframe tbody tr th {\n",
       "        vertical-align: top;\n",
       "    }\n",
       "\n",
       "    .dataframe thead th {\n",
       "        text-align: right;\n",
       "    }\n",
       "</style>\n",
       "<table border=\"1\" class=\"dataframe\">\n",
       "  <thead>\n",
       "    <tr style=\"text-align: right;\">\n",
       "      <th></th>\n",
       "      <th>순위</th>\n",
       "      <th>제목</th>\n",
       "      <th>저자</th>\n",
       "      <th>출판사</th>\n",
       "      <th>가격</th>\n",
       "      <th>발행일</th>\n",
       "      <th>쪽수</th>\n",
       "    </tr>\n",
       "  </thead>\n",
       "  <tbody>\n",
       "    <tr>\n",
       "      <th>0</th>\n",
       "      <td>1</td>\n",
       "      <td>트렌드 코리아 2022</td>\n",
       "      <td>김난도(金蘭都), 전미영, 최지혜, 이향은, 이준영</td>\n",
       "      <td>미래의창</td>\n",
       "      <td>16200</td>\n",
       "      <td>2021년 10월 06일</td>\n",
       "      <td>452</td>\n",
       "    </tr>\n",
       "    <tr>\n",
       "      <th>1</th>\n",
       "      <td>2</td>\n",
       "      <td>2022 현직교사들이 들려주는 면접레시피</td>\n",
       "      <td>류은진, 양왕경, 이광한, 이지혜, 양왕경, 이광한, 이지혜</td>\n",
       "      <td>미래가치</td>\n",
       "      <td>42300</td>\n",
       "      <td>2021년 11월 12일</td>\n",
       "      <td>1104</td>\n",
       "    </tr>\n",
       "    <tr>\n",
       "      <th>2</th>\n",
       "      <td>3</td>\n",
       "      <td>아직 오지 않은 날들을 위하여</td>\n",
       "      <td>파스칼 브뤼크네르/이세진 역</td>\n",
       "      <td>인플루엔셜</td>\n",
       "      <td>14400</td>\n",
       "      <td>2021년 11월 12일</td>\n",
       "      <td>320</td>\n",
       "    </tr>\n",
       "    <tr>\n",
       "      <th>3</th>\n",
       "      <td>4</td>\n",
       "      <td>거인의 포트폴리오</td>\n",
       "      <td>강환국</td>\n",
       "      <td>페이지2북스</td>\n",
       "      <td>16200</td>\n",
       "      <td>2021년 11월 08일</td>\n",
       "      <td>404</td>\n",
       "    </tr>\n",
       "    <tr>\n",
       "      <th>4</th>\n",
       "      <td>5</td>\n",
       "      <td>불편한 편의점(15만부 기념 윈터 에디션)</td>\n",
       "      <td>김호연</td>\n",
       "      <td>나무옆의자</td>\n",
       "      <td>12600</td>\n",
       "      <td>2021년 04월 20일</td>\n",
       "      <td>268</td>\n",
       "    </tr>\n",
       "    <tr>\n",
       "      <th>5</th>\n",
       "      <td>6</td>\n",
       "      <td>거꾸로 읽는 세계사</td>\n",
       "      <td>유시민(柳時敏)</td>\n",
       "      <td>돌베개</td>\n",
       "      <td>15750</td>\n",
       "      <td>2021년 10월 29일</td>\n",
       "      <td>404</td>\n",
       "    </tr>\n",
       "    <tr>\n",
       "      <th>6</th>\n",
       "      <td>6</td>\n",
       "      <td>달러구트 꿈 백화점</td>\n",
       "      <td>이미예</td>\n",
       "      <td>팩토리나인</td>\n",
       "      <td>12420</td>\n",
       "      <td>2020년 07월 08일</td>\n",
       "      <td>300</td>\n",
       "    </tr>\n",
       "    <tr>\n",
       "      <th>7</th>\n",
       "      <td>8</td>\n",
       "      <td>작은 별이지만 빛나고 있어(10만 부 기념 한정판 에디션)</td>\n",
       "      <td>소윤</td>\n",
       "      <td>북로망스</td>\n",
       "      <td>13500</td>\n",
       "      <td>2021년 09월 29일</td>\n",
       "      <td>274</td>\n",
       "    </tr>\n",
       "    <tr>\n",
       "      <th>8</th>\n",
       "      <td>9</td>\n",
       "      <td>달러구트 꿈 백화점. 2</td>\n",
       "      <td>이미예</td>\n",
       "      <td>팩토리나인</td>\n",
       "      <td>12420</td>\n",
       "      <td>2021년 07월 27일</td>\n",
       "      <td>308</td>\n",
       "    </tr>\n",
       "    <tr>\n",
       "      <th>9</th>\n",
       "      <td>10</td>\n",
       "      <td>오십에 읽는 논어</td>\n",
       "      <td>최종엽</td>\n",
       "      <td>유노북스</td>\n",
       "      <td>14400</td>\n",
       "      <td>2021년 11월 03일</td>\n",
       "      <td>300</td>\n",
       "    </tr>\n",
       "    <tr>\n",
       "      <th>10</th>\n",
       "      <td>11</td>\n",
       "      <td>흔한남매. 9</td>\n",
       "      <td>흔한남매, 백난도/유난희 그림</td>\n",
       "      <td>미래엔아이세움</td>\n",
       "      <td>12150</td>\n",
       "      <td>2021년 12월 09일</td>\n",
       "      <td>192</td>\n",
       "    </tr>\n",
       "    <tr>\n",
       "      <th>11</th>\n",
       "      <td>12</td>\n",
       "      <td>투자는 디테일에 있다</td>\n",
       "      <td>김정환</td>\n",
       "      <td>부케이</td>\n",
       "      <td>16200</td>\n",
       "      <td>2021년 12월 10일</td>\n",
       "      <td>424</td>\n",
       "    </tr>\n",
       "    <tr>\n",
       "      <th>12</th>\n",
       "      <td>12</td>\n",
       "      <td>웰씽킹(Wealthinking)</td>\n",
       "      <td>켈리 최</td>\n",
       "      <td>다산북스</td>\n",
       "      <td>14400</td>\n",
       "      <td>2021년 11월 10일</td>\n",
       "      <td>316</td>\n",
       "    </tr>\n",
       "    <tr>\n",
       "      <th>13</th>\n",
       "      <td>14</td>\n",
       "      <td>2022 사이다 면접</td>\n",
       "      <td>이지수, 구영모, 이지수</td>\n",
       "      <td>박문각</td>\n",
       "      <td>31500</td>\n",
       "      <td>2021년 11월 20일</td>\n",
       "      <td>624</td>\n",
       "    </tr>\n",
       "    <tr>\n",
       "      <th>14</th>\n",
       "      <td>15</td>\n",
       "      <td>미드나잇 라이브러리(25만부 기념 퍼플 에디션)</td>\n",
       "      <td>매트 헤이그/노진선 역</td>\n",
       "      <td>인플루엔셜</td>\n",
       "      <td>14220</td>\n",
       "      <td>2021년 04월 28일</td>\n",
       "      <td>408</td>\n",
       "    </tr>\n",
       "  </tbody>\n",
       "</table>\n",
       "</div>"
      ],
      "text/plain": [
       "    순위                                 제목                                 저자  \\\n",
       "0    1                      트렌드 코리아 2022        김난도(金蘭都), 전미영, 최지혜, 이향은, 이준영   \n",
       "1    2            2022 현직교사들이 들려주는 면접레시피   류은진, 양왕경, 이광한, 이지혜, 양왕경, 이광한, 이지혜   \n",
       "2    3                  아직 오지 않은 날들을 위하여                     파스칼 브뤼크네르/이세진 역   \n",
       "3    4                         거인의 포트폴리오                                 강환국   \n",
       "4    5           불편한 편의점(15만부 기념 윈터 에디션)                                 김호연   \n",
       "5    6                        거꾸로 읽는 세계사                            유시민(柳時敏)   \n",
       "6    6                        달러구트 꿈 백화점                                 이미예   \n",
       "7    8  작은 별이지만 빛나고 있어(10만 부 기념 한정판 에디션)                                  소윤   \n",
       "8    9                     달러구트 꿈 백화점. 2                                 이미예   \n",
       "9   10                         오십에 읽는 논어                                 최종엽   \n",
       "10  11                           흔한남매. 9                    흔한남매, 백난도/유난희 그림   \n",
       "11  12                       투자는 디테일에 있다                                 김정환   \n",
       "12  12                 웰씽킹(Wealthinking)                                켈리 최   \n",
       "13  14                       2022 사이다 면접                       이지수, 구영모, 이지수   \n",
       "14  15        미드나잇 라이브러리(25만부 기념 퍼플 에디션)                        매트 헤이그/노진선 역   \n",
       "\n",
       "        출판사     가격            발행일    쪽수  \n",
       "0      미래의창  16200  2021년 10월 06일   452  \n",
       "1      미래가치  42300  2021년 11월 12일  1104  \n",
       "2     인플루엔셜  14400  2021년 11월 12일   320  \n",
       "3    페이지2북스  16200  2021년 11월 08일   404  \n",
       "4     나무옆의자  12600  2021년 04월 20일   268  \n",
       "5       돌베개  15750  2021년 10월 29일   404  \n",
       "6     팩토리나인  12420  2020년 07월 08일   300  \n",
       "7      북로망스  13500  2021년 09월 29일   274  \n",
       "8     팩토리나인  12420  2021년 07월 27일   308  \n",
       "9      유노북스  14400  2021년 11월 03일   300  \n",
       "10  미래엔아이세움  12150  2021년 12월 09일   192  \n",
       "11      부케이  16200  2021년 12월 10일   424  \n",
       "12     다산북스  14400  2021년 11월 10일   316  \n",
       "13      박문각  31500  2021년 11월 20일   624  \n",
       "14    인플루엔셜  14220  2021년 04월 28일   408  "
      ]
     },
     "execution_count": 55,
     "metadata": {},
     "output_type": "execute_result"
    }
   ],
   "source": [
    "df = pd.DataFrame(lines, columns=[\n",
    "    '순위','제목', '저자', '출판사', '가격', '발행일','쪽수'\n",
    "])\n",
    "\n",
    "df"
   ]
  },
  {
   "cell_type": "code",
   "execution_count": 56,
   "metadata": {},
   "outputs": [],
   "source": [
    "df.to_csv('인터파크베스트셀러15(21-12-7).csv')"
   ]
  },
  {
   "cell_type": "code",
   "execution_count": null,
   "metadata": {},
   "outputs": [],
   "source": []
  }
 ],
 "metadata": {
  "interpreter": {
   "hash": "e3bde7f9be308a4ed5b677c98eb4e5423d8d4c39cb1152441ce9aa81adc70699"
  },
  "kernelspec": {
   "display_name": "Python 3.8.8 64-bit ('base': conda)",
   "language": "python",
   "name": "python3"
  },
  "language_info": {
   "codemirror_mode": {
    "name": "ipython",
    "version": 3
   },
   "file_extension": ".py",
   "mimetype": "text/x-python",
   "name": "python",
   "nbconvert_exporter": "python",
   "pygments_lexer": "ipython3",
   "version": "3.8.8"
  },
  "orig_nbformat": 4
 },
 "nbformat": 4,
 "nbformat_minor": 2
}
