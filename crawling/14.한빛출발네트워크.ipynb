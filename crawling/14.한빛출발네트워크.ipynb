{
 "cells": [
  {
   "cell_type": "code",
   "execution_count": 369,
   "metadata": {},
   "outputs": [],
   "source": [
    "from selenium import webdriver\n",
    "from bs4 import BeautifulSoup\n",
    "import time\n",
    "import pandas as pd\n",
    "import requests\n",
    "from urllib.parse import quote"
   ]
  },
  {
   "cell_type": "code",
   "execution_count": 370,
   "metadata": {},
   "outputs": [],
   "source": [
    "url = 'https://www.hanbit.co.kr/store/books/new_book_list.html'\n",
    "driver = webdriver.Chrome('chromedriver.exe')\n",
    "driver.get(url)"
   ]
  },
  {
   "cell_type": "code",
   "execution_count": 371,
   "metadata": {},
   "outputs": [
    {
     "data": {
      "text/plain": [
       "20"
      ]
     },
     "execution_count": 371,
     "metadata": {},
     "output_type": "execute_result"
    }
   ],
   "source": [
    "soup = BeautifulSoup(driver.page_source, 'html.parser')\n",
    "book_list = soup.select('.sub_book_list')\n",
    "len(book_list)"
   ]
  },
  {
   "cell_type": "code",
   "execution_count": 372,
   "metadata": {},
   "outputs": [
    {
     "data": {
      "text/plain": [
       "<li class=\"sub_book_list\">\n",
       "<div class=\"view_box\">\n",
       "<!--\n",
       "            <span class=\"view_box_block\" onclick=\"location.href='/store/books/look.php?p_code=B6972407557';\">\n",
       "            -->\n",
       "<span class=\"view_box_block\">\n",
       "<span class=\"img_hidden_b\">\n",
       "<span class=\"pop_quick_menu\">\n",
       "<a href=\"/store/books/look.php?p_code=B6972407557\"><img alt=\"상세보기\" src=\"https://www.hanbit.co.kr/images/common/icon_view_detail.png\"/></a>\n",
       "</span>\n",
       "<span class=\"price\">14,400<span>원</span></span>\n",
       "<span class=\"pop_quick_bg\" onclick=\"location='/store/books/look.php?p_code=B6972407557'\"></span>\n",
       "</span>\n",
       "<!-- 예약도서인 경우 -->\n",
       "<!-- ebook이 도서인 경우 -->\n",
       "<img alt=\"\" class=\"thumb\" src=\"/data/books/B6972407557_m.jpg\"/>\n",
       "</span>\n",
       "<div class=\"info\">\n",
       "<p class=\"book_tit\"><a href=\"/store/books/look.php?p_code=B6972407557\">다시, 배우다</a></p>\n",
       "<p class=\"book_writer\">폴 김 </p>\n",
       "</div>\n",
       "</div>\n",
       "</li>"
      ]
     },
     "execution_count": 372,
     "metadata": {},
     "output_type": "execute_result"
    }
   ],
   "source": [
    "book=book_list[1]\n",
    "book"
   ]
  },
  {
   "cell_type": "code",
   "execution_count": 373,
   "metadata": {},
   "outputs": [
    {
     "data": {
      "text/plain": [
       "'다시, 배우다'"
      ]
     },
     "execution_count": 373,
     "metadata": {},
     "output_type": "execute_result"
    }
   ],
   "source": [
    "name=book.select_one('.book_tit').get_text()\n",
    "name"
   ]
  },
  {
   "cell_type": "code",
   "execution_count": 374,
   "metadata": {},
   "outputs": [
    {
     "data": {
      "text/plain": [
       "'폴 김 '"
      ]
     },
     "execution_count": 374,
     "metadata": {},
     "output_type": "execute_result"
    }
   ],
   "source": [
    "author=book.select_one('.book_writer').get_text()\n",
    "author"
   ]
  },
  {
   "cell_type": "code",
   "execution_count": 375,
   "metadata": {},
   "outputs": [],
   "source": [
    "url='https://www.hanbit.co.kr'"
   ]
  },
  {
   "cell_type": "code",
   "execution_count": 376,
   "metadata": {},
   "outputs": [
    {
     "data": {
      "text/plain": [
       "'https://www.hanbit.co.kr/store/books/look.php?p_code=B6972407557'"
      ]
     },
     "execution_count": 376,
     "metadata": {},
     "output_type": "execute_result"
    }
   ],
   "source": [
    "href=book_list[1].find('a')['href']\n",
    "href\n",
    "sub_url = url + href\n",
    "sub_url"
   ]
  },
  {
   "cell_type": "code",
   "execution_count": 377,
   "metadata": {},
   "outputs": [],
   "source": [
    "sub_req = requests.get(sub_url)\n",
    "sub_html = sub_req.text\n",
    "sub_soup = BeautifulSoup(sub_html, 'html.parser')"
   ]
  },
  {
   "cell_type": "code",
   "execution_count": 378,
   "metadata": {},
   "outputs": [
    {
     "data": {
      "text/plain": [
       "'\\n저자 : 폴 김 \\n출간 : 2021-12-10\\n페이지 : 304 쪽\\nISBN : 9791157845545\\n물류코드 :3356\\n'"
      ]
     },
     "execution_count": 378,
     "metadata": {},
     "output_type": "execute_result"
    }
   ],
   "source": [
    "translator_1 = sub_soup.select_one('.info_list').get_text()\n",
    "translator_1"
   ]
  },
  {
   "cell_type": "code",
   "execution_count": 379,
   "metadata": {},
   "outputs": [],
   "source": [
    "translator_1 = sub_soup.select_one('.info_list').get_text()\n",
    "if '번역' in translator_1:\n",
    "    translator = sub_soup.select_one('.info_list').get_text().split('\\n')[2].split(':')[1]\n",
    "else :\n",
    "    translator = 'x'\n"
   ]
  },
  {
   "cell_type": "code",
   "execution_count": 380,
   "metadata": {},
   "outputs": [
    {
     "data": {
      "text/plain": [
       "'304 쪽'"
      ]
     },
     "execution_count": 380,
     "metadata": {},
     "output_type": "execute_result"
    }
   ],
   "source": [
    "publish_date = sub_soup.select_one('.info_list').get_text().split('\\n')[3].split(': ')[1]\n",
    "publish_date"
   ]
  },
  {
   "cell_type": "code",
   "execution_count": 381,
   "metadata": {},
   "outputs": [
    {
     "data": {
      "text/plain": [
       "'9791157845545'"
      ]
     },
     "execution_count": 381,
     "metadata": {},
     "output_type": "execute_result"
    }
   ],
   "source": [
    "pages = sub_soup.select_one('.info_list').get_text().split('\\n')[4].split(': ')[1]\n",
    "pages"
   ]
  },
  {
   "cell_type": "code",
   "execution_count": 382,
   "metadata": {},
   "outputs": [
    {
     "data": {
      "text/plain": [
       "'16,000'"
      ]
     },
     "execution_count": 382,
     "metadata": {},
     "output_type": "execute_result"
    }
   ],
   "source": [
    "old_price = sub_soup.select('span.pbr')[0].get_text().replace('원','')\n",
    "old_price"
   ]
  },
  {
   "cell_type": "code",
   "execution_count": 383,
   "metadata": {},
   "outputs": [
    {
     "data": {
      "text/plain": [
       "'14,400'"
      ]
     },
     "execution_count": 383,
     "metadata": {},
     "output_type": "execute_result"
    }
   ],
   "source": [
    "dis_price = str(sub_soup.select('span.pbr>strong')[0]).replace('strong','').replace('<>','').replace('</>','')\n",
    "dis_price"
   ]
  },
  {
   "cell_type": "code",
   "execution_count": 384,
   "metadata": {},
   "outputs": [
    {
     "data": {
      "text/plain": [
       "'800점 (5%)'"
      ]
     },
     "execution_count": 384,
     "metadata": {},
     "output_type": "execute_result"
    }
   ],
   "source": [
    "mileage = str(sub_soup.select('span.pbr')[2]).replace('<span class=\"pbr\">','').replace('</span>','')\n",
    "mileage"
   ]
  },
  {
   "cell_type": "code",
   "execution_count": 385,
   "metadata": {},
   "outputs": [],
   "source": [
    "lines = []\n",
    "\n",
    "for book_1 in book_list:\n",
    "    name=book_1.select_one('.book_tit').get_text()\n",
    "    author=book_1.select_one('.book_writer').get_text()\n",
    "    \n",
    "    href=book_1.find('a')['href']\n",
    "    \n",
    "    sub_url = url + href\n",
    "    sub_req = requests.get(sub_url)\n",
    "    sub_html = sub_req.text\n",
    "    sub_soup = BeautifulSoup(sub_html, 'html.parser')\n",
    "\n",
    "    translator_1 = sub_soup.select_one('.info_list').get_text()\n",
    "\n",
    "    if  '번역' in translator_1:\n",
    "        translator = sub_soup.select_one('.info_list').get_text().split('\\n')[2].split(':')[1]\n",
    "        publish_date = sub_soup.select_one('.info_list').get_text().split('\\n')[3].split(': ')[1]\n",
    "        pages = sub_soup.select_one('.info_list').get_text().split('\\n')[4].split(': ')[1]\n",
    "        old_price = sub_soup.select('span.pbr')[0].get_text().replace('원','')\n",
    "        dis_price = str(sub_soup.select('span.pbr>strong')[0]).replace('strong','').replace('<>','').replace('</>','')\n",
    "        mileage = str(sub_soup.select('span.pbr')[2]).replace('<span class=\"pbr\">','').replace('</span>','')\n",
    "    else :\n",
    "        translator = 'x'\n",
    "        publish_date = sub_soup.select_one('.info_list').get_text().split('\\n')[2].split(': ')[1]\n",
    "        pages = sub_soup.select_one('.info_list').get_text().split('\\n')[3].split(': ')[1]\n",
    "        old_price = sub_soup.select('span.pbr')[0].get_text().replace('원','')\n",
    "        dis_price = str(sub_soup.select('span.pbr>strong')[0]).replace('strong','').replace('<>','').replace('</>','')\n",
    "        mileage = str(sub_soup.select('span.pbr')[2]).replace('<span class=\"pbr\">','').replace('</span>','')\n",
    "\n",
    "    lines.append([name,author,translator,publish_date,pages,old_price,dis_price,mileage])"
   ]
  },
  {
   "cell_type": "code",
   "execution_count": 386,
   "metadata": {},
   "outputs": [
    {
     "data": {
      "text/html": [
       "<div>\n",
       "<style scoped>\n",
       "    .dataframe tbody tr th:only-of-type {\n",
       "        vertical-align: middle;\n",
       "    }\n",
       "\n",
       "    .dataframe tbody tr th {\n",
       "        vertical-align: top;\n",
       "    }\n",
       "\n",
       "    .dataframe thead th {\n",
       "        text-align: right;\n",
       "    }\n",
       "</style>\n",
       "<table border=\"1\" class=\"dataframe\">\n",
       "  <thead>\n",
       "    <tr style=\"text-align: right;\">\n",
       "      <th></th>\n",
       "      <th>책이름</th>\n",
       "      <th>저자</th>\n",
       "      <th>역자</th>\n",
       "      <th>출판일</th>\n",
       "      <th>페이지수</th>\n",
       "      <th>정가</th>\n",
       "      <th>할인가</th>\n",
       "      <th>적립마일리지</th>\n",
       "    </tr>\n",
       "  </thead>\n",
       "  <tbody>\n",
       "    <tr>\n",
       "      <th>0</th>\n",
       "      <td>하루 한 장 초등과학 365</td>\n",
       "      <td>치바 가즈요시</td>\n",
       "      <td>허영은 , 유우종 (감수)</td>\n",
       "      <td>2021-12-14</td>\n",
       "      <td>416 쪽</td>\n",
       "      <td>19,800</td>\n",
       "      <td>17,820</td>\n",
       "      <td>990점 (5%)</td>\n",
       "    </tr>\n",
       "    <tr>\n",
       "      <th>1</th>\n",
       "      <td>다시, 배우다</td>\n",
       "      <td>폴 김</td>\n",
       "      <td>x</td>\n",
       "      <td>2021-12-10</td>\n",
       "      <td>304 쪽</td>\n",
       "      <td>16,000</td>\n",
       "      <td>14,400</td>\n",
       "      <td>800점 (5%)</td>\n",
       "    </tr>\n",
       "    <tr>\n",
       "      <th>2</th>\n",
       "      <td>당당한 디자인 결정을 위한 9가지 방법</td>\n",
       "      <td>톰 그리버</td>\n",
       "      <td>김민성 , 곽서희</td>\n",
       "      <td>2021-12-10</td>\n",
       "      <td>376 쪽</td>\n",
       "      <td>22,000</td>\n",
       "      <td>19,800</td>\n",
       "      <td>1,100점 (5%)</td>\n",
       "    </tr>\n",
       "    <tr>\n",
       "      <th>3</th>\n",
       "      <td>365 부모 말하기 연습 일력(스프링북)</td>\n",
       "      <td>박재연 , 공인영</td>\n",
       "      <td>x</td>\n",
       "      <td>2021-12-01</td>\n",
       "      <td>384 쪽</td>\n",
       "      <td>18,000</td>\n",
       "      <td>16,200</td>\n",
       "      <td>900점 (5%)</td>\n",
       "    </tr>\n",
       "    <tr>\n",
       "      <th>4</th>\n",
       "      <td>공학도를 위한 수치해석(8판)</td>\n",
       "      <td>Steven C.Chapra , Raymond P. Canale</td>\n",
       "      <td>나양 , 이승배 , 임윤철</td>\n",
       "      <td>2021-11-30</td>\n",
       "      <td>600 쪽</td>\n",
       "      <td>36,000</td>\n",
       "      <td>36,000</td>\n",
       "      <td>1,080점 (3%)</td>\n",
       "    </tr>\n",
       "    <tr>\n",
       "      <th>5</th>\n",
       "      <td>엑셀 매크로&amp;VBA 업무 공략집</td>\n",
       "      <td>최준선</td>\n",
       "      <td>x</td>\n",
       "      <td>2021-11-30</td>\n",
       "      <td>328 쪽</td>\n",
       "      <td>22,000</td>\n",
       "      <td>19,800</td>\n",
       "      <td>1,100점 (5%)</td>\n",
       "    </tr>\n",
       "    <tr>\n",
       "      <th>6</th>\n",
       "      <td>데이터 과학자 되는 법</td>\n",
       "      <td>에밀리 로빈슨 , 재클린 놀리스</td>\n",
       "      <td>이창화</td>\n",
       "      <td>2021-11-26</td>\n",
       "      <td>372 쪽</td>\n",
       "      <td>24,000</td>\n",
       "      <td>21,600</td>\n",
       "      <td>1,200점 (5%)</td>\n",
       "    </tr>\n",
       "    <tr>\n",
       "      <th>7</th>\n",
       "      <td>돈 되는 기획</td>\n",
       "      <td>김도균</td>\n",
       "      <td>x</td>\n",
       "      <td>2021-11-26</td>\n",
       "      <td>240 쪽</td>\n",
       "      <td>14,500</td>\n",
       "      <td>13,050</td>\n",
       "      <td>725점 (5%)</td>\n",
       "    </tr>\n",
       "    <tr>\n",
       "      <th>8</th>\n",
       "      <td>빠르게 찾아 바로 적용하는 엑셀 에센스 사전 100</td>\n",
       "      <td>한은숙</td>\n",
       "      <td>x</td>\n",
       "      <td>2021-11-25</td>\n",
       "      <td>300 쪽</td>\n",
       "      <td>18,000</td>\n",
       "      <td>16,200</td>\n",
       "      <td>900점 (5%)</td>\n",
       "    </tr>\n",
       "    <tr>\n",
       "      <th>9</th>\n",
       "      <td>초등 어휘력이 공부력이다</td>\n",
       "      <td>박명선</td>\n",
       "      <td>x</td>\n",
       "      <td>2021-11-25</td>\n",
       "      <td>412 쪽</td>\n",
       "      <td>18,000</td>\n",
       "      <td>16,200</td>\n",
       "      <td>900점 (5%)</td>\n",
       "    </tr>\n",
       "    <tr>\n",
       "      <th>10</th>\n",
       "      <td>만화로 배우는 의학의 역사(개정판)</td>\n",
       "      <td>장 노엘 파비아니 , 필리프 베르코비치 , 김모 , 조한나</td>\n",
       "      <td>x</td>\n",
       "      <td>2021-11-15</td>\n",
       "      <td>296 쪽</td>\n",
       "      <td>20,800</td>\n",
       "      <td>18,720</td>\n",
       "      <td>1,040점 (5%)</td>\n",
       "    </tr>\n",
       "    <tr>\n",
       "      <th>11</th>\n",
       "      <td>스토리텔링 우동이즘의 잘 팔리는 웹툰, 웹소설 이야기 만들기</td>\n",
       "      <td>우동이즘(이동우)</td>\n",
       "      <td>x</td>\n",
       "      <td>2021-11-15</td>\n",
       "      <td>232 쪽</td>\n",
       "      <td>16,000</td>\n",
       "      <td>14,400</td>\n",
       "      <td>800점 (5%)</td>\n",
       "    </tr>\n",
       "    <tr>\n",
       "      <th>12</th>\n",
       "      <td>중학교 입학 가이드</td>\n",
       "      <td>배혜림</td>\n",
       "      <td>x</td>\n",
       "      <td>2021-11-11</td>\n",
       "      <td>376 쪽</td>\n",
       "      <td>16,500</td>\n",
       "      <td>14,850</td>\n",
       "      <td>825점 (5%)</td>\n",
       "    </tr>\n",
       "    <tr>\n",
       "      <th>13</th>\n",
       "      <td>보고서 작성 실무 강의(개정판)</td>\n",
       "      <td>홍장표</td>\n",
       "      <td>x</td>\n",
       "      <td>2021-11-08</td>\n",
       "      <td>400 쪽</td>\n",
       "      <td>18,000</td>\n",
       "      <td>16,200</td>\n",
       "      <td>900점 (5%)</td>\n",
       "    </tr>\n",
       "    <tr>\n",
       "      <th>14</th>\n",
       "      <td>비겁한 돈</td>\n",
       "      <td>황현희 , 제갈현열</td>\n",
       "      <td>x</td>\n",
       "      <td>2021-11-08</td>\n",
       "      <td>248 쪽</td>\n",
       "      <td>16,000</td>\n",
       "      <td>14,400</td>\n",
       "      <td>800점 (5%)</td>\n",
       "    </tr>\n",
       "    <tr>\n",
       "      <th>15</th>\n",
       "      <td>나도 영문 손글씨 잘 쓰면 소원이 없겠네</td>\n",
       "      <td>윤정희(리제 캘리그라피)</td>\n",
       "      <td>x</td>\n",
       "      <td>2021-11-05</td>\n",
       "      <td>240 쪽</td>\n",
       "      <td>16,800</td>\n",
       "      <td>15,120</td>\n",
       "      <td>840점 (5%)</td>\n",
       "    </tr>\n",
       "    <tr>\n",
       "      <th>16</th>\n",
       "      <td>구글 BERT의 정석</td>\n",
       "      <td>수다르산 라비찬디란</td>\n",
       "      <td>전희원 , 정승환 , 김형준</td>\n",
       "      <td>2021-11-03</td>\n",
       "      <td>368 쪽</td>\n",
       "      <td>34,000</td>\n",
       "      <td>30,600</td>\n",
       "      <td>1,700점 (5%)</td>\n",
       "    </tr>\n",
       "    <tr>\n",
       "      <th>17</th>\n",
       "      <td>1000개 숨은그림찾기 몬스터 : 찾아도 찾아도 끝판왕</td>\n",
       "      <td>김확실</td>\n",
       "      <td>x</td>\n",
       "      <td>2021-11-02</td>\n",
       "      <td>96 쪽</td>\n",
       "      <td>8,000</td>\n",
       "      <td>7,200</td>\n",
       "      <td>400점 (5%)</td>\n",
       "    </tr>\n",
       "    <tr>\n",
       "      <th>18</th>\n",
       "      <td>1000개 숨은그림찾기 보물찾기 : 찾아도 찾아도 끝판왕</td>\n",
       "      <td>전진희</td>\n",
       "      <td>x</td>\n",
       "      <td>2021-11-02</td>\n",
       "      <td>96 쪽</td>\n",
       "      <td>8,000</td>\n",
       "      <td>7,200</td>\n",
       "      <td>400점 (5%)</td>\n",
       "    </tr>\n",
       "    <tr>\n",
       "      <th>19</th>\n",
       "      <td>1000개 숨은그림찾기 탈것 : 찾아도 찾아도 끝판왕</td>\n",
       "      <td>이한이</td>\n",
       "      <td>x</td>\n",
       "      <td>2021-11-02</td>\n",
       "      <td>96 쪽</td>\n",
       "      <td>8,000</td>\n",
       "      <td>7,200</td>\n",
       "      <td>400점 (5%)</td>\n",
       "    </tr>\n",
       "  </tbody>\n",
       "</table>\n",
       "</div>"
      ],
      "text/plain": [
       "                                  책이름                                    저자  \\\n",
       "0                     하루 한 장 초등과학 365                              치바 가즈요시    \n",
       "1                             다시, 배우다                                  폴 김    \n",
       "2               당당한 디자인 결정을 위한 9가지 방법                                톰 그리버    \n",
       "3              365 부모 말하기 연습 일력(스프링북)                            박재연 , 공인영    \n",
       "4                    공학도를 위한 수치해석(8판)  Steven C.Chapra , Raymond P. Canale    \n",
       "5                   엑셀 매크로&VBA 업무 공략집                                  최준선    \n",
       "6                        데이터 과학자 되는 법                    에밀리 로빈슨 , 재클린 놀리스    \n",
       "7                             돈 되는 기획                                  김도균    \n",
       "8        빠르게 찾아 바로 적용하는 엑셀 에센스 사전 100                                  한은숙    \n",
       "9                       초등 어휘력이 공부력이다                                  박명선    \n",
       "10                만화로 배우는 의학의 역사(개정판)     장 노엘 파비아니 , 필리프 베르코비치 , 김모 , 조한나    \n",
       "11  스토리텔링 우동이즘의 잘 팔리는 웹툰, 웹소설 이야기 만들기                            우동이즘(이동우)    \n",
       "12                         중학교 입학 가이드                                  배혜림    \n",
       "13                  보고서 작성 실무 강의(개정판)                                  홍장표    \n",
       "14                              비겁한 돈                           황현희 , 제갈현열    \n",
       "15             나도 영문 손글씨 잘 쓰면 소원이 없겠네                        윤정희(리제 캘리그라피)    \n",
       "16                        구글 BERT의 정석                           수다르산 라비찬디란    \n",
       "17     1000개 숨은그림찾기 몬스터 : 찾아도 찾아도 끝판왕                                  김확실    \n",
       "18    1000개 숨은그림찾기 보물찾기 : 찾아도 찾아도 끝판왕                                  전진희    \n",
       "19      1000개 숨은그림찾기 탈것 : 찾아도 찾아도 끝판왕                                  이한이    \n",
       "\n",
       "                   역자         출판일   페이지수      정가     할인가       적립마일리지  \n",
       "0     허영은 , 유우종 (감수)   2021-12-14  416 쪽  19,800  17,820    990점 (5%)  \n",
       "1                   x  2021-12-10  304 쪽  16,000  14,400    800점 (5%)  \n",
       "2          김민성 , 곽서희   2021-12-10  376 쪽  22,000  19,800  1,100점 (5%)  \n",
       "3                   x  2021-12-01  384 쪽  18,000  16,200    900점 (5%)  \n",
       "4     나양 , 이승배 , 임윤철   2021-11-30  600 쪽  36,000  36,000  1,080점 (3%)  \n",
       "5                   x  2021-11-30  328 쪽  22,000  19,800  1,100점 (5%)  \n",
       "6                이창화   2021-11-26  372 쪽  24,000  21,600  1,200점 (5%)  \n",
       "7                   x  2021-11-26  240 쪽  14,500  13,050    725점 (5%)  \n",
       "8                   x  2021-11-25  300 쪽  18,000  16,200    900점 (5%)  \n",
       "9                   x  2021-11-25  412 쪽  18,000  16,200    900점 (5%)  \n",
       "10                  x  2021-11-15  296 쪽  20,800  18,720  1,040점 (5%)  \n",
       "11                  x  2021-11-15  232 쪽  16,000  14,400    800점 (5%)  \n",
       "12                  x  2021-11-11  376 쪽  16,500  14,850    825점 (5%)  \n",
       "13                  x  2021-11-08  400 쪽  18,000  16,200    900점 (5%)  \n",
       "14                  x  2021-11-08  248 쪽  16,000  14,400    800점 (5%)  \n",
       "15                  x  2021-11-05  240 쪽  16,800  15,120    840점 (5%)  \n",
       "16   전희원 , 정승환 , 김형준   2021-11-03  368 쪽  34,000  30,600  1,700점 (5%)  \n",
       "17                  x  2021-11-02   96 쪽   8,000   7,200    400점 (5%)  \n",
       "18                  x  2021-11-02   96 쪽   8,000   7,200    400점 (5%)  \n",
       "19                  x  2021-11-02   96 쪽   8,000   7,200    400점 (5%)  "
      ]
     },
     "execution_count": 386,
     "metadata": {},
     "output_type": "execute_result"
    }
   ],
   "source": [
    "df = pd.DataFrame(lines, columns=[\n",
    "    '책이름','저자', '역자', '출판일', '페이지수', '정가','할인가','적립마일리지'\n",
    "])\n",
    "\n",
    "df"
   ]
  },
  {
   "cell_type": "code",
   "execution_count": 387,
   "metadata": {},
   "outputs": [],
   "source": [
    "lines = []\n",
    "for page in range(1,11):\n",
    "    url = 'https://www.hanbit.co.kr/store/books/new_book_list.html?page='+str(page)+'&brand=&cate1=&cate2=&searchKey=&keyWord='\n",
    "    res = requests.get(url)\n",
    "    soup=BeautifulSoup(res.text, 'html.parser')\n",
    "    book_list = soup.select('.sub_book_list')\n",
    "\n",
    "\n",
    "\n",
    "    for book_1 in book_list:\n",
    "        name=book_1.select_one('.book_tit').get_text()\n",
    "        author=book_1.select_one('.book_writer').get_text()\n",
    "        \n",
    "        href=book_1.find('a')['href']\n",
    "        \n",
    "        url_2 = 'https://www.hanbit.co.kr'\n",
    "        sub_url = url_2 + href\n",
    "        sub_req = requests.get(sub_url)\n",
    "        sub_html = sub_req.text\n",
    "        sub_soup = BeautifulSoup(sub_html, 'html.parser')\n",
    "\n",
    "        translator_1 = sub_soup.select_one('.info_list').get_text()\n",
    "\n",
    "        if  '번역' in translator_1:\n",
    "            translator = sub_soup.select_one('.info_list').get_text().split('\\n')[2].split(':')[1]\n",
    "            publish_date = sub_soup.select_one('.info_list').get_text().split('\\n')[3].split(': ')[1]\n",
    "            pages = sub_soup.select_one('.info_list').get_text().split('\\n')[4].split(': ')[1]\n",
    "            old_price = sub_soup.select('span.pbr')[0].get_text().replace('원','')\n",
    "            dis_price = str(sub_soup.select('span.pbr>strong')[0]).replace('strong','').replace('<>','').replace('</>','')\n",
    "            mileage = str(sub_soup.select('span.pbr')[2]).replace('<span class=\"pbr\">','').replace('</span>','')\n",
    "        else :\n",
    "            translator = 'x'\n",
    "            publish_date = sub_soup.select_one('.info_list').get_text().split('\\n')[2].split(': ')[1]\n",
    "            pages = sub_soup.select_one('.info_list').get_text().split('\\n')[3].split(': ')[1]\n",
    "            old_price = sub_soup.select('span.pbr')[0].get_text().replace('원','')\n",
    "            dis_price = str(sub_soup.select('span.pbr>strong')[0]).replace('strong','').replace('<>','').replace('</>','')\n",
    "            mileage = str(sub_soup.select('span.pbr')[2]).replace('<span class=\"pbr\">','').replace('</span>','')\n",
    "\n",
    "        lines.append([name,author,translator,publish_date,pages,old_price,dis_price,mileage])"
   ]
  },
  {
   "cell_type": "code",
   "execution_count": 394,
   "metadata": {},
   "outputs": [
    {
     "data": {
      "text/html": [
       "<div>\n",
       "<style scoped>\n",
       "    .dataframe tbody tr th:only-of-type {\n",
       "        vertical-align: middle;\n",
       "    }\n",
       "\n",
       "    .dataframe tbody tr th {\n",
       "        vertical-align: top;\n",
       "    }\n",
       "\n",
       "    .dataframe thead th {\n",
       "        text-align: right;\n",
       "    }\n",
       "</style>\n",
       "<table border=\"1\" class=\"dataframe\">\n",
       "  <thead>\n",
       "    <tr style=\"text-align: right;\">\n",
       "      <th></th>\n",
       "      <th>책이름</th>\n",
       "      <th>저자</th>\n",
       "      <th>역자</th>\n",
       "      <th>출판일</th>\n",
       "      <th>페이지수</th>\n",
       "      <th>정가</th>\n",
       "      <th>할인가</th>\n",
       "      <th>적립마일리지</th>\n",
       "    </tr>\n",
       "  </thead>\n",
       "  <tbody>\n",
       "    <tr>\n",
       "      <th>50</th>\n",
       "      <td>모바일 UX/UI 디자인 강의 with Adobe XD</td>\n",
       "      <td>김영삼</td>\n",
       "      <td>x</td>\n",
       "      <td>2021-08-30</td>\n",
       "      <td>404 쪽</td>\n",
       "      <td>26,000</td>\n",
       "      <td>23,400</td>\n",
       "      <td>1,300점 (5%)</td>\n",
       "    </tr>\n",
       "    <tr>\n",
       "      <th>51</th>\n",
       "      <td>인문학 거저보기 : 서양철학 편</td>\n",
       "      <td>지하늘</td>\n",
       "      <td>x</td>\n",
       "      <td>2021-08-30</td>\n",
       "      <td>380 쪽</td>\n",
       "      <td>18,500</td>\n",
       "      <td>16,650</td>\n",
       "      <td>925점 (5%)</td>\n",
       "    </tr>\n",
       "    <tr>\n",
       "      <th>52</th>\n",
       "      <td>처음 배우는 플라스크 웹 프로그래밍</td>\n",
       "      <td>윤정현</td>\n",
       "      <td>x</td>\n",
       "      <td>2021-08-30</td>\n",
       "      <td>260 쪽</td>\n",
       "      <td>19,800</td>\n",
       "      <td>17,820</td>\n",
       "      <td>990점 (5%)</td>\n",
       "    </tr>\n",
       "    <tr>\n",
       "      <th>53</th>\n",
       "      <td>IT CookBook, 현대 센서공학(5판)</td>\n",
       "      <td>Jacob Fraden</td>\n",
       "      <td>김윤 , 김혁 , 박동욱</td>\n",
       "      <td>2021-08-27</td>\n",
       "      <td>688 쪽</td>\n",
       "      <td>35,000</td>\n",
       "      <td>35,000</td>\n",
       "      <td>1,050점 (3%)</td>\n",
       "    </tr>\n",
       "    <tr>\n",
       "      <th>54</th>\n",
       "      <td>방구석 심리학 실험실</td>\n",
       "      <td>마이클 A. 브릿</td>\n",
       "      <td>류초롱</td>\n",
       "      <td>2021-08-25</td>\n",
       "      <td>388 쪽</td>\n",
       "      <td>18,000</td>\n",
       "      <td>16,200</td>\n",
       "      <td>900점 (5%)</td>\n",
       "    </tr>\n",
       "    <tr>\n",
       "      <th>...</th>\n",
       "      <td>...</td>\n",
       "      <td>...</td>\n",
       "      <td>...</td>\n",
       "      <td>...</td>\n",
       "      <td>...</td>\n",
       "      <td>...</td>\n",
       "      <td>...</td>\n",
       "      <td>...</td>\n",
       "    </tr>\n",
       "    <tr>\n",
       "      <th>195</th>\n",
       "      <td>IT CookBook, C 언어 일취월장(2판)</td>\n",
       "      <td>신윤환</td>\n",
       "      <td>x</td>\n",
       "      <td>2021-02-24</td>\n",
       "      <td>800 쪽</td>\n",
       "      <td>28,000</td>\n",
       "      <td>28,000</td>\n",
       "      <td>840점 (3%)</td>\n",
       "    </tr>\n",
       "    <tr>\n",
       "      <th>196</th>\n",
       "      <td>소비자행동</td>\n",
       "      <td>김학윤</td>\n",
       "      <td>x</td>\n",
       "      <td>2021-02-23</td>\n",
       "      <td>660 쪽</td>\n",
       "      <td>35,000</td>\n",
       "      <td>35,000</td>\n",
       "      <td>1,050점 (3%)</td>\n",
       "    </tr>\n",
       "    <tr>\n",
       "      <th>197</th>\n",
       "      <td>재미있고 빠른 어휘력 동화 – 두근두근 이 마음은 뭘까</td>\n",
       "      <td>김세실 , 김도윤(그림)</td>\n",
       "      <td>x</td>\n",
       "      <td>2021-02-20</td>\n",
       "      <td>104 쪽</td>\n",
       "      <td>12,000</td>\n",
       "      <td>10,800</td>\n",
       "      <td>600점 (5%)</td>\n",
       "    </tr>\n",
       "    <tr>\n",
       "      <th>198</th>\n",
       "      <td>재미있고 빠른 어휘력 동화 – 키득키득 재밌는 의성어 의태어</td>\n",
       "      <td>김예실 , 김희선(그림)</td>\n",
       "      <td>x</td>\n",
       "      <td>2021-02-20</td>\n",
       "      <td>104 쪽</td>\n",
       "      <td>12,000</td>\n",
       "      <td>10,800</td>\n",
       "      <td>600점 (5%)</td>\n",
       "    </tr>\n",
       "    <tr>\n",
       "      <th>199</th>\n",
       "      <td>웹 애플리케이션 보안</td>\n",
       "      <td>앤드루 호프먼</td>\n",
       "      <td>최용</td>\n",
       "      <td>2021-02-19</td>\n",
       "      <td>372 쪽</td>\n",
       "      <td>30,000</td>\n",
       "      <td>27,000</td>\n",
       "      <td>1,500점 (5%)</td>\n",
       "    </tr>\n",
       "  </tbody>\n",
       "</table>\n",
       "<p>150 rows × 8 columns</p>\n",
       "</div>"
      ],
      "text/plain": [
       "                                   책이름              저자               역자  \\\n",
       "50      모바일 UX/UI 디자인 강의 with Adobe XD            김영삼                 x   \n",
       "51                   인문학 거저보기 : 서양철학 편            지하늘                 x   \n",
       "52                 처음 배우는 플라스크 웹 프로그래밍            윤정현                 x   \n",
       "53            IT CookBook, 현대 센서공학(5판)   Jacob Fraden    김윤 , 김혁 , 박동욱    \n",
       "54                         방구석 심리학 실험실      마이클 A. 브릿              류초롱    \n",
       "..                                 ...             ...              ...   \n",
       "195         IT CookBook, C 언어 일취월장(2판)            신윤환                 x   \n",
       "196                              소비자행동            김학윤                 x   \n",
       "197     재미있고 빠른 어휘력 동화 – 두근두근 이 마음은 뭘까  김세실 , 김도윤(그림)                 x   \n",
       "198  재미있고 빠른 어휘력 동화 – 키득키득 재밌는 의성어 의태어  김예실 , 김희선(그림)                 x   \n",
       "199                        웹 애플리케이션 보안        앤드루 호프먼               최용    \n",
       "\n",
       "            출판일   페이지수      정가     할인가       적립마일리지  \n",
       "50   2021-08-30  404 쪽  26,000  23,400  1,300점 (5%)  \n",
       "51   2021-08-30  380 쪽  18,500  16,650    925점 (5%)  \n",
       "52   2021-08-30  260 쪽  19,800  17,820    990점 (5%)  \n",
       "53   2021-08-27  688 쪽  35,000  35,000  1,050점 (3%)  \n",
       "54   2021-08-25  388 쪽  18,000  16,200    900점 (5%)  \n",
       "..          ...    ...     ...     ...          ...  \n",
       "195  2021-02-24  800 쪽  28,000  28,000    840점 (3%)  \n",
       "196  2021-02-23  660 쪽  35,000  35,000  1,050점 (3%)  \n",
       "197  2021-02-20  104 쪽  12,000  10,800    600점 (5%)  \n",
       "198  2021-02-20  104 쪽  12,000  10,800    600점 (5%)  \n",
       "199  2021-02-19  372 쪽  30,000  27,000  1,500점 (5%)  \n",
       "\n",
       "[150 rows x 8 columns]"
      ]
     },
     "execution_count": 394,
     "metadata": {},
     "output_type": "execute_result"
    }
   ],
   "source": [
    "df2 = pd.DataFrame(lines, columns=[\n",
    "    '책이름','저자', '역자', '출판일', '페이지수', '정가','할인가','적립마일리지'\n",
    "])\n",
    "\n",
    "df2.tail(150)"
   ]
  },
  {
   "cell_type": "code",
   "execution_count": 389,
   "metadata": {},
   "outputs": [],
   "source": [
    "df2.to_csv('한빛출판사_new_book.csv', index=False)"
   ]
  },
  {
   "cell_type": "code",
   "execution_count": null,
   "metadata": {},
   "outputs": [],
   "source": []
  }
 ],
 "metadata": {
  "interpreter": {
   "hash": "e3bde7f9be308a4ed5b677c98eb4e5423d8d4c39cb1152441ce9aa81adc70699"
  },
  "kernelspec": {
   "display_name": "Python 3.8.8 64-bit ('base': conda)",
   "language": "python",
   "name": "python3"
  },
  "language_info": {
   "codemirror_mode": {
    "name": "ipython",
    "version": 3
   },
   "file_extension": ".py",
   "mimetype": "text/x-python",
   "name": "python",
   "nbconvert_exporter": "python",
   "pygments_lexer": "ipython3",
   "version": "3.8.8"
  },
  "orig_nbformat": 4
 },
 "nbformat": 4,
 "nbformat_minor": 2
}
