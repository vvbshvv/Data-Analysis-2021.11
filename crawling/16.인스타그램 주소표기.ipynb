{
 "cells": [
  {
   "cell_type": "code",
   "execution_count": 72,
   "metadata": {},
   "outputs": [],
   "source": [
    "from selenium import webdriver\n",
    "from bs4 import BeautifulSoup\n",
    "import time\n",
    "import pandas as pd\n",
    "from urllib.parse import quote"
   ]
  },
  {
   "cell_type": "code",
   "execution_count": 73,
   "metadata": {},
   "outputs": [],
   "source": [
    "import unicodedata, re\n",
    "from tqdm.notebook import tqdm"
   ]
  },
  {
   "cell_type": "code",
   "execution_count": 74,
   "metadata": {},
   "outputs": [],
   "source": [
    "insta_url = 'https://www.instagram.com'\n",
    "driver = webdriver.Chrome('chromedriver.exe')\n",
    "driver.get(insta_url)\n",
    "time.sleep(3)"
   ]
  },
  {
   "cell_type": "markdown",
   "metadata": {},
   "source": [
    "### 로그인하기"
   ]
  },
  {
   "cell_type": "code",
   "execution_count": 75,
   "metadata": {},
   "outputs": [],
   "source": [
    "with open('password.txt') as f:\n",
    "    password = f.read()"
   ]
  },
  {
   "cell_type": "code",
   "execution_count": 76,
   "metadata": {},
   "outputs": [],
   "source": [
    "id_ = 'vvbshvv'\n",
    "input_id_=driver.find_element_by_css_selector('._2hvTZ.pexuQ.zyHYP')\n",
    "input_id_.clear()\n",
    "input_id_.send_keys(id_)"
   ]
  },
  {
   "cell_type": "code",
   "execution_count": 77,
   "metadata": {},
   "outputs": [],
   "source": [
    "input_pwd = driver.find_element_by_name('password')\n",
    "input_pwd.clear()\n",
    "input_pwd.send_keys(password)"
   ]
  },
  {
   "cell_type": "code",
   "execution_count": 78,
   "metadata": {},
   "outputs": [],
   "source": [
    "input_pwd.submit()\n",
    "time.sleep(2)"
   ]
  },
  {
   "cell_type": "code",
   "execution_count": 79,
   "metadata": {},
   "outputs": [],
   "source": [
    "#로그인 정보 저장 - 나중에하기\n",
    "try:\n",
    "    driver.find_element_by_css_selector('.sqdOP.yWX7d.y3zKF').click()\n",
    "    time.sleep(1)\n",
    "except:\n",
    "    pass"
   ]
  },
  {
   "cell_type": "code",
   "execution_count": 80,
   "metadata": {},
   "outputs": [],
   "source": [
    "#알림설정 - 나중에 하기\n",
    "try:\n",
    "    driver.find_element_by_css_selector('.aOOlW.HoLwm').click()\n",
    "    time.sleep(1)\n",
    "except:\n",
    "    pass"
   ]
  },
  {
   "cell_type": "markdown",
   "metadata": {},
   "source": [
    "### 제주맛집으로 검색"
   ]
  },
  {
   "cell_type": "code",
   "execution_count": 81,
   "metadata": {},
   "outputs": [
    {
     "data": {
      "text/plain": [
       "'https://www.instagram.com/explore/tags/%EC%A0%9C%EC%A3%BC%EB%A7%9B%EC%A7%91'"
      ]
     },
     "execution_count": 81,
     "metadata": {},
     "output_type": "execute_result"
    }
   ],
   "source": [
    "keyword = '제주맛집'\n",
    "search_url = 'https://www.instagram.com/explore/tags/'\n",
    "url = f'{search_url}{quote(keyword)}'\n",
    "url"
   ]
  },
  {
   "cell_type": "code",
   "execution_count": 82,
   "metadata": {},
   "outputs": [],
   "source": [
    "driver.get(url)\n",
    "time.sleep(5)"
   ]
  },
  {
   "cell_type": "code",
   "execution_count": 83,
   "metadata": {},
   "outputs": [],
   "source": [
    "# 첫번째 게시글 클릭\n",
    "driver.find_element_by_css_selector('._9AhH0').click()\n",
    "time.sleep(2)\n"
   ]
  },
  {
   "cell_type": "code",
   "execution_count": 84,
   "metadata": {},
   "outputs": [],
   "source": [
    "html = driver.page_source\n",
    "soup = BeautifulSoup(html, 'html.parser')"
   ]
  },
  {
   "cell_type": "code",
   "execution_count": 85,
   "metadata": {},
   "outputs": [
    {
     "data": {
      "text/plain": [
       "'.🌅제주 사계해변🌅제주에서 간조 때만 볼 수 있는 한국의 그랜드캐니언!😍이국적인 분위기의 국내에서 쉽게 볼 수 없는 암석해안이야곳곳이 다 실패없는 포토존이라 인생샷은 거뜬하당📷서귀포 여행코스로 필수~👍👍@같이 갈 사람 소환@주소: 제주 서귀포시 안덕면 사계리..#제주맛집 #제주도맛집 #제주공항근처맛집 #제주시맛집 #애월맛집 #중문맛집 #제주공항맛집 #서귀포맛집 #산방산맛집 #신제주맛집 #제주시청맛집 #제주애월맛집 #월정리맛집 #제주여행 #제주핫플'"
      ]
     },
     "execution_count": 85,
     "metadata": {},
     "output_type": "execute_result"
    }
   ],
   "source": [
    "# 본문내용가져오기\n",
    "try:\n",
    "    content = soup.select_one('.C4VMK > span').text\n",
    "    content = unicodedata.normalize('NFC',content)\n",
    "except:\n",
    "    content = ' '\n",
    "content"
   ]
  },
  {
   "cell_type": "code",
   "execution_count": 86,
   "metadata": {},
   "outputs": [
    {
     "data": {
      "text/plain": [
       "['#제주맛집',\n",
       " '#제주도맛집',\n",
       " '#제주공항근처맛집',\n",
       " '#제주시맛집',\n",
       " '#애월맛집',\n",
       " '#중문맛집',\n",
       " '#제주공항맛집',\n",
       " '#서귀포맛집',\n",
       " '#산방산맛집',\n",
       " '#신제주맛집',\n",
       " '#제주시청맛집',\n",
       " '#제주애월맛집',\n",
       " '#월정리맛집',\n",
       " '#제주여행',\n",
       " '#제주핫플']"
      ]
     },
     "execution_count": 86,
     "metadata": {},
     "output_type": "execute_result"
    }
   ],
   "source": [
    "# 본문 내용에서 해쉬태그 가져오기, '#[^\\s#,\\\\]+'\n",
    "tags = re.findall(r'#[^\\s#,\\\\]+',content)\n",
    "tags"
   ]
  },
  {
   "cell_type": "code",
   "execution_count": 87,
   "metadata": {},
   "outputs": [
    {
     "data": {
      "text/plain": [
       "'2021-12-08'"
      ]
     },
     "execution_count": 87,
     "metadata": {},
     "output_type": "execute_result"
    }
   ],
   "source": [
    "date = soup.select_one('time.FH9sR.Nzb55')['datetime'][:10]\n",
    "date"
   ]
  },
  {
   "cell_type": "code",
   "execution_count": 88,
   "metadata": {},
   "outputs": [
    {
     "data": {
      "text/plain": [
       "'1,139'"
      ]
     },
     "execution_count": 88,
     "metadata": {},
     "output_type": "execute_result"
    }
   ],
   "source": [
    "# 좋아요 수 가져오기\n",
    "try:\n",
    "    like = soup.select_one('div.Nm9Fw').text[4:-1]\n",
    "except:\n",
    "    like = 0\n",
    "like"
   ]
  },
  {
   "cell_type": "code",
   "execution_count": 89,
   "metadata": {},
   "outputs": [
    {
     "data": {
      "text/plain": [
       "''"
      ]
     },
     "execution_count": 89,
     "metadata": {},
     "output_type": "execute_result"
    }
   ],
   "source": [
    "# 5) 위치정보 가져오기\n",
    "try:\n",
    "    place = soup.select('div.M30cS')[0].text\n",
    "    place = unicodedata.normalize('NFC', place)\n",
    "except:\n",
    "    place = ''\n",
    "place"
   ]
  },
  {
   "cell_type": "code",
   "execution_count": 90,
   "metadata": {},
   "outputs": [
    {
     "ename": "SyntaxError",
     "evalue": "invalid syntax (<ipython-input-90-763e6b119100>, line 1)",
     "output_type": "error",
     "traceback": [
      "\u001b[1;36m  File \u001b[1;32m\"<ipython-input-90-763e6b119100>\"\u001b[1;36m, line \u001b[1;32m1\u001b[0m\n\u001b[1;33m    https://www.instagram.com/p/CXNG0yDhNU4/\u001b[0m\n\u001b[1;37m          ^\u001b[0m\n\u001b[1;31mSyntaxError\u001b[0m\u001b[1;31m:\u001b[0m invalid syntax\n"
     ]
    }
   ],
   "source": [
    "https://www.instagram.com/p/CXNG0yDhNU4/\n",
    "https://www.instagram.com/explore/locations/106283051203746/"
   ]
  },
  {
   "cell_type": "code",
   "execution_count": 93,
   "metadata": {},
   "outputs": [],
   "source": [
    "url = 'https://www.instagram.com'"
   ]
  },
  {
   "cell_type": "code",
   "execution_count": 94,
   "metadata": {},
   "outputs": [],
   "source": [
    "soup = BeautifulSoup(driver.page_source, 'html.parser')"
   ]
  },
  {
   "cell_type": "code",
   "execution_count": null,
   "metadata": {},
   "outputs": [],
   "source": []
  },
  {
   "cell_type": "code",
   "execution_count": 95,
   "metadata": {},
   "outputs": [
    {
     "ename": "TypeError",
     "evalue": "'NoneType' object is not subscriptable",
     "output_type": "error",
     "traceback": [
      "\u001b[1;31m---------------------------------------------------------------------------\u001b[0m",
      "\u001b[1;31mTypeError\u001b[0m                                 Traceback (most recent call last)",
      "\u001b[1;32m<ipython-input-95-f431a884fdff>\u001b[0m in \u001b[0;36m<module>\u001b[1;34m\u001b[0m\n\u001b[1;32m----> 1\u001b[1;33m \u001b[0mru\u001b[0m\u001b[1;33m=\u001b[0m\u001b[0msoup\u001b[0m\u001b[1;33m.\u001b[0m\u001b[0mselect_one\u001b[0m\u001b[1;33m(\u001b[0m\u001b[1;34m'a.O4GlU'\u001b[0m\u001b[1;33m)\u001b[0m\u001b[1;33m[\u001b[0m\u001b[1;34m'href'\u001b[0m\u001b[1;33m]\u001b[0m\u001b[1;33m\u001b[0m\u001b[1;33m\u001b[0m\u001b[0m\n\u001b[0m\u001b[0;32m      2\u001b[0m \u001b[0mru\u001b[0m\u001b[1;33m\u001b[0m\u001b[1;33m\u001b[0m\u001b[0m\n",
      "\u001b[1;31mTypeError\u001b[0m: 'NoneType' object is not subscriptable"
     ]
    }
   ],
   "source": [
    "ru=soup.select_one('a.O4GlU')['href']\n",
    "ru\n"
   ]
  },
  {
   "cell_type": "code",
   "execution_count": null,
   "metadata": {},
   "outputs": [
    {
     "ename": "KeyError",
     "evalue": "1",
     "output_type": "error",
     "traceback": [
      "\u001b[1;31m---------------------------------------------------------------------------\u001b[0m",
      "\u001b[1;31mKeyError\u001b[0m                                  Traceback (most recent call last)",
      "\u001b[1;32m<ipython-input-25-adbe5b38a453>\u001b[0m in \u001b[0;36m<module>\u001b[1;34m\u001b[0m\n\u001b[1;32m----> 1\u001b[1;33m \u001b[0mhref\u001b[0m\u001b[1;33m=\u001b[0m\u001b[0msoup\u001b[0m\u001b[1;33m[\u001b[0m\u001b[1;36m1\u001b[0m\u001b[1;33m]\u001b[0m\u001b[1;33m.\u001b[0m\u001b[0mfind\u001b[0m\u001b[1;33m(\u001b[0m\u001b[1;34m'a'\u001b[0m\u001b[1;33m)\u001b[0m\u001b[1;33m[\u001b[0m\u001b[1;34m'href'\u001b[0m\u001b[1;33m]\u001b[0m\u001b[1;33m\u001b[0m\u001b[1;33m\u001b[0m\u001b[0m\n\u001b[0m\u001b[0;32m      2\u001b[0m \u001b[0mhref\u001b[0m\u001b[1;33m\u001b[0m\u001b[1;33m\u001b[0m\u001b[0m\n\u001b[0;32m      3\u001b[0m \u001b[0msub_url\u001b[0m \u001b[1;33m=\u001b[0m \u001b[0murl\u001b[0m \u001b[1;33m+\u001b[0m \u001b[0mhref\u001b[0m\u001b[1;33m\u001b[0m\u001b[1;33m\u001b[0m\u001b[0m\n\u001b[0;32m      4\u001b[0m \u001b[0msub_url\u001b[0m\u001b[1;33m\u001b[0m\u001b[1;33m\u001b[0m\u001b[0m\n",
      "\u001b[1;32m~\\anaconda3\\lib\\site-packages\\bs4\\element.py\u001b[0m in \u001b[0;36m__getitem__\u001b[1;34m(self, key)\u001b[0m\n\u001b[0;32m   1404\u001b[0m         \"\"\"tag[key] returns the value of the 'key' attribute for the Tag,\n\u001b[0;32m   1405\u001b[0m         and throws an exception if it's not there.\"\"\"\n\u001b[1;32m-> 1406\u001b[1;33m         \u001b[1;32mreturn\u001b[0m \u001b[0mself\u001b[0m\u001b[1;33m.\u001b[0m\u001b[0mattrs\u001b[0m\u001b[1;33m[\u001b[0m\u001b[0mkey\u001b[0m\u001b[1;33m]\u001b[0m\u001b[1;33m\u001b[0m\u001b[1;33m\u001b[0m\u001b[0m\n\u001b[0m\u001b[0;32m   1407\u001b[0m \u001b[1;33m\u001b[0m\u001b[0m\n\u001b[0;32m   1408\u001b[0m     \u001b[1;32mdef\u001b[0m \u001b[0m__iter__\u001b[0m\u001b[1;33m(\u001b[0m\u001b[0mself\u001b[0m\u001b[1;33m)\u001b[0m\u001b[1;33m:\u001b[0m\u001b[1;33m\u001b[0m\u001b[1;33m\u001b[0m\u001b[0m\n",
      "\u001b[1;31mKeyError\u001b[0m: 1"
     ]
    }
   ],
   "source": [
    "href=soup[1].find('a')['href']\n",
    "href\n",
    "sub_url = url + href\n",
    "sub_url"
   ]
  },
  {
   "cell_type": "code",
   "execution_count": null,
   "metadata": {},
   "outputs": [
    {
     "ename": "NameError",
     "evalue": "name 'sub_url' is not defined",
     "output_type": "error",
     "traceback": [
      "\u001b[1;31m---------------------------------------------------------------------------\u001b[0m",
      "\u001b[1;31mNameError\u001b[0m                                 Traceback (most recent call last)",
      "\u001b[1;32m<ipython-input-2-af4330de4209>\u001b[0m in \u001b[0;36m<module>\u001b[1;34m\u001b[0m\n\u001b[0;32m      1\u001b[0m \u001b[1;31m#주소가져오기\u001b[0m\u001b[1;33m\u001b[0m\u001b[1;33m\u001b[0m\u001b[1;33m\u001b[0m\u001b[0m\n\u001b[0;32m      2\u001b[0m \u001b[1;32mimport\u001b[0m \u001b[0mrequests\u001b[0m\u001b[1;33m\u001b[0m\u001b[1;33m\u001b[0m\u001b[0m\n\u001b[1;32m----> 3\u001b[1;33m \u001b[0msub_req\u001b[0m \u001b[1;33m=\u001b[0m \u001b[0mrequests\u001b[0m\u001b[1;33m.\u001b[0m\u001b[0mget\u001b[0m\u001b[1;33m(\u001b[0m\u001b[0msub_url\u001b[0m\u001b[1;33m)\u001b[0m\u001b[1;33m\u001b[0m\u001b[1;33m\u001b[0m\u001b[0m\n\u001b[0m\u001b[0;32m      4\u001b[0m \u001b[0msub_html\u001b[0m \u001b[1;33m=\u001b[0m \u001b[0msub_req\u001b[0m\u001b[1;33m.\u001b[0m\u001b[0mtext\u001b[0m\u001b[1;33m\u001b[0m\u001b[1;33m\u001b[0m\u001b[0m\n\u001b[0;32m      5\u001b[0m \u001b[0msub_soup\u001b[0m \u001b[1;33m=\u001b[0m \u001b[0mBeautifulSoup\u001b[0m\u001b[1;33m(\u001b[0m\u001b[0msub_html\u001b[0m\u001b[1;33m,\u001b[0m \u001b[1;34m'html.parser'\u001b[0m\u001b[1;33m)\u001b[0m\u001b[1;33m\u001b[0m\u001b[1;33m\u001b[0m\u001b[0m\n",
      "\u001b[1;31mNameError\u001b[0m: name 'sub_url' is not defined"
     ]
    }
   ],
   "source": [
    "#주소가져오기\n",
    "import requests\n",
    "sub_req = requests.get(sub_url)\n",
    "sub_html = sub_req.text\n",
    "sub_soup = BeautifulSoup(sub_html, 'html.parser')"
   ]
  },
  {
   "cell_type": "code",
   "execution_count": null,
   "metadata": {},
   "outputs": [],
   "source": [
    "row = [content, date, like, place, tags]"
   ]
  },
  {
   "cell_type": "code",
   "execution_count": null,
   "metadata": {},
   "outputs": [],
   "source": [
    "#첫번째 게시글에서 다음글로이동\n",
    "driver.find_element_by_xpath('/html/body/div[6]/div[1]/div/div/div/button').click()\n",
    "time.sleep(2)"
   ]
  },
  {
   "cell_type": "code",
   "execution_count": null,
   "metadata": {},
   "outputs": [],
   "source": [
    "# 두번째 게시글에서 다음글로 이동\n",
    "driver.find_element_by_xpath('/html/body/div[6]/div[1]/div/div/div[2]/button').click()\n",
    "time.sleep(2)"
   ]
  },
  {
   "cell_type": "code",
   "execution_count": null,
   "metadata": {},
   "outputs": [],
   "source": [
    "# pop up화면을 없앰(x를 클릭)\n",
    "driver.find_element_by_xpath('/html/body/div[6]/div[3]/button').click()\n",
    "time.sleep(2)"
   ]
  },
  {
   "cell_type": "code",
   "execution_count": null,
   "metadata": {},
   "outputs": [],
   "source": [
    "def get_content(driver):\n",
    "    html = driver.page_source\n",
    "    soup = BeautifulSoup(html, 'html.parser')\n",
    "    \n",
    "    try:\n",
    "        content = soup.select_one('div.C4VMK > span').text\n",
    "        content = unicodedata.normalize('NFC', content)\n",
    "    except:\n",
    "        content = ' '\n",
    "    tags = re.findall(r'#[^\\s#,\\\\]+', content)\n",
    "    date = soup.select_one('time.FH9sR.Nzb55')['datetime'][:10]\n",
    "\n",
    "    try:\n",
    "        like = soup.select_one('div.Nm9Fw').text[4:-1]\n",
    "    except:\n",
    "        like = 0\n",
    "    try:\n",
    "        place = soup.select('div.M30cS')[0].text\n",
    "        place = unicodedata.normalize('NFC', place)\n",
    "    except:\n",
    "        place = ''\n",
    "\n",
    "    return [content, date, like, place, tags]"
   ]
  },
  {
   "cell_type": "code",
   "execution_count": null,
   "metadata": {},
   "outputs": [],
   "source": [
    "driver.find_element_by_css_selector('div._9AhH0').click()\n",
    "time.sleep(1)"
   ]
  },
  {
   "cell_type": "code",
   "execution_count": null,
   "metadata": {},
   "outputs": [
    {
     "data": {
      "application/vnd.jupyter.widget-view+json": {
       "model_id": "3ad38a10be4b4d7998507397609320af",
       "version_major": 2,
       "version_minor": 0
      },
      "text/plain": [
       "  0%|          | 0/500 [00:00<?, ?it/s]"
      ]
     },
     "metadata": {},
     "output_type": "display_data"
    }
   ],
   "source": [
    "#results = []\n",
    "for _ in tqdm(range(500)):\n",
    "    try:\n",
    "        row = get_content(driver)\n",
    "        results.append(row)\n",
    "        driver.find_element_by_xpath('/html/body/div[6]/div[1]/div/div/div[2]/button').click()\n",
    "        time.sleep(3)\n",
    "    except:\n",
    "        time.sleep(3)\n",
    "        driver.find_element_by_xpath('/html/body/div[6]/div[1]/div/div/div/button').click()\n",
    "        time.sleep(3)"
   ]
  },
  {
   "cell_type": "code",
   "execution_count": null,
   "metadata": {},
   "outputs": [],
   "source": [
    "driver.close()"
   ]
  },
  {
   "cell_type": "markdown",
   "metadata": {},
   "source": [
    "# 데이터프레임으로 만들고 중복 제거"
   ]
  },
  {
   "cell_type": "code",
   "execution_count": null,
   "metadata": {},
   "outputs": [
    {
     "data": {
      "text/html": [
       "<div>\n",
       "<style scoped>\n",
       "    .dataframe tbody tr th:only-of-type {\n",
       "        vertical-align: middle;\n",
       "    }\n",
       "\n",
       "    .dataframe tbody tr th {\n",
       "        vertical-align: top;\n",
       "    }\n",
       "\n",
       "    .dataframe thead th {\n",
       "        text-align: right;\n",
       "    }\n",
       "</style>\n",
       "<table border=\"1\" class=\"dataframe\">\n",
       "  <thead>\n",
       "    <tr style=\"text-align: right;\">\n",
       "      <th></th>\n",
       "      <th>content</th>\n",
       "      <th>date</th>\n",
       "      <th>like</th>\n",
       "      <th>place</th>\n",
       "      <th>tags</th>\n",
       "    </tr>\n",
       "  </thead>\n",
       "  <tbody>\n",
       "    <tr>\n",
       "      <th>0</th>\n",
       "      <td>제주 갈치요리하면 요기 !!!비주얼 최고맛집이라불리는 갈치요리맛집\"성산을본갈치\"성산...</td>\n",
       "      <td>2021-12-07</td>\n",
       "      <td>0</td>\n",
       "      <td></td>\n",
       "      <td>[#성산을본갈치주소]</td>\n",
       "    </tr>\n",
       "    <tr>\n",
       "      <th>1</th>\n",
       "      <td>🤍⁣⁣❣ 제주 서귀포 회맛집, \"김선장회센타\" ❣⁣⁣김선장SET으로 즐기는 다양하고...</td>\n",
       "      <td>2021-12-07</td>\n",
       "      <td>0</td>\n",
       "      <td></td>\n",
       "      <td>[#제주맛집, #제주회맛집, #제주회포장, #서귀포핫플, #서귀포횟집, #제주도횟집...</td>\n",
       "    </tr>\n",
       "    <tr>\n",
       "      <th>2</th>\n",
       "      <td>광고제주도에서 즐기는 랍스터만찬 랍스터빈 !!🔸주소 : 제주시 애월읍 애월해안로 7...</td>\n",
       "      <td>2021-12-06</td>\n",
       "      <td>0</td>\n",
       "      <td></td>\n",
       "      <td>[#애월맛집, #애월카페, #애월읍맛집, #제주애월맛집, #제주도맛집, #제주맛집,...</td>\n",
       "    </tr>\n",
       "    <tr>\n",
       "      <th>3</th>\n",
       "      <td>.🌅제주 사계해변🌅제주에서 간조 때만 볼 수 있는 한국의 그랜드캐니언!😍이국적인 분...</td>\n",
       "      <td>2021-12-08</td>\n",
       "      <td>1,065</td>\n",
       "      <td></td>\n",
       "      <td>[#제주맛집, #제주도맛집, #제주공항근처맛집, #제주시맛집, #애월맛집, #중문맛...</td>\n",
       "    </tr>\n",
       "    <tr>\n",
       "      <th>4</th>\n",
       "      <td>#제주맛집🍜제주도민선정맛집 ! 제주순메밀막국수🍜🎄직접 짜서 만드는 들기름으로 건강 ...</td>\n",
       "      <td>2021-12-08</td>\n",
       "      <td>0</td>\n",
       "      <td>제주순메밀막국수</td>\n",
       "      <td>[#제주맛집🍜제주도민선정맛집, #카멜리아힐맛집.밀가루, #안덕면맛집, #제주도서쪽맛...</td>\n",
       "    </tr>\n",
       "    <tr>\n",
       "      <th>...</th>\n",
       "      <td>...</td>\n",
       "      <td>...</td>\n",
       "      <td>...</td>\n",
       "      <td>...</td>\n",
       "      <td>...</td>\n",
       "    </tr>\n",
       "    <tr>\n",
       "      <th>495</th>\n",
       "      <td>줄서서 먹어도 행복하다는 역대급 수제버거로인기몰이중인! 성산 #브라보비치 🍔😋주문 ...</td>\n",
       "      <td>2021-12-08</td>\n",
       "      <td>저 좋아요를 눌러보세</td>\n",
       "      <td>브라보비치-제주</td>\n",
       "      <td>[#브라보비치, #제주도카페, #제주여행, #제주카페, #여행에미치다_제주, #제주...</td>\n",
       "    </tr>\n",
       "    <tr>\n",
       "      <th>496</th>\n",
       "      <td>(광고)인스타 광고 전문업체 플랜비컴퍼니입니다.현재 수백개의 업체 인스타 광고를 통...</td>\n",
       "      <td>2021-12-08</td>\n",
       "      <td>저 좋아요를 눌러보세</td>\n",
       "      <td></td>\n",
       "      <td>[#제주맛집, #제주도맛집, #부산맛집, #서면맛집, #천안맛집, #성산일출봉맛집,...</td>\n",
       "    </tr>\n",
       "    <tr>\n",
       "      <th>497</th>\n",
       "      <td>(광고)인스타 광고 전문업체 플랜비컴퍼니입니다.현재 수백개의 업체 인스타 광고를 통...</td>\n",
       "      <td>2021-12-08</td>\n",
       "      <td>2</td>\n",
       "      <td></td>\n",
       "      <td>[#제주맛집, #제주도맛집, #부산맛집, #서면맛집, #천안맛집, #성산일출봉맛집,...</td>\n",
       "    </tr>\n",
       "    <tr>\n",
       "      <th>498</th>\n",
       "      <td>(광고)인스타 광고 전문업체 플랜비컴퍼니입니다.현재 수백개의 업체 인스타 광고를 통...</td>\n",
       "      <td>2021-12-08</td>\n",
       "      <td>7</td>\n",
       "      <td></td>\n",
       "      <td>[#제주맛집, #제주도맛집, #부산맛집, #서면맛집, #천안맛집, #성산일출봉맛집,...</td>\n",
       "    </tr>\n",
       "    <tr>\n",
       "      <th>499</th>\n",
       "      <td>브런치 맛집..🤍🤍 인테리어, 감성, 식사 모든것이 완벽!  양송이스프, 베리뮤즐리...</td>\n",
       "      <td>2021-12-08</td>\n",
       "      <td>5</td>\n",
       "      <td>Cereal, 씨리얼</td>\n",
       "      <td>[#제주맛집, #한림맛집, #협재맛집, #제주브런치, #한림브런치, #협재브런치, ...</td>\n",
       "    </tr>\n",
       "  </tbody>\n",
       "</table>\n",
       "<p>500 rows × 5 columns</p>\n",
       "</div>"
      ],
      "text/plain": [
       "                                               content        date  \\\n",
       "0    제주 갈치요리하면 요기 !!!비주얼 최고맛집이라불리는 갈치요리맛집\"성산을본갈치\"성산...  2021-12-07   \n",
       "1    🤍⁣⁣❣ 제주 서귀포 회맛집, \"김선장회센타\" ❣⁣⁣김선장SET으로 즐기는 다양하고...  2021-12-07   \n",
       "2    광고제주도에서 즐기는 랍스터만찬 랍스터빈 !!🔸주소 : 제주시 애월읍 애월해안로 7...  2021-12-06   \n",
       "3    .🌅제주 사계해변🌅제주에서 간조 때만 볼 수 있는 한국의 그랜드캐니언!😍이국적인 분...  2021-12-08   \n",
       "4    #제주맛집🍜제주도민선정맛집 ! 제주순메밀막국수🍜🎄직접 짜서 만드는 들기름으로 건강 ...  2021-12-08   \n",
       "..                                                 ...         ...   \n",
       "495  줄서서 먹어도 행복하다는 역대급 수제버거로인기몰이중인! 성산 #브라보비치 🍔😋주문 ...  2021-12-08   \n",
       "496  (광고)인스타 광고 전문업체 플랜비컴퍼니입니다.현재 수백개의 업체 인스타 광고를 통...  2021-12-08   \n",
       "497  (광고)인스타 광고 전문업체 플랜비컴퍼니입니다.현재 수백개의 업체 인스타 광고를 통...  2021-12-08   \n",
       "498  (광고)인스타 광고 전문업체 플랜비컴퍼니입니다.현재 수백개의 업체 인스타 광고를 통...  2021-12-08   \n",
       "499  브런치 맛집..🤍🤍 인테리어, 감성, 식사 모든것이 완벽!  양송이스프, 베리뮤즐리...  2021-12-08   \n",
       "\n",
       "            like        place  \\\n",
       "0              0                \n",
       "1              0                \n",
       "2              0                \n",
       "3          1,065                \n",
       "4              0     제주순메밀막국수   \n",
       "..           ...          ...   \n",
       "495  저 좋아요를 눌러보세     브라보비치-제주   \n",
       "496  저 좋아요를 눌러보세                \n",
       "497            2                \n",
       "498            7                \n",
       "499            5  Cereal, 씨리얼   \n",
       "\n",
       "                                                  tags  \n",
       "0                                          [#성산을본갈치주소]  \n",
       "1    [#제주맛집, #제주회맛집, #제주회포장, #서귀포핫플, #서귀포횟집, #제주도횟집...  \n",
       "2    [#애월맛집, #애월카페, #애월읍맛집, #제주애월맛집, #제주도맛집, #제주맛집,...  \n",
       "3    [#제주맛집, #제주도맛집, #제주공항근처맛집, #제주시맛집, #애월맛집, #중문맛...  \n",
       "4    [#제주맛집🍜제주도민선정맛집, #카멜리아힐맛집.밀가루, #안덕면맛집, #제주도서쪽맛...  \n",
       "..                                                 ...  \n",
       "495  [#브라보비치, #제주도카페, #제주여행, #제주카페, #여행에미치다_제주, #제주...  \n",
       "496  [#제주맛집, #제주도맛집, #부산맛집, #서면맛집, #천안맛집, #성산일출봉맛집,...  \n",
       "497  [#제주맛집, #제주도맛집, #부산맛집, #서면맛집, #천안맛집, #성산일출봉맛집,...  \n",
       "498  [#제주맛집, #제주도맛집, #부산맛집, #서면맛집, #천안맛집, #성산일출봉맛집,...  \n",
       "499  [#제주맛집, #한림맛집, #협재맛집, #제주브런치, #한림브런치, #협재브런치, ...  \n",
       "\n",
       "[500 rows x 5 columns]"
      ]
     },
     "execution_count": 69,
     "metadata": {},
     "output_type": "execute_result"
    }
   ],
   "source": [
    "df = pd.DataFrame(results, columns=['content', 'date', 'like', 'place', 'tags'])\n",
    "df"
   ]
  }
 ],
 "metadata": {
  "interpreter": {
   "hash": "e3bde7f9be308a4ed5b677c98eb4e5423d8d4c39cb1152441ce9aa81adc70699"
  },
  "kernelspec": {
   "display_name": "Python 3.8.8 64-bit ('base': conda)",
   "language": "python",
   "name": "python3"
  },
  "language_info": {
   "codemirror_mode": {
    "name": "ipython",
    "version": 3
   },
   "file_extension": ".py",
   "mimetype": "text/x-python",
   "name": "python",
   "nbconvert_exporter": "python",
   "pygments_lexer": "ipython3",
   "version": "3.8.8"
  },
  "orig_nbformat": 4
 },
 "nbformat": 4,
 "nbformat_minor": 2
}
