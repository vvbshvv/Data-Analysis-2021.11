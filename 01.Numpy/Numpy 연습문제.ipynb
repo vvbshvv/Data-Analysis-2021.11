{
 "cells": [
  {
   "cell_type": "markdown",
   "metadata": {},
   "source": [
    "1. 넘파이를 사용하여 다음과 같은 행렬을 만드시오.\n",
    "10 20 30 40\n",
    "50 60 70 80"
   ]
  },
  {
   "cell_type": "code",
   "execution_count": 96,
   "metadata": {},
   "outputs": [
    {
     "data": {
      "text/plain": [
       "array([[10, 20, 30, 40],\n",
       "       [50, 60, 70, 80]])"
      ]
     },
     "execution_count": 96,
     "metadata": {},
     "output_type": "execute_result"
    }
   ],
   "source": [
    "import numpy as np\n",
    "a= np.arange(10,81,10).reshape(2,4)\n",
    "a"
   ]
  },
  {
   "cell_type": "markdown",
   "metadata": {},
   "source": [
    "2.다음    행렬과    같은   행렬이    있다.\n",
    "m = np.array([[ 0,  1,  2,  3,  4],\n",
    "[ 5,  6,  7,  8,  9], [10, 11, 12, 13, 14]])\n",
    "1) 이    행렬에서    값    7 을    인덱싱한다.\n",
    "2) 이    행렬에서    값    14 을    인덱싱한다.\n",
    "3) 이    행렬에서    배열   [6, 7] 을    슬라이싱한다.\n",
    "4) 이    행렬에서    배열   [7, 12] 을    슬라이싱한다.\n",
    "5) 이    행렬에서    배열   [[3, 4], [8, 9]] 을    슬라이싱한다."
   ]
  },
  {
   "cell_type": "code",
   "execution_count": 97,
   "metadata": {},
   "outputs": [
    {
     "data": {
      "text/plain": [
       "7"
      ]
     },
     "execution_count": 97,
     "metadata": {},
     "output_type": "execute_result"
    }
   ],
   "source": [
    "#2-1)\n",
    "m = np.array([[ 0,  1,  2,  3,  4],\n",
    "[ 5,  6,  7,  8,  9], [10, 11, 12, 13, 14]])\n",
    "m[1,2]\n",
    "\n"
   ]
  },
  {
   "cell_type": "code",
   "execution_count": 98,
   "metadata": {},
   "outputs": [
    {
     "data": {
      "text/plain": [
       "14"
      ]
     },
     "execution_count": 98,
     "metadata": {},
     "output_type": "execute_result"
    }
   ],
   "source": [
    "#2-2)\n",
    "m[2,4]"
   ]
  },
  {
   "cell_type": "code",
   "execution_count": 99,
   "metadata": {},
   "outputs": [
    {
     "data": {
      "text/plain": [
       "array([6, 7])"
      ]
     },
     "execution_count": 99,
     "metadata": {},
     "output_type": "execute_result"
    }
   ],
   "source": [
    "#2-3)\n",
    "m[1,1:3]"
   ]
  },
  {
   "cell_type": "code",
   "execution_count": 100,
   "metadata": {},
   "outputs": [
    {
     "data": {
      "text/plain": [
       "array([ 7, 12])"
      ]
     },
     "execution_count": 100,
     "metadata": {},
     "output_type": "execute_result"
    }
   ],
   "source": [
    "#2-4)\n",
    "m[1:,2]"
   ]
  },
  {
   "cell_type": "code",
   "execution_count": 101,
   "metadata": {},
   "outputs": [
    {
     "data": {
      "text/plain": [
       "array([[3, 4],\n",
       "       [8, 9]])"
      ]
     },
     "execution_count": 101,
     "metadata": {},
     "output_type": "execute_result"
    }
   ],
   "source": [
    "#2-5)\n",
    "m[:2,3:]"
   ]
  },
  {
   "cell_type": "markdown",
   "metadata": {},
   "source": [
    "3.  2번의    행렬    m을    1차원    벡터    f 로    변환한    후    다음의    문제를    푸시오.\n",
    "1) 이    배열에서    3의    배수를    찾아라.\n",
    "2) 이    배열에서    4로    나누면    1이    남는    수를    찾아라.\n",
    "3) 이    배열에서    3으로   나누면    나누어지고    4로    나누면    1이    남는    수를    찾아라"
   ]
  },
  {
   "cell_type": "code",
   "execution_count": 102,
   "metadata": {},
   "outputs": [
    {
     "data": {
      "text/plain": [
       "array([ 3,  6,  9, 12])"
      ]
     },
     "execution_count": 102,
     "metadata": {},
     "output_type": "execute_result"
    }
   ],
   "source": [
    "m = np.array([[ 0,  1,  2,  3,  4],\n",
    "[ 5,  6,  7,  8,  9], [10, 11, 12, 13, 14]])\n",
    "\n",
    "f= m.flatten()\n",
    "#3-1)\n",
    "f[3::3]"
   ]
  },
  {
   "cell_type": "code",
   "execution_count": 103,
   "metadata": {},
   "outputs": [
    {
     "data": {
      "text/plain": [
       "array([ 5,  9, 13])"
      ]
     },
     "execution_count": 103,
     "metadata": {},
     "output_type": "execute_result"
    }
   ],
   "source": [
    "#3-2)\n",
    "f[5::4]"
   ]
  },
  {
   "cell_type": "code",
   "execution_count": 104,
   "metadata": {},
   "outputs": [
    {
     "data": {
      "text/plain": [
       "13"
      ]
     },
     "execution_count": 104,
     "metadata": {},
     "output_type": "execute_result"
    }
   ],
   "source": [
    "#3-3)\n",
    "f[-2]"
   ]
  },
  {
   "cell_type": "markdown",
   "metadata": {},
   "source": [
    "4. 값을    직접    입력하지    말고 우측의    행렬을    만드시오."
   ]
  },
  {
   "cell_type": "code",
   "execution_count": 105,
   "metadata": {},
   "outputs": [
    {
     "data": {
      "text/plain": [
       "array([[2, 1, 0, 0, 0],\n",
       "       [3, 2, 1, 0, 0],\n",
       "       [0, 3, 2, 1, 0],\n",
       "       [0, 0, 3, 2, 1],\n",
       "       [0, 0, 0, 3, 2]], dtype=int16)"
      ]
     },
     "execution_count": 105,
     "metadata": {},
     "output_type": "execute_result"
    }
   ],
   "source": [
    "a =np.eye(N=5, M=5, k=1,dtype=np.int16)\n",
    "b =np.eye(N=5, M=5, k=-1,dtype=np.int16)\n",
    "c=np.eye(N=5, M=5, k=0,dtype=np.int16)\n",
    "a+3*b+2*c"
   ]
  },
  {
   "cell_type": "markdown",
   "metadata": {},
   "source": [
    "5. 0에서    10까지    랜덤   실수값으로    이루어진    5 x 6 형태의    데이터    행렬을    만들고    이    데이터에 대해    다음과    같은   값을    구하시오.\n",
    "1) 전체의    최댓값\n",
    "2) 각    행의    합\n",
    "3) 각    행의    최댓값\n",
    "4) 각    열의    평균\n",
    "5) 각    열의    최솟값"
   ]
  },
  {
   "cell_type": "code",
   "execution_count": 106,
   "metadata": {},
   "outputs": [
    {
     "data": {
      "text/plain": [
       "array([[8.08894869, 7.44827803, 1.51470425, 8.79774053, 9.54295712,\n",
       "        2.44597428],\n",
       "       [7.9314458 , 4.20118825, 3.7371429 , 1.77041585, 6.50476411,\n",
       "        7.41552007],\n",
       "       [0.27210674, 7.90293116, 1.3875216 , 6.47264952, 0.53536697,\n",
       "        1.00251535],\n",
       "       [6.87725396, 6.07782146, 7.46642189, 1.60178026, 3.05540263,\n",
       "        8.10871701],\n",
       "       [5.12509929, 3.76998315, 1.01124077, 1.98604498, 1.51562185,\n",
       "        2.07949996]])"
      ]
     },
     "execution_count": 106,
     "metadata": {},
     "output_type": "execute_result"
    }
   ],
   "source": [
    "a = np.random.uniform(0,10,30).reshape(5,6)\n",
    "a"
   ]
  },
  {
   "cell_type": "code",
   "execution_count": 107,
   "metadata": {},
   "outputs": [
    {
     "data": {
      "text/plain": [
       "9.542957115219908"
      ]
     },
     "execution_count": 107,
     "metadata": {},
     "output_type": "execute_result"
    }
   ],
   "source": [
    "#5-1)\n",
    "a.max()"
   ]
  },
  {
   "cell_type": "code",
   "execution_count": 108,
   "metadata": {},
   "outputs": [
    {
     "data": {
      "text/plain": [
       "array([37.8386029 , 31.56047698, 17.57309134, 33.18739722, 15.48749   ])"
      ]
     },
     "execution_count": 108,
     "metadata": {},
     "output_type": "execute_result"
    }
   ],
   "source": [
    "#5-2)\n",
    "a.sum(axis=1)"
   ]
  },
  {
   "cell_type": "code",
   "execution_count": 109,
   "metadata": {},
   "outputs": [
    {
     "data": {
      "text/plain": [
       "array([4, 0, 1, 5, 0], dtype=int64)"
      ]
     },
     "execution_count": 109,
     "metadata": {},
     "output_type": "execute_result"
    }
   ],
   "source": [
    "#5-3)\n",
    "a.argmax(axis=1)"
   ]
  },
  {
   "cell_type": "code",
   "execution_count": 110,
   "metadata": {},
   "outputs": [
    {
     "data": {
      "text/plain": [
       "array([5.6589709 , 5.88004041, 3.02340628, 4.12572623, 4.23082253,\n",
       "       4.21044533])"
      ]
     },
     "execution_count": 110,
     "metadata": {},
     "output_type": "execute_result"
    }
   ],
   "source": [
    "#5-4)\n",
    "a.sum(axis=0) / len(a)"
   ]
  },
  {
   "cell_type": "code",
   "execution_count": 111,
   "metadata": {},
   "outputs": [
    {
     "data": {
      "text/plain": [
       "array([2, 4, 4, 3, 2, 2], dtype=int64)"
      ]
     },
     "execution_count": 111,
     "metadata": {},
     "output_type": "execute_result"
    }
   ],
   "source": [
    "#5-5)\n",
    "a.argmin(axis=0)"
   ]
  },
  {
   "cell_type": "markdown",
   "metadata": {},
   "source": [
    " 6.다음    배열은    첫번째    행(row)에    학번, 두번째    행에   영어    성적, 세번째    행에    수학   성적을    적은 배열이다. 영어    성적을    기준으로    각    열(column)을    재정렬하시오.\n",
    "array([[  1,    2,    3,    4], [ 46,   99,  100,   71], [ 81,   59,   90,  100]])"
   ]
  },
  {
   "cell_type": "code",
   "execution_count": 160,
   "metadata": {},
   "outputs": [
    {
     "data": {
      "text/plain": [
       "array([[  1,   4,   2,   3],\n",
       "       [ 46,  71,  99, 100],\n",
       "       [ 81, 100,  59,  90]])"
      ]
     },
     "execution_count": 160,
     "metadata": {},
     "output_type": "execute_result"
    }
   ],
   "source": [
    "a=np.array([[1,2,3,4], [46,99,100,71], [81,59,90,100]])\n",
    "b= a[:,a[1].argsort(axis=0)]\n",
    "b"
   ]
  },
  {
   "cell_type": "markdown",
   "metadata": {},
   "source": [
    "7. 주사위를    100번    던지는    가상    실험을    파이썬으로    작성하고, 던져서    나오는    숫자의    평균을    구하시오."
   ]
  },
  {
   "cell_type": "code",
   "execution_count": 112,
   "metadata": {},
   "outputs": [
    {
     "name": "stdout",
     "output_type": "stream",
     "text": [
      "6.0\n",
      "3.5\n",
      "4.0\n",
      "4.5\n",
      "4.6\n",
      "4.5\n",
      "4.0\n",
      "3.75\n",
      "3.7777777777777777\n",
      "3.8\n",
      "3.8181818181818183\n",
      "3.5833333333333335\n",
      "3.3846153846153846\n",
      "3.5714285714285716\n",
      "3.6\n",
      "3.625\n",
      "3.764705882352941\n",
      "3.7777777777777777\n",
      "3.6842105263157894\n",
      "3.55\n",
      "3.5238095238095237\n",
      "3.5\n",
      "3.391304347826087\n",
      "3.2916666666666665\n",
      "3.2\n",
      "3.076923076923077\n",
      "3.111111111111111\n",
      "3.107142857142857\n",
      "3.0\n",
      "2.966666666666667\n",
      "2.870967741935484\n",
      "2.84375\n",
      "2.8181818181818183\n",
      "2.8823529411764706\n",
      "2.8857142857142857\n",
      "2.8055555555555554\n",
      "2.864864864864865\n",
      "2.8157894736842106\n",
      "2.7948717948717947\n",
      "2.8\n",
      "2.7560975609756095\n",
      "2.7142857142857144\n",
      "2.6744186046511627\n",
      "2.6136363636363638\n",
      "2.6222222222222222\n",
      "2.6739130434782608\n",
      "2.6808510638297873\n",
      "2.75\n",
      "2.7346938775510203\n",
      "2.7\n",
      "2.7058823529411766\n",
      "2.730769230769231\n",
      "2.6792452830188678\n",
      "2.740740740740741\n",
      "2.8\n",
      "2.8214285714285716\n",
      "2.807017543859649\n",
      "2.8448275862068964\n",
      "2.847457627118644\n",
      "2.8333333333333335\n",
      "2.80327868852459\n",
      "2.806451612903226\n",
      "2.857142857142857\n",
      "2.84375\n",
      "2.876923076923077\n",
      "2.8333333333333335\n",
      "2.8805970149253732\n",
      "2.8529411764705883\n",
      "2.8260869565217392\n",
      "2.842857142857143\n",
      "2.887323943661972\n",
      "2.875\n",
      "2.9178082191780823\n",
      "2.918918918918919\n",
      "2.92\n",
      "2.8947368421052633\n",
      "2.883116883116883\n",
      "2.871794871794872\n",
      "2.8354430379746836\n",
      "2.8\n",
      "2.814814814814815\n",
      "2.7804878048780486\n",
      "2.7710843373493974\n",
      "2.7857142857142856\n",
      "2.8\n",
      "2.8255813953488373\n",
      "2.8045977011494254\n",
      "2.840909090909091\n",
      "2.8764044943820224\n",
      "2.8555555555555556\n",
      "2.8351648351648353\n",
      "2.869565217391304\n",
      "2.89247311827957\n",
      "2.904255319148936\n",
      "2.9157894736842107\n",
      "2.90625\n",
      "2.88659793814433\n",
      "2.877551020408163\n",
      "2.8686868686868685\n",
      "2.88\n",
      "2.891089108910891\n"
     ]
    }
   ],
   "source": [
    "sum_1=0\n",
    "for i in range(1,102):\n",
    "    a = np.random.randint(0,7)\n",
    "    sum_1+=a\n",
    "    print(sum_1/i)"
   ]
  },
  {
   "cell_type": "code",
   "execution_count": null,
   "metadata": {},
   "outputs": [],
   "source": []
  },
  {
   "cell_type": "code",
   "execution_count": null,
   "metadata": {},
   "outputs": [],
   "source": []
  }
 ],
 "metadata": {
  "interpreter": {
   "hash": "e3bde7f9be308a4ed5b677c98eb4e5423d8d4c39cb1152441ce9aa81adc70699"
  },
  "kernelspec": {
   "display_name": "Python 3.8.8 64-bit ('base': conda)",
   "language": "python",
   "name": "python3"
  },
  "language_info": {
   "codemirror_mode": {
    "name": "ipython",
    "version": 3
   },
   "file_extension": ".py",
   "mimetype": "text/x-python",
   "name": "python",
   "nbconvert_exporter": "python",
   "pygments_lexer": "ipython3",
   "version": "3.8.8"
  },
  "orig_nbformat": 4
 },
 "nbformat": 4,
 "nbformat_minor": 2
}
